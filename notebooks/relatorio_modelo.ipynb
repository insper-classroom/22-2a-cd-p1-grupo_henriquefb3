{
 "cells": [
  {
   "cell_type": "markdown",
   "metadata": {},
   "source": [
    "# Projeto 1 - Ciência dos Dados"
   ]
  },
  {
   "cell_type": "markdown",
   "metadata": {},
   "source": [
    "Nome: Eduardo Selber Castanho\n",
    "\n",
    "Nome: Henrique Fazzio Badin"
   ]
  },
  {
   "cell_type": "markdown",
   "metadata": {},
   "source": [
    "Atenção: Serão permitidos grupos de três pessoas, mas com uma rubrica mais exigente. Grupos deste tamanho precisarão fazer um questionário de avaliação de trabalho em equipe"
   ]
  },
  {
   "cell_type": "markdown",
   "metadata": {},
   "source": [
    "___\n",
    "Carregando algumas bibliotecas:"
   ]
  },
  {
   "cell_type": "code",
   "execution_count": 181,
   "metadata": {},
   "outputs": [],
   "source": [
    "%matplotlib inline\n",
    "import pandas as pd\n",
    "import matplotlib.pyplot as plt\n",
    "import numpy as np\n",
    "import os"
   ]
  },
  {
   "cell_type": "code",
   "execution_count": 182,
   "metadata": {
    "scrolled": false
   },
   "outputs": [
    {
     "name": "stdout",
     "output_type": "stream",
     "text": [
      "Esperamos trabalhar no diretório\n",
      "c:\\Users\\henri\\OneDrive\\Desktop\\PYTHON\\CDados\\Trabalho 1\\22-2a-cd-p1-grupo_henriquefb3\\notebooks\n"
     ]
    }
   ],
   "source": [
    "print('Esperamos trabalhar no diretório')\n",
    "print(os.getcwd())"
   ]
  },
  {
   "cell_type": "markdown",
   "metadata": {},
   "source": [
    "Carregando a base de dados com as notícias classificadas manualmente:"
   ]
  },
  {
   "cell_type": "code",
   "execution_count": 183,
   "metadata": {},
   "outputs": [],
   "source": [
    "filename = 'dados.xlsx'"
   ]
  },
  {
   "cell_type": "code",
   "execution_count": 184,
   "metadata": {},
   "outputs": [
    {
     "data": {
      "text/html": [
       "<div>\n",
       "<style scoped>\n",
       "    .dataframe tbody tr th:only-of-type {\n",
       "        vertical-align: middle;\n",
       "    }\n",
       "\n",
       "    .dataframe tbody tr th {\n",
       "        vertical-align: top;\n",
       "    }\n",
       "\n",
       "    .dataframe thead th {\n",
       "        text-align: right;\n",
       "    }\n",
       "</style>\n",
       "<table border=\"1\" class=\"dataframe\">\n",
       "  <thead>\n",
       "    <tr style=\"text-align: right;\">\n",
       "      <th></th>\n",
       "      <th>Titulo</th>\n",
       "      <th>Descrição</th>\n",
       "      <th>Pagina</th>\n",
       "      <th>Target</th>\n",
       "      <th>Unnamed: 4</th>\n",
       "      <th>Unnamed: 5</th>\n",
       "    </tr>\n",
       "  </thead>\n",
       "  <tbody>\n",
       "    <tr>\n",
       "      <th>0</th>\n",
       "      <td>CoinFLEX demite funcionários em meio a disputa...</td>\n",
       "      <td>A conturbada corretora de criptomoedas CoinFLE...</td>\n",
       "      <td>12</td>\n",
       "      <td>1</td>\n",
       "      <td>NaN</td>\n",
       "      <td>283.0</td>\n",
       "    </tr>\n",
       "    <tr>\n",
       "      <th>1</th>\n",
       "      <td>O que dar de presente neste Natal para alguém ...</td>\n",
       "      <td>Está em busca de um presente legal para um ent...</td>\n",
       "      <td>83</td>\n",
       "      <td>0</td>\n",
       "      <td>NaN</td>\n",
       "      <td>NaN</td>\n",
       "    </tr>\n",
       "    <tr>\n",
       "      <th>2</th>\n",
       "      <td>Direto de El Salvador: duas perguntas para o m...</td>\n",
       "      <td>O maximalista de bitcoin Max Keiser abriu as a...</td>\n",
       "      <td>91</td>\n",
       "      <td>0</td>\n",
       "      <td>NaN</td>\n",
       "      <td>NaN</td>\n",
       "    </tr>\n",
       "    <tr>\n",
       "      <th>3</th>\n",
       "      <td>Lamborghini de R$ 630 mil do falso Rei do Bitc...</td>\n",
       "      <td>Começa na próxima sexta-feira (22) o leilão de...</td>\n",
       "      <td>15</td>\n",
       "      <td>0</td>\n",
       "      <td>NaN</td>\n",
       "      <td>NaN</td>\n",
       "    </tr>\n",
       "    <tr>\n",
       "      <th>4</th>\n",
       "      <td>Nubank usou R$ 140 milhões para comprar até 10...</td>\n",
       "      <td>Com R$ 14 bilhões em caixa, conforme o último ...</td>\n",
       "      <td>35</td>\n",
       "      <td>1</td>\n",
       "      <td>NaN</td>\n",
       "      <td>NaN</td>\n",
       "    </tr>\n",
       "  </tbody>\n",
       "</table>\n",
       "</div>"
      ],
      "text/plain": [
       "                                              Titulo  \\\n",
       "0  CoinFLEX demite funcionários em meio a disputa...   \n",
       "1  O que dar de presente neste Natal para alguém ...   \n",
       "2  Direto de El Salvador: duas perguntas para o m...   \n",
       "3  Lamborghini de R$ 630 mil do falso Rei do Bitc...   \n",
       "4  Nubank usou R$ 140 milhões para comprar até 10...   \n",
       "\n",
       "                                           Descrição  Pagina  Target  \\\n",
       "0  A conturbada corretora de criptomoedas CoinFLE...      12       1   \n",
       "1  Está em busca de um presente legal para um ent...      83       0   \n",
       "2  O maximalista de bitcoin Max Keiser abriu as a...      91       0   \n",
       "3  Começa na próxima sexta-feira (22) o leilão de...      15       0   \n",
       "4  Com R$ 14 bilhões em caixa, conforme o último ...      35       1   \n",
       "\n",
       "   Unnamed: 4  Unnamed: 5  \n",
       "0         NaN       283.0  \n",
       "1         NaN         NaN  \n",
       "2         NaN         NaN  \n",
       "3         NaN         NaN  \n",
       "4         NaN         NaN  "
      ]
     },
     "execution_count": 184,
     "metadata": {},
     "output_type": "execute_result"
    }
   ],
   "source": [
    "train = pd.read_excel(filename, sheet_name = 'Treinamento')\n",
    "train.head(5)"
   ]
  },
  {
   "cell_type": "code",
   "execution_count": 185,
   "metadata": {},
   "outputs": [
    {
     "data": {
      "text/html": [
       "<div>\n",
       "<style scoped>\n",
       "    .dataframe tbody tr th:only-of-type {\n",
       "        vertical-align: middle;\n",
       "    }\n",
       "\n",
       "    .dataframe tbody tr th {\n",
       "        vertical-align: top;\n",
       "    }\n",
       "\n",
       "    .dataframe thead th {\n",
       "        text-align: right;\n",
       "    }\n",
       "</style>\n",
       "<table border=\"1\" class=\"dataframe\">\n",
       "  <thead>\n",
       "    <tr style=\"text-align: right;\">\n",
       "      <th></th>\n",
       "      <th>Titulo</th>\n",
       "      <th>Descrição</th>\n",
       "      <th>Pagina</th>\n",
       "      <th>Target</th>\n",
       "    </tr>\n",
       "  </thead>\n",
       "  <tbody>\n",
       "    <tr>\n",
       "      <th>0</th>\n",
       "      <td>O estranho caso dos blocos ‘vazios’ na blockch...</td>\n",
       "      <td>Um evento incomum aconteceu na rede do Bitcoin...</td>\n",
       "      <td>57</td>\n",
       "      <td>0</td>\n",
       "    </tr>\n",
       "    <tr>\n",
       "      <th>1</th>\n",
       "      <td>Alívio do bitcoin sugere que pior fase do inve...</td>\n",
       "      <td>Após um mês de consolidação, o preço do bitcoi...</td>\n",
       "      <td>13</td>\n",
       "      <td>0</td>\n",
       "    </tr>\n",
       "    <tr>\n",
       "      <th>2</th>\n",
       "      <td>Lei que proíbe pagamentos com bitcoin na Rússi...</td>\n",
       "      <td>O Parlamento da Rússia, conhecido como Duma, a...</td>\n",
       "      <td>27</td>\n",
       "      <td>0</td>\n",
       "    </tr>\n",
       "    <tr>\n",
       "      <th>3</th>\n",
       "      <td>Manhã Cripto: Projeto de Lei que regula cripto...</td>\n",
       "      <td>Com a regulação dos criptoativos no foco de in...</td>\n",
       "      <td>30</td>\n",
       "      <td>1</td>\n",
       "    </tr>\n",
       "    <tr>\n",
       "      <th>4</th>\n",
       "      <td>A semana das criptomoedas: ethereum (ETH) em d...</td>\n",
       "      <td>Embora muitas criptomoedas tenham caído nos úl...</td>\n",
       "      <td>16</td>\n",
       "      <td>1</td>\n",
       "    </tr>\n",
       "  </tbody>\n",
       "</table>\n",
       "</div>"
      ],
      "text/plain": [
       "                                              Titulo  \\\n",
       "0  O estranho caso dos blocos ‘vazios’ na blockch...   \n",
       "1  Alívio do bitcoin sugere que pior fase do inve...   \n",
       "2  Lei que proíbe pagamentos com bitcoin na Rússi...   \n",
       "3  Manhã Cripto: Projeto de Lei que regula cripto...   \n",
       "4  A semana das criptomoedas: ethereum (ETH) em d...   \n",
       "\n",
       "                                           Descrição  Pagina  Target  \n",
       "0  Um evento incomum aconteceu na rede do Bitcoin...      57       0  \n",
       "1  Após um mês de consolidação, o preço do bitcoi...      13       0  \n",
       "2  O Parlamento da Rússia, conhecido como Duma, a...      27       0  \n",
       "3  Com a regulação dos criptoativos no foco de in...      30       1  \n",
       "4  Embora muitas criptomoedas tenham caído nos úl...      16       1  "
      ]
     },
     "execution_count": 185,
     "metadata": {},
     "output_type": "execute_result"
    }
   ],
   "source": [
    "test = pd.read_excel(filename, sheet_name = 'Teste')\n",
    "test.head(5)"
   ]
  },
  {
   "cell_type": "markdown",
   "metadata": {},
   "source": [
    "___\n",
    "## Classificador automático\n"
   ]
  },
  {
   "cell_type": "markdown",
   "metadata": {},
   "source": [
    "As criptomoedas é um assunto que anda muito em pauta atualmente, gerando cada vez mais interesse das pessoas em investi-las, mas como todo investidor precisa ser consciente e para isso é necessário acompanhar notícias sobre as atualizações do valor dessas moedas, porém existe muitas notícias, que embora sejam desse assunto não mencionam diretamente o valor delas. Desse modo, decidimos criar um classificador de notícias para que investidores possam analisar quais notícias são relevantes na hora de tomar uma decisão se vão investir nelas ou não."
   ]
  },
  {
   "cell_type": "markdown",
   "metadata": {},
   "source": [
    "___\n",
    "### Montando um Classificador Naive-Bayes\n",
    "\n",
    "Considerando apenas as mensagens da planilha Treinamento, ensine  seu classificador."
   ]
  },
  {
   "cell_type": "markdown",
   "metadata": {},
   "source": [
    "1) Primeiramente, integrasse todos os títulos de notícias presentes na planilha de treinamento em um texto utilizando-se um ***for***."
   ]
  },
  {
   "cell_type": "code",
   "execution_count": 186,
   "metadata": {},
   "outputs": [],
   "source": [
    "texto=''\n",
    "for i in range(0,540):\n",
    "    texto+=train['Titulo'][i]+' '"
   ]
  },
  {
   "cell_type": "markdown",
   "metadata": {},
   "source": [
    "2) Após isso, cria-se uma função para fazer a limpeza de um texto."
   ]
  },
  {
   "cell_type": "code",
   "execution_count": 187,
   "metadata": {},
   "outputs": [],
   "source": [
    "import re \n",
    "\n",
    "\n",
    "def cleanup(text):\n",
    "\n",
    "    punctuation = '[!-.:?;]'\n",
    "    pattern = re.compile(punctuation)\n",
    "    text_subbed = re.sub(pattern, '', text)\n",
    "    return text_subbed"
   ]
  },
  {
   "cell_type": "markdown",
   "metadata": {},
   "source": [
    "3) Em seguida, aplica-se a função ***cleanup()***, criada no passo 1, no texto desenvolvido no passo 2. Faz-se isso para retirar todas as \"impurezas\" do texto que podem afetar o aprendizado do classificador."
   ]
  },
  {
   "cell_type": "code",
   "execution_count": 188,
   "metadata": {},
   "outputs": [],
   "source": [
    "texto_f=cleanup(texto)"
   ]
  },
  {
   "cell_type": "markdown",
   "metadata": {},
   "source": [
    "4) Em sequência, fez-se um texto contendo todos os títulos de notícias consideradas relevantes e, logo após isso, um texto que continha todos os textos marcados como irrelevantes."
   ]
  },
  {
   "cell_type": "code",
   "execution_count": 189,
   "metadata": {},
   "outputs": [],
   "source": [
    "dados_relevantes=train.loc[train['Target']==1,:]\n",
    "texto_relevantes=''\n",
    "for i in dados_relevantes['Titulo']:\n",
    "    texto_relevantes+=i+' '\n",
    "texto_relevantes_f=cleanup(texto_relevantes)\n",
    "\n",
    "dados_irrelevantes=train.loc[train['Target']==0,:]\n",
    "texto_irrelevantes=''\n",
    "for i in dados_irrelevantes['Titulo']:\n",
    "    texto_irrelevantes+=i+' '\n",
    "texto_irrelevantes_f=cleanup(texto_irrelevantes)"
   ]
  },
  {
   "cell_type": "markdown",
   "metadata": {},
   "source": [
    "5) Após isso, criaram-se duas tabelas, uma com todas as palavras relevantes e uma com todas as irrelevantes. Dessa forma, a partir da função ***value.counts()***, é possível saber a quantidade de vezes que uma palavra aparece no texto, tanto em valores brutos como em valores relativos."
   ]
  },
  {
   "cell_type": "code",
   "execution_count": 190,
   "metadata": {},
   "outputs": [],
   "source": [
    "#Tabela com todas as palavras presente no texto de palavras relevantes:\n",
    "\n",
    "todas_dados_relevantes=texto_relevantes_f.split()\n",
    "serie_relevante = pd.Series(todas_dados_relevantes)\n",
    "\n",
    "#Tabela que apresenta o valor total de vezes que uma palavra aparece na tabela construída acima:\n",
    "\n",
    "tabela_relevante=serie_relevante.value_counts()\n",
    "\n",
    "#Tabela que apresenta o valor relativo de vezes que uma palavra aparece no texto de palavras relevantes:\n",
    "\n",
    "tabela_relevante_rel=serie_relevante.value_counts(True)\n"
   ]
  },
  {
   "cell_type": "code",
   "execution_count": 191,
   "metadata": {},
   "outputs": [],
   "source": [
    "#Tabela com todas as palavras presente no texto de palavras irrelevantes:\n",
    "\n",
    "todas_dados_irrelevantes=texto_irrelevantes_f.split()\n",
    "serie_irrelevante = pd.Series(todas_dados_irrelevantes)\n",
    "\n",
    "#Tabela que apresenta o valor total de vezes que uma palavra aparece na tabela construída acima:\n",
    "\n",
    "tabela_irrelevante=serie_irrelevante.value_counts()\n",
    "\n",
    "#Tabela que apresenta o valor relativo de vezes que uma palavra aparece no texto de palavras irrelevantes:\n",
    "\n",
    "tabela_irrelevante_rel=serie_irrelevante.value_counts(True)\n"
   ]
  },
  {
   "cell_type": "markdown",
   "metadata": {},
   "source": [
    "6) Faz-se a mesma coisa para o texto que possui todas as palavras."
   ]
  },
  {
   "cell_type": "code",
   "execution_count": 192,
   "metadata": {},
   "outputs": [],
   "source": [
    "todas_texto=texto_f.split()\n",
    "serie_todas=pd.Series(todas_texto)\n",
    "tabela_todas=serie_todas.value_counts()\n",
    "tabela_todas_rel=serie_todas.value_counts(True)"
   ]
  },
  {
   "cell_type": "markdown",
   "metadata": {},
   "source": [
    "7) No suavizador de Laplace além de ter que dividir a quantidade da palavra aparecer mais um pelo total de palavras da categoria, como relevante, por exemplo, também é necessário dividir pelo total de termos dos títulos em que os elementos das frases aparecem. Desse modo, foi criada função ***matrizes()***, a qual irá incluir várias listas, que cada uma apresentará uma lista de quais palavra estão inclusas no título, facilitando na hora de realizar o processo de análise de quais títulos apresentam algum termo presente na frase que será classificada. Essa função foi feita com a utilização de dois ***while***, seno o primeiro para adicionar os títulos da base de dados em uma lista vazia e o segundo para fazer o ***cleanup()*** da lista e o split dela para assim adicioná-la na matriz."
   ]
  },
  {
   "cell_type": "code",
   "execution_count": 193,
   "metadata": {},
   "outputs": [],
   "source": [
    "def matrizes(dados):\n",
    "    i=0\n",
    "    lista=[]\n",
    "    while i<len(dados):\n",
    "        lista.append(dados[i])\n",
    "        i+=1\n",
    "    matriz=[] \n",
    "    for i in lista:\n",
    "        frase_ma=cleanup(i)\n",
    "        frase_matriz=frase_ma.split()\n",
    "        matriz.append(frase_matriz)\n",
    "    return matriz\n",
    "matriz=matrizes(train['Titulo'])"
   ]
  },
  {
   "cell_type": "markdown",
   "metadata": {},
   "source": [
    "8) Por fim, desenvolve-se o código de uma função relativo ao cálculo da probabilidade de um texto ser considerado relevante ou irrelevante adicionando um mecanísmo chamado ***Suavizador de Laplace***. Basicamente, esse código permitirá o classificador criar uma previsão em relação à qual a probabilidade de um texto ser considerado relevante ou irrelevante mesmo que ele apresente palavras que não se encontram na base de dados da planilha ***Treinamento***. Caso esse suavizador não seja adicionado ao código e uma palavra que não está na base de dados seja escolhida, a probabilidade de esse texto ser tanto relevante como irrelevante é nula, o que resultaria num erro."
   ]
  },
  {
   "cell_type": "code",
   "execution_count": 194,
   "metadata": {},
   "outputs": [],
   "source": [
    "def classificador(frase):\n",
    "    frase_2=cleanup(frase)\n",
    "    frase_f=frase_2.split()\n",
    "    probFraseDadoR=1\n",
    "    x=0\n",
    "    y=0\n",
    "    probFraseDadoI=1\n",
    "    lista=[]\n",
    "    tanafrase=True\n",
    "    tanafrasei=True\n",
    "    for i in frase_f:\n",
    "        if i not in tabela_relevante:\n",
    "            tanafrase=False\n",
    "            \n",
    "        if i not in tabela_irrelevante:\n",
    "            tanafrasei=False\n",
    "        \n",
    "    for i in frase_f:\n",
    "        \n",
    "        for c in matriz:\n",
    "            if i in c:\n",
    "                \n",
    "                lista.append(c)\n",
    "               \n",
    "    res = []\n",
    "    track = []\n",
    "    count = 0\n",
    "  \n",
    "    for sub in lista:\n",
    "        res.append([]);\n",
    "        for ele in sub:\n",
    "            if ele not in track:\n",
    "                res[count].append(ele)\n",
    "                track.append(ele)\n",
    "    c=0\n",
    "    for number in res:\n",
    "        c+=len(number)\n",
    "\n",
    "    for word in frase_f:\n",
    "        if not tanafrase:\n",
    "            if word in tabela_relevante_rel:\n",
    "                x=(tabela_relevante_rel[word]*len(todas_dados_relevantes))+1\n",
    "                probFraseDadoR=probFraseDadoR*(x/(len(todas_texto)+c))\n",
    "            else:\n",
    "                probFraseDadoR=probFraseDadoR*(1/(len(todas_texto)+c))\n",
    "        if not tanafrasei:\n",
    "            if word in tabela_irrelevante_rel:\n",
    "                y=(tabela_irrelevante_rel[word]*len(todas_dados_irrelevantes))+1\n",
    "                probFraseDadoI=probFraseDadoI*(y/(len(todas_texto)+c))\n",
    "            else:\n",
    "                probFraseDadoI=probFraseDadoI*(1/(len(todas_texto)+c))\n",
    "            \n",
    "        if tanafrasei:\n",
    "            probFraseDadoI=probFraseDadoI*tabela_irrelevante_rel[word]\n",
    "    \n",
    "        if tanafrase:\n",
    "            probFraseDadoR=probFraseDadoR*tabela_relevante_rel[word]\n",
    "\n",
    "    if probFraseDadoR>probFraseDadoI:\n",
    "        return ('Relevante')\n",
    "    else:\n",
    "        return ('Irrelevante')"
   ]
  },
  {
   "cell_type": "markdown",
   "metadata": {},
   "source": [
    "#### Extra\n",
    "\n",
    "Teste para observar se o funcionamento está correto com uma notícia aleatória da internet:"
   ]
  },
  {
   "cell_type": "code",
   "execution_count": 195,
   "metadata": {},
   "outputs": [
    {
     "data": {
      "text/plain": [
       "'Irrelevante'"
      ]
     },
     "execution_count": 195,
     "metadata": {},
     "output_type": "execute_result"
    }
   ],
   "source": [
    "classificador('Goleiro Bruno diz que perdeu R$ 50 mil para Faraó do Bitcoin')"
   ]
  },
  {
   "cell_type": "markdown",
   "metadata": {},
   "source": [
    "___\n",
    "### Verificando a performance do Classificador\n",
    "\n",
    "Agora você deve testar o seu classificador com a base de Testes."
   ]
  },
  {
   "cell_type": "code",
   "execution_count": 196,
   "metadata": {},
   "outputs": [
    {
     "name": "stderr",
     "output_type": "stream",
     "text": [
      "C:\\Users\\henri\\AppData\\Local\\Temp\\ipykernel_27332\\1794038698.py:22: SettingWithCopyWarning: \n",
      "A value is trying to be set on a copy of a slice from a DataFrame\n",
      "\n",
      "See the caveats in the documentation: https://pandas.pydata.org/pandas-docs/stable/user_guide/indexing.html#returning-a-view-versus-a-copy\n",
      "  test['Target teste'][c]=0\n"
     ]
    }
   ],
   "source": [
    "matriz2=matrizes(test['Titulo'])\n",
    "listax=[]\n",
    "\n",
    "test['Target teste']=test['Target']\n",
    "\n",
    "listax=[]\n",
    "c=0\n",
    "test['Target teste']=test['Target']\n",
    "\n",
    "resultado=''\n",
    "for i in matriz2:\n",
    "    frase_teste=''\n",
    "    for letra in i:\n",
    "        frase_teste+=letra+' '\n",
    "    resultado=classificador(frase_teste)\n",
    "    \n",
    "    if resultado=='relevante':\n",
    "        listax.append(1)\n",
    "        test['Target teste'][c]=1\n",
    "        \n",
    "    elif resultado=='Irrelevante':\n",
    "        test['Target teste'][c]=0\n",
    "        listax.append(0)\n",
    "    c+=1\n"
   ]
  },
  {
   "cell_type": "markdown",
   "metadata": {},
   "source": [
    "O teste de qualidade, observa quantas vezes a categoria da target feita manualmente coincidiu com a target feita pelo código. Esse processo foi feito a partir da criação de um contador e da utilização de um ‘while’ que iria percorrer toda a base de dados e quando o valor das target coincidiam, que para ver isso foi utilizado apenas um ‘if’, somava 1 no contador. No final dividia o valor do contador pelo total de linhas da base de dados, de tal modo que obtida a porcentagem de confiança, ou seja, de quantas vezes o classificador acertou. "
   ]
  },
  {
   "cell_type": "code",
   "execution_count": 197,
   "metadata": {},
   "outputs": [
    {
     "name": "stdout",
     "output_type": "stream",
     "text": [
      "A porcentagem de acerto da previsão do código é de: 95.56%\n"
     ]
    }
   ],
   "source": [
    "count=0\n",
    "certas=0\n",
    "while count<len(test):\n",
    "    if test['Target'][count]==test['Target teste'][count]:\n",
    "        certas+=1\n",
    "    count+=1\n",
    "print('A porcentagem de acerto da previsão do código é de: {:.2f}%'.format((certas/count)*100))"
   ]
  },
  {
   "cell_type": "markdown",
   "metadata": {},
   "source": [
    "___\n",
    "### Concluindo"
   ]
  },
  {
   "cell_type": "markdown",
   "metadata": {},
   "source": [
    "Concluindo, o classificador de Naive-Bayes, apesar de apresentar uma boa precisão quando aprimorado com o processo de suavização de Laplace, porém, ele ainda assim apresenta algumas limitações.\n",
    "\n",
    "A primeira limitação que esse sistema demonstra é o de não ser capaz de gerar mais amostras de treinamento por sí só, já que, como sua base de dados é limitada, os títulos girariam sempre entorno de uma mesma base, o que não permite uma grande expansão na sua capacidade de classificação.\n",
    "\n",
    "Além disso, o classificador pode ser melhorado para ser mais preciso em suas previsões, como, por exemplo, com a implementação de um código de stemização das palavras ou com a utilização de um código de lematização. \n",
    "\n",
    "A Stemização é um processo no qual as palavras estudadas são reduzidas ao seu radical. Esse processo pode ser muito útil para o classificador, uma vez que, ao invés de estar comparando palavras completas que podem possuir diferenças em apenas uma letra mas apresentam a mesma informação, o código faria uma comparação entre o radical dessas palavras, permitindo uma precisão maior. Por exemplo, se o título de uma notícia relevante fosse \"Cachorros para adoção nas faculdades\" e o título entregado ao classificador fosse \"Cachorro pra adoção na faculdade\", o classificador normalmente daria a notícia como irrelevante, porém, com a stemização, essa notícia entraria para a lista de relevantes.\n",
    "\n",
    "Já na Lematização também tenta-se reduzir as palavras à sua raiz, mas esse corte sempre gera uma palavra qu existe na gramática. Ou seja, todas as palavras seriam reduzidas à palavra que origina ela. Por exemplo, a palavra lançamento seria reduzida para lançar, perfurmar para perfume, etc. Dessa forma, assim como na stemização, caso houvesse alguma alteração pequena entre os títulos analisados, não faria qualquer diferença para o cálculo da probabilidade final. \n",
    "\n",
    "Para implementar entender como essas modificações, é possível encontrar uma explicação no site da empresa Alura, por exemplo, assim como em diversos outros sites na internet.\n",
    "\n",
    "Outorssim, é que o classificador pode ser melhorado através de uma expansão da base de dados, ou seja, da tabela de relevância e irrelevância das moedas, de tal modo que seja instalado mais base de dados de outras fontes de notícia, como o ‘isto é’. Além disso, também pode ser melhorado ao expandir os conceitos das targets em muito relevante ou muito irrelevante, para dar uma possibilidade do usuário em saber quais ele deve dar ainda mais atenção e quais podem ser completamente ignoradas.\n",
    "\n",
    "Por fim, podemos encontrar também muitos pontos positivos no classificador de Naive-Bayes. Um deles, por exemplo, é na sua facilidade de implementação em diversos contextos. Entre esses cenários estão, por exemplo: Possível auxílio médico de classificações de doenças para o paciente de acordo com as informações de sintomas que ele apresenta; Classificação de possíveis fake news por meio da relação entre palavras chaves presentes na notícia analisada e outras notícias falsas; Pode até mesmo ser util para auxiliar na previsão do tempo, uma vez que pode comparar as condições climáticas do dia analisado, como umidade, pressão e temperatura, e relacionar com o que aconteceu em outros dias que apresentaram circunstâncias similares de uma base de dados. "
   ]
  },
  {
   "cell_type": "markdown",
   "metadata": {},
   "source": [
    "___\n",
    "### Qualidade do Classificador a partir de novas separações das notícias entre Treinamento e Teste\n",
    "\n",
    "Caso for fazer esse item do Projeto"
   ]
  },
  {
   "cell_type": "code",
   "execution_count": null,
   "metadata": {},
   "outputs": [],
   "source": [
    "\n"
   ]
  },
  {
   "cell_type": "code",
   "execution_count": null,
   "metadata": {},
   "outputs": [],
   "source": []
  },
  {
   "cell_type": "code",
   "execution_count": null,
   "metadata": {},
   "outputs": [],
   "source": []
  },
  {
   "cell_type": "markdown",
   "metadata": {},
   "source": [
    "___\n",
    "## Aperfeiçoamento:\n",
    "\n",
    "Trabalhos que conseguirem pelo menos conceito B vão evoluir em conceito dependendo da quantidade de itens avançados:\n",
    "\n",
    "* IMPLEMENTOU outras limpezas e transformações que não afetem a qualidade da informação contida nas notícias. Ex: stemming, lemmatization, stopwords\n",
    "* CONSIDEROU mais de duas caterogias na variável Target e INCREMENTOU a quantidade de notícias, mantendo pelo menos 250 notícias por caterogia (OBRIGATÓRIO PARA TRIOS, sem contar como item avançado)\n",
    "* Para Target com duas categorias: CRIOU pelo menos quatro categorias intermediárias de relevância baseadas na probabilidade: ex.: muito relevante, relevante, neutro, irrelevante, muito irrelevante\n",
    "* EXPLICOU porquê não pode usar o próprio classificador para gerar mais amostras de treinamento\n",
    "* PROPÔS diferentes cenários para Naïve Bayes fora do contexto do projeto (pelo menos dois cenários, exceto aqueles já apresentados em sala pelos professores: por exemplo, filtro de spam)\n",
    "* SUGERIU e EXPLICOU melhorias reais com indicações concretas de como implementar (indicar como fazer e indicar material de pesquisa)\n",
    "* FEZ o item Qualidade do Classificador a partir de novas separações das Notícias entre Treinamento e Teste descrito no enunciado do projeto (OBRIGATÓRIO para conceitos A ou A+)"
   ]
  },
  {
   "cell_type": "markdown",
   "metadata": {},
   "source": [
    "___\n",
    "## Referências"
   ]
  },
  {
   "cell_type": "markdown",
   "metadata": {},
   "source": [
    "[Naive Bayes and Text Classification](https://arxiv.org/pdf/1410.5329.pdf)  **Mais completo**\n",
    "\n",
    "[A practical explanation of a Naive Bayes Classifier](https://monkeylearn.com/blog/practical-explanation-naive-bayes-classifier/) **Mais simples**"
   ]
  },
  {
   "cell_type": "code",
   "execution_count": null,
   "metadata": {},
   "outputs": [],
   "source": []
  }
 ],
 "metadata": {
  "kernelspec": {
   "display_name": "Python 3 (ipykernel)",
   "language": "python",
   "name": "python3"
  },
  "language_info": {
   "codemirror_mode": {
    "name": "ipython",
    "version": 3
   },
   "file_extension": ".py",
   "mimetype": "text/x-python",
   "name": "python",
   "nbconvert_exporter": "python",
   "pygments_lexer": "ipython3",
   "version": "3.9.7"
  },
  "vscode": {
   "interpreter": {
    "hash": "b4dbf65eb2934af93dfe8402dc5043295a9b874b2f4a935919e1627f38520e4d"
   }
  }
 },
 "nbformat": 4,
 "nbformat_minor": 4
}
