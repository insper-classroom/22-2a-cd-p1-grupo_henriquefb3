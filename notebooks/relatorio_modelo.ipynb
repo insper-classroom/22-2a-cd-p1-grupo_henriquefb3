{
 "cells": [
  {
   "cell_type": "markdown",
   "metadata": {},
   "source": [
    "# Projeto 1 - Ciência dos Dados"
   ]
  },
  {
   "cell_type": "markdown",
   "metadata": {},
   "source": [
    "Nome: __Eduardo Selber Castanho___\n",
    "\n",
    "Nome: __Henrique Fazio Badin___"
   ]
  },
  {
   "cell_type": "markdown",
   "metadata": {},
   "source": [
    "Atenção: Serão permitidos grupos de três pessoas, mas com uma rubrica mais exigente. Grupos deste tamanho precisarão fazer um questionário de avaliação de trabalho em equipe"
   ]
  },
  {
   "cell_type": "markdown",
   "metadata": {},
   "source": [
    "___\n",
    "Carregando algumas bibliotecas:"
   ]
  },
  {
   "cell_type": "code",
   "execution_count": 12,
   "metadata": {},
   "outputs": [],
   "source": [
    "%matplotlib inline\n",
    "import pandas as pd\n",
    "import matplotlib.pyplot as plt\n",
    "import numpy as np\n",
    "import os"
   ]
  },
  {
   "cell_type": "code",
   "execution_count": 13,
   "metadata": {
    "scrolled": false
   },
   "outputs": [
    {
     "name": "stdout",
     "output_type": "stream",
     "text": [
      "Esperamos trabalhar no diretório\n",
      "C:\\Users\\eduse\\Downloads\\22-2a-cd-p1-grupo_henriquefb3\\notebooks\n"
     ]
    }
   ],
   "source": [
    "print('Esperamos trabalhar no diretório')\n",
    "print(os.getcwd())"
   ]
  },
  {
   "cell_type": "markdown",
   "metadata": {},
   "source": [
    "Carregando a base de dados com as notícias classificadas manualmente:"
   ]
  },
  {
   "cell_type": "code",
   "execution_count": 14,
   "metadata": {},
   "outputs": [],
   "source": [
    "filename = 'dados_com target (1).xlsx'"
   ]
  },
  {
   "cell_type": "code",
   "execution_count": 17,
   "metadata": {},
   "outputs": [
    {
     "data": {
      "text/html": [
       "<div>\n",
       "<style scoped>\n",
       "    .dataframe tbody tr th:only-of-type {\n",
       "        vertical-align: middle;\n",
       "    }\n",
       "\n",
       "    .dataframe tbody tr th {\n",
       "        vertical-align: top;\n",
       "    }\n",
       "\n",
       "    .dataframe thead th {\n",
       "        text-align: right;\n",
       "    }\n",
       "</style>\n",
       "<table border=\"1\" class=\"dataframe\">\n",
       "  <thead>\n",
       "    <tr style=\"text-align: right;\">\n",
       "      <th></th>\n",
       "      <th>Titulo</th>\n",
       "      <th>Descrição</th>\n",
       "      <th>Pagina</th>\n",
       "      <th>Target</th>\n",
       "      <th>Unnamed: 4</th>\n",
       "      <th>Unnamed: 5</th>\n",
       "    </tr>\n",
       "  </thead>\n",
       "  <tbody>\n",
       "    <tr>\n",
       "      <th>0</th>\n",
       "      <td>CoinFLEX demite funcionários em meio a disputa...</td>\n",
       "      <td>A conturbada corretora de criptomoedas CoinFLE...</td>\n",
       "      <td>12</td>\n",
       "      <td>1</td>\n",
       "      <td>NaN</td>\n",
       "      <td>283.0</td>\n",
       "    </tr>\n",
       "    <tr>\n",
       "      <th>1</th>\n",
       "      <td>O que dar de presente neste Natal para alguém ...</td>\n",
       "      <td>Está em busca de um presente legal para um ent...</td>\n",
       "      <td>83</td>\n",
       "      <td>0</td>\n",
       "      <td>NaN</td>\n",
       "      <td>NaN</td>\n",
       "    </tr>\n",
       "    <tr>\n",
       "      <th>2</th>\n",
       "      <td>Direto de El Salvador: duas perguntas para o m...</td>\n",
       "      <td>O maximalista de bitcoin Max Keiser abriu as a...</td>\n",
       "      <td>91</td>\n",
       "      <td>0</td>\n",
       "      <td>NaN</td>\n",
       "      <td>NaN</td>\n",
       "    </tr>\n",
       "    <tr>\n",
       "      <th>3</th>\n",
       "      <td>Lamborghini de R$ 630 mil do falso Rei do Bitc...</td>\n",
       "      <td>Começa na próxima sexta-feira (22) o leilão de...</td>\n",
       "      <td>15</td>\n",
       "      <td>0</td>\n",
       "      <td>NaN</td>\n",
       "      <td>NaN</td>\n",
       "    </tr>\n",
       "    <tr>\n",
       "      <th>4</th>\n",
       "      <td>Nubank usou R$ 140 milhões para comprar até 10...</td>\n",
       "      <td>Com R$ 14 bilhões em caixa, conforme o último ...</td>\n",
       "      <td>35</td>\n",
       "      <td>1</td>\n",
       "      <td>NaN</td>\n",
       "      <td>NaN</td>\n",
       "    </tr>\n",
       "  </tbody>\n",
       "</table>\n",
       "</div>"
      ],
      "text/plain": [
       "                                              Titulo  \\\n",
       "0  CoinFLEX demite funcionários em meio a disputa...   \n",
       "1  O que dar de presente neste Natal para alguém ...   \n",
       "2  Direto de El Salvador: duas perguntas para o m...   \n",
       "3  Lamborghini de R$ 630 mil do falso Rei do Bitc...   \n",
       "4  Nubank usou R$ 140 milhões para comprar até 10...   \n",
       "\n",
       "                                           Descrição  Pagina  Target  \\\n",
       "0  A conturbada corretora de criptomoedas CoinFLE...      12       1   \n",
       "1  Está em busca de um presente legal para um ent...      83       0   \n",
       "2  O maximalista de bitcoin Max Keiser abriu as a...      91       0   \n",
       "3  Começa na próxima sexta-feira (22) o leilão de...      15       0   \n",
       "4  Com R$ 14 bilhões em caixa, conforme o último ...      35       1   \n",
       "\n",
       "   Unnamed: 4  Unnamed: 5  \n",
       "0         NaN       283.0  \n",
       "1         NaN         NaN  \n",
       "2         NaN         NaN  \n",
       "3         NaN         NaN  \n",
       "4         NaN         NaN  "
      ]
     },
     "execution_count": 17,
     "metadata": {},
     "output_type": "execute_result"
    }
   ],
   "source": [
    "train = pd.read_excel(filename, sheet_name = 'Treinamento')\n",
    "dados=train\n",
    "train.head(5)"
   ]
  },
  {
   "cell_type": "code",
   "execution_count": 18,
   "metadata": {},
   "outputs": [
    {
     "data": {
      "text/html": [
       "<div>\n",
       "<style scoped>\n",
       "    .dataframe tbody tr th:only-of-type {\n",
       "        vertical-align: middle;\n",
       "    }\n",
       "\n",
       "    .dataframe tbody tr th {\n",
       "        vertical-align: top;\n",
       "    }\n",
       "\n",
       "    .dataframe thead th {\n",
       "        text-align: right;\n",
       "    }\n",
       "</style>\n",
       "<table border=\"1\" class=\"dataframe\">\n",
       "  <thead>\n",
       "    <tr style=\"text-align: right;\">\n",
       "      <th></th>\n",
       "      <th>Titulo</th>\n",
       "      <th>Descrição</th>\n",
       "      <th>Pagina</th>\n",
       "      <th>Target</th>\n",
       "    </tr>\n",
       "  </thead>\n",
       "  <tbody>\n",
       "    <tr>\n",
       "      <th>0</th>\n",
       "      <td>O estranho caso dos blocos ‘vazios’ na blockch...</td>\n",
       "      <td>Um evento incomum aconteceu na rede do Bitcoin...</td>\n",
       "      <td>57</td>\n",
       "      <td>0.0</td>\n",
       "    </tr>\n",
       "    <tr>\n",
       "      <th>1</th>\n",
       "      <td>Alívio do bitcoin sugere que pior fase do inve...</td>\n",
       "      <td>Após um mês de consolidação, o preço do bitcoi...</td>\n",
       "      <td>13</td>\n",
       "      <td>NaN</td>\n",
       "    </tr>\n",
       "    <tr>\n",
       "      <th>2</th>\n",
       "      <td>Lei que proíbe pagamentos com bitcoin na Rússi...</td>\n",
       "      <td>O Parlamento da Rússia, conhecido como Duma, a...</td>\n",
       "      <td>27</td>\n",
       "      <td>0.0</td>\n",
       "    </tr>\n",
       "    <tr>\n",
       "      <th>3</th>\n",
       "      <td>Manhã Cripto: Projeto de Lei que regula cripto...</td>\n",
       "      <td>Com a regulação dos criptoativos no foco de in...</td>\n",
       "      <td>30</td>\n",
       "      <td>1.0</td>\n",
       "    </tr>\n",
       "    <tr>\n",
       "      <th>4</th>\n",
       "      <td>A semana das criptomoedas: ethereum (ETH) em d...</td>\n",
       "      <td>Embora muitas criptomoedas tenham caído nos úl...</td>\n",
       "      <td>16</td>\n",
       "      <td>1.0</td>\n",
       "    </tr>\n",
       "  </tbody>\n",
       "</table>\n",
       "</div>"
      ],
      "text/plain": [
       "                                              Titulo  \\\n",
       "0  O estranho caso dos blocos ‘vazios’ na blockch...   \n",
       "1  Alívio do bitcoin sugere que pior fase do inve...   \n",
       "2  Lei que proíbe pagamentos com bitcoin na Rússi...   \n",
       "3  Manhã Cripto: Projeto de Lei que regula cripto...   \n",
       "4  A semana das criptomoedas: ethereum (ETH) em d...   \n",
       "\n",
       "                                           Descrição  Pagina  Target  \n",
       "0  Um evento incomum aconteceu na rede do Bitcoin...      57     0.0  \n",
       "1  Após um mês de consolidação, o preço do bitcoi...      13     NaN  \n",
       "2  O Parlamento da Rússia, conhecido como Duma, a...      27     0.0  \n",
       "3  Com a regulação dos criptoativos no foco de in...      30     1.0  \n",
       "4  Embora muitas criptomoedas tenham caído nos úl...      16     1.0  "
      ]
     },
     "execution_count": 18,
     "metadata": {},
     "output_type": "execute_result"
    }
   ],
   "source": [
    "test = pd.read_excel(filename, sheet_name = 'Teste')\n",
    "test.head(5)"
   ]
  },
  {
   "cell_type": "markdown",
   "metadata": {},
   "source": [
    "___\n",
    "## Classificador automático\n"
   ]
  },
  {
   "cell_type": "markdown",
   "metadata": {},
   "source": [
    "Faça aqui uma descrição do seu assunto e o que considerou como relevante ou não relevante na classificação das notícias (Target).\n",
    "\n",
    "O assunto selcionado foi as criptomoedas, mas especificamente a bitcoin e essas notícias foram classificadas seguindo o critério de como elas afetam diretamente o valor dela, sendo as relevantes as que mencionam isso. "
   ]
  },
  {
   "cell_type": "markdown",
   "metadata": {},
   "source": [
    "___\n",
    "### Montando um Classificador Naive-Bayes\n",
    "\n",
    "Considerando apenas as mensagens da planilha Treinamento, ensine  seu classificador."
   ]
  },
  {
   "cell_type": "code",
   "execution_count": 19,
   "metadata": {},
   "outputs": [],
   "source": [
    "texto=''\n",
    "for i in range(0,540):\n",
    "    texto+=dados['Titulo'][i]+' '"
   ]
  },
  {
   "cell_type": "code",
   "execution_count": 20,
   "metadata": {},
   "outputs": [],
   "source": [
    "import re \n",
    "\n",
    "\n",
    "def cleanup(text):\n",
    "    \"\"\"\n",
    "        Função de limpeza muito simples que troca alguns sinais básicos por espaços\n",
    "    \"\"\"\n",
    "    #import string\n",
    "    punctuation = '[!-.:?;]' # Note que os sinais [] são delimitadores de um conjunto.\n",
    "    pattern = re.compile(punctuation)\n",
    "    text_subbed = re.sub(pattern, '', text)\n",
    "    return text_subbed\n",
    "texto_f=cleanup(texto)"
   ]
  },
  {
   "cell_type": "code",
   "execution_count": 21,
   "metadata": {},
   "outputs": [],
   "source": [
    "dados_relevantes=dados.loc[dados['Target']==1,:]\n",
    "texto_relevantes=''\n",
    "for i in dados_relevantes['Titulo']:\n",
    "    texto_relevantes+=i+' '\n",
    "texto_relevantes_f=cleanup(texto_relevantes)\n",
    "dados_irelevantes=dados.loc[dados['Target']==0,:]\n",
    "texto_irelevantes=''\n",
    "for i in dados_irelevantes['Titulo']:\n",
    "    texto_irelevantes+=i+' '\n",
    "texto_irelevantes_f=cleanup(texto_irelevantes)\n",
    "todas_dados_relevantes=texto_relevantes_f.split()\n",
    "serie_relevante = pd.Series(todas_dados_relevantes)\n",
    "todas_dados_irelevantes=texto_irelevantes_f.split()\n",
    "serie_irelevante = pd.Series(todas_dados_irelevantes)\n",
    "tabela_relevante=serie_relevante.value_counts()\n",
    "tabela_irelevante=serie_irelevante.value_counts()\n",
    "tabela_relevante_rel=serie_relevante.value_counts(True)\n",
    "tabela_irelevante_rel=serie_irelevante.value_counts(True)\n",
    "todas_texto=texto_f.split()\n",
    "serie_todas=pd.Series(todas_texto)\n",
    "tabela_todas=serie_todas.value_counts()\n",
    "tabela_todas_rel=serie_todas.value_counts(True)\n"
   ]
  },
  {
   "cell_type": "code",
   "execution_count": 22,
   "metadata": {},
   "outputs": [],
   "source": [
    "def matrizes(dados):\n",
    "    i=0\n",
    "    lista=[]\n",
    "    while i<len(dados):\n",
    "        lista.append(dados[i])\n",
    "        i+=1\n",
    "    matriz=[] \n",
    "    for i in lista:\n",
    "        frase_ma=cleanup(i)\n",
    "        frase_matriz=frase_ma.split()\n",
    "        matriz.append(frase_matriz)\n",
    "    return matriz\n",
    "matriz=matrizes(dados['Titulo'])"
   ]
  },
  {
   "cell_type": "code",
   "execution_count": 23,
   "metadata": {},
   "outputs": [],
   "source": [
    "def go20(frase,matrizl):\n",
    "    frase_2=cleanup(frase)\n",
    "    frase_f=frase_2.split()\n",
    "    probFraseDadoR=1\n",
    "    x=0\n",
    "    y=0\n",
    "    probFraseDadoI=1\n",
    "    lista=[]\n",
    "    tanafrase=True\n",
    "    tanafrasei=True\n",
    "    for i in frase_f:\n",
    "        if i not in tabela_relevante:\n",
    "            tanafrase=False\n",
    "            \n",
    "        if i not in tabela_irelevante:\n",
    "            tanafrasei=False\n",
    "        \n",
    "    for i in frase_f:\n",
    "        \n",
    "        for c in matrizl:\n",
    "            if i in c:\n",
    "                \n",
    "                lista.append(c)\n",
    "               \n",
    "    res = []\n",
    "    track = []\n",
    "    count = 0\n",
    "  \n",
    "    for sub in lista:\n",
    "        res.append([]);\n",
    "        for ele in sub:\n",
    "            if ele not in track:\n",
    "                res[count].append(ele)\n",
    "                track.append(ele)\n",
    "    c=0\n",
    "    for number in res:\n",
    "        c+=len(number)\n",
    "\n",
    "    for word in frase_f:\n",
    "        if not tanafrase:\n",
    "            if word in tabela_relevante_rel:\n",
    "                x=(tabela_relevante_rel[word]*len(todas_dados_relevantes))+1\n",
    "                probFraseDadoR=probFraseDadoR*(x/(len(todas_texto)+c))\n",
    "            else:\n",
    "                probFraseDadoR=probFraseDadoR*(1/(len(todas_texto)+c))\n",
    "        if not tanafrasei:\n",
    "            if word in tabela_irelevante_rel:\n",
    "                y=(tabela_irelevante_rel[word]*len(todas_dados_irelevantes))+1\n",
    "                probFraseDadoI=probFraseDadoI*(y/(len(todas_texto)+c))\n",
    "            else:\n",
    "                probFraseDadoI=probFraseDadoI*(1/(len(todas_texto)+c))\n",
    "            \n",
    "        if tanafrasei:\n",
    "            probFraseDadoI=probFraseDadoI*tabela_irelevante_rel[word]\n",
    "    \n",
    "        if tanafrase:\n",
    "            probFraseDadoR=probFraseDadoR*tabela_relevante_rel[word]\n",
    "\n",
    "    if probFraseDadoR>probFraseDadoI:\n",
    "        return 'relevante'\n",
    "    else:\n",
    "        return 'Irrelevante'"
   ]
  },
  {
   "cell_type": "code",
   "execution_count": null,
   "metadata": {},
   "outputs": [],
   "source": []
  },
  {
   "cell_type": "markdown",
   "metadata": {},
   "source": [
    "___\n",
    "### Verificando a performance do Classificador\n",
    "\n",
    "Agora você deve testar o seu classificador com a base de Testes."
   ]
  },
  {
   "cell_type": "code",
   "execution_count": 26,
   "metadata": {},
   "outputs": [],
   "source": [
    "teste = pd.read_excel(filename, sheet_name = 'Teste')\n",
    "dados2=teste"
   ]
  },
  {
   "cell_type": "code",
   "execution_count": 34,
   "metadata": {},
   "outputs": [
    {
     "name": "stderr",
     "output_type": "stream",
     "text": [
      "C:\\Users\\eduse\\AppData\\Local\\Temp/ipykernel_6240/1468690124.py:20: SettingWithCopyWarning: \n",
      "A value is trying to be set on a copy of a slice from a DataFrame\n",
      "\n",
      "See the caveats in the documentation: https://pandas.pydata.org/pandas-docs/stable/user_guide/indexing.html#returning-a-view-versus-a-copy\n",
      "  dados2['Target teste'][c]=0\n",
      "C:\\Users\\eduse\\AppData\\Local\\Temp/ipykernel_6240/1468690124.py:17: SettingWithCopyWarning: \n",
      "A value is trying to be set on a copy of a slice from a DataFrame\n",
      "\n",
      "See the caveats in the documentation: https://pandas.pydata.org/pandas-docs/stable/user_guide/indexing.html#returning-a-view-versus-a-copy\n",
      "  dados2['Target teste'][c]=1\n"
     ]
    }
   ],
   "source": [
    "\n",
    "matriz2=matrizes(dados2['Titulo'])\n",
    "listax=[]\n",
    "\n",
    "dados2['Target teste']=dados2['Target']\n",
    "\n",
    "resultado=''\n",
    "def montandotargets(matriz2,dados2):\n",
    "    c=0\n",
    "    for i in matriz2:\n",
    "        frase_teste=''\n",
    "        for letra in i:\n",
    "            frase_teste+=letra+' '\n",
    "        resultado=go20(frase_teste,matriz2)\n",
    "\n",
    "        if resultado=='relevante':\n",
    "            listax.append(1)\n",
    "            dados2['Target teste'][c]=1\n",
    "\n",
    "        elif resultado=='Irrelevante':\n",
    "            dados2['Target teste'][c]=0\n",
    "            listax.append(0)\n",
    "        c+=1\n",
    "    return dados2\n",
    "dados2=montandotargets(matriz2,dados2)"
   ]
  },
  {
   "cell_type": "code",
   "execution_count": 35,
   "metadata": {},
   "outputs": [
    {
     "data": {
      "text/html": [
       "<div>\n",
       "<style scoped>\n",
       "    .dataframe tbody tr th:only-of-type {\n",
       "        vertical-align: middle;\n",
       "    }\n",
       "\n",
       "    .dataframe tbody tr th {\n",
       "        vertical-align: top;\n",
       "    }\n",
       "\n",
       "    .dataframe thead th {\n",
       "        text-align: right;\n",
       "    }\n",
       "</style>\n",
       "<table border=\"1\" class=\"dataframe\">\n",
       "  <thead>\n",
       "    <tr style=\"text-align: right;\">\n",
       "      <th></th>\n",
       "      <th>Titulo</th>\n",
       "      <th>Descrição</th>\n",
       "      <th>Pagina</th>\n",
       "      <th>Target</th>\n",
       "      <th>Target teste</th>\n",
       "    </tr>\n",
       "  </thead>\n",
       "  <tbody>\n",
       "    <tr>\n",
       "      <th>0</th>\n",
       "      <td>O estranho caso dos blocos ‘vazios’ na blockch...</td>\n",
       "      <td>Um evento incomum aconteceu na rede do Bitcoin...</td>\n",
       "      <td>57</td>\n",
       "      <td>0.0</td>\n",
       "      <td>0.0</td>\n",
       "    </tr>\n",
       "    <tr>\n",
       "      <th>1</th>\n",
       "      <td>Alívio do bitcoin sugere que pior fase do inve...</td>\n",
       "      <td>Após um mês de consolidação, o preço do bitcoi...</td>\n",
       "      <td>13</td>\n",
       "      <td>NaN</td>\n",
       "      <td>1.0</td>\n",
       "    </tr>\n",
       "    <tr>\n",
       "      <th>2</th>\n",
       "      <td>Lei que proíbe pagamentos com bitcoin na Rússi...</td>\n",
       "      <td>O Parlamento da Rússia, conhecido como Duma, a...</td>\n",
       "      <td>27</td>\n",
       "      <td>0.0</td>\n",
       "      <td>1.0</td>\n",
       "    </tr>\n",
       "    <tr>\n",
       "      <th>3</th>\n",
       "      <td>Manhã Cripto: Projeto de Lei que regula cripto...</td>\n",
       "      <td>Com a regulação dos criptoativos no foco de in...</td>\n",
       "      <td>30</td>\n",
       "      <td>1.0</td>\n",
       "      <td>1.0</td>\n",
       "    </tr>\n",
       "    <tr>\n",
       "      <th>4</th>\n",
       "      <td>A semana das criptomoedas: ethereum (ETH) em d...</td>\n",
       "      <td>Embora muitas criptomoedas tenham caído nos úl...</td>\n",
       "      <td>16</td>\n",
       "      <td>1.0</td>\n",
       "      <td>1.0</td>\n",
       "    </tr>\n",
       "  </tbody>\n",
       "</table>\n",
       "</div>"
      ],
      "text/plain": [
       "                                              Titulo  \\\n",
       "0  O estranho caso dos blocos ‘vazios’ na blockch...   \n",
       "1  Alívio do bitcoin sugere que pior fase do inve...   \n",
       "2  Lei que proíbe pagamentos com bitcoin na Rússi...   \n",
       "3  Manhã Cripto: Projeto de Lei que regula cripto...   \n",
       "4  A semana das criptomoedas: ethereum (ETH) em d...   \n",
       "\n",
       "                                           Descrição  Pagina  Target  \\\n",
       "0  Um evento incomum aconteceu na rede do Bitcoin...      57     0.0   \n",
       "1  Após um mês de consolidação, o preço do bitcoi...      13     NaN   \n",
       "2  O Parlamento da Rússia, conhecido como Duma, a...      27     0.0   \n",
       "3  Com a regulação dos criptoativos no foco de in...      30     1.0   \n",
       "4  Embora muitas criptomoedas tenham caído nos úl...      16     1.0   \n",
       "\n",
       "   Target teste  \n",
       "0           0.0  \n",
       "1           1.0  \n",
       "2           1.0  \n",
       "3           1.0  \n",
       "4           1.0  "
      ]
     },
     "execution_count": 35,
     "metadata": {},
     "output_type": "execute_result"
    }
   ],
   "source": [
    "dados2.head(5)"
   ]
  },
  {
   "cell_type": "markdown",
   "metadata": {},
   "source": [
    "___\n",
    "### Concluindo"
   ]
  },
  {
   "cell_type": "code",
   "execution_count": null,
   "metadata": {},
   "outputs": [],
   "source": []
  },
  {
   "cell_type": "code",
   "execution_count": null,
   "metadata": {},
   "outputs": [],
   "source": []
  },
  {
   "cell_type": "code",
   "execution_count": null,
   "metadata": {},
   "outputs": [],
   "source": []
  },
  {
   "cell_type": "markdown",
   "metadata": {},
   "source": [
    "___\n",
    "### Qualidade do Classificador a partir de novas separações das notícias entre Treinamento e Teste\n",
    "\n",
    "Caso for fazer esse item do Projeto"
   ]
  },
  {
   "cell_type": "code",
   "execution_count": 30,
   "metadata": {},
   "outputs": [],
   "source": [
    "def testqualidade(tabela_dados):\n",
    "    count=0\n",
    "    certas=0\n",
    "    while count<len(tabela_dados):\n",
    "        if tabela_dados['Target'][count]==tabela_dados['Target teste'][count]:\n",
    "            certas+=1\n",
    "        count+=1\n",
    "    print('A porcentagem de acerto da previsão do código é de: {:.2f}%'.format((certas/count)*100))"
   ]
  },
  {
   "cell_type": "code",
   "execution_count": 31,
   "metadata": {},
   "outputs": [
    {
     "name": "stdout",
     "output_type": "stream",
     "text": [
      "A porcentagem de acerto da previsão do código é de: 65.83%\n"
     ]
    }
   ],
   "source": [
    "quali_teste=testqualidade(dados2)\n",
    "dados=go20(mat)\n"
   ]
  },
  {
   "cell_type": "code",
   "execution_count": null,
   "metadata": {},
   "outputs": [],
   "source": []
  },
  {
   "cell_type": "markdown",
   "metadata": {},
   "source": [
    "___\n",
    "## Aperfeiçoamento:\n",
    "\n",
    "Trabalhos que conseguirem pelo menos conceito B vão evoluir em conceito dependendo da quantidade de itens avançados:\n",
    "\n",
    "* IMPLEMENTOU outras limpezas e transformações que não afetem a qualidade da informação contida nas notícias. Ex: stemming, lemmatization, stopwords\n",
    "* CONSIDEROU mais de duas caterogias na variável Target e INCREMENTOU a quantidade de notícias, mantendo pelo menos 250 notícias por caterogia (OBRIGATÓRIO PARA TRIOS, sem contar como item avançado)\n",
    "* Para Target com duas categorias: CRIOU pelo menos quatro categorias intermediárias de relevância baseadas na probabilidade: ex.: muito relevante, relevante, neutro, irrelevante, muito irrelevante\n",
    "* EXPLICOU porquê não pode usar o próprio classificador para gerar mais amostras de treinamento\n",
    "* PROPÔS diferentes cenários para Naïve Bayes fora do contexto do projeto (pelo menos dois cenários, exceto aqueles já apresentados em sala pelos professores: por exemplo, filtro de spam)\n",
    "* SUGERIU e EXPLICOU melhorias reais com indicações concretas de como implementar (indicar como fazer e indicar material de pesquisa)\n",
    "* FEZ o item Qualidade do Classificador a partir de novas separações das Notícias entre Treinamento e Teste descrito no enunciado do projeto (OBRIGATÓRIO para conceitos A ou A+)"
   ]
  },
  {
   "cell_type": "markdown",
   "metadata": {},
   "source": [
    "___\n",
    "## Referências"
   ]
  },
  {
   "cell_type": "markdown",
   "metadata": {},
   "source": [
    "[Naive Bayes and Text Classification](https://arxiv.org/pdf/1410.5329.pdf)  **Mais completo**\n",
    "\n",
    "[A practical explanation of a Naive Bayes Classifier](https://monkeylearn.com/blog/practical-explanation-naive-bayes-classifier/) **Mais simples**"
   ]
  },
  {
   "cell_type": "code",
   "execution_count": null,
   "metadata": {},
   "outputs": [],
   "source": []
  }
 ],
 "metadata": {
  "kernelspec": {
   "display_name": "Python 3 (ipykernel)",
   "language": "python",
   "name": "python3"
  },
  "language_info": {
   "codemirror_mode": {
    "name": "ipython",
    "version": 3
   },
   "file_extension": ".py",
   "mimetype": "text/x-python",
   "name": "python",
   "nbconvert_exporter": "python",
   "pygments_lexer": "ipython3",
   "version": "3.9.7"
  },
  "vscode": {
   "interpreter": {
    "hash": "b4dbf65eb2934af93dfe8402dc5043295a9b874b2f4a935919e1627f38520e4d"
   }
  }
 },
 "nbformat": 4,
 "nbformat_minor": 4
}
