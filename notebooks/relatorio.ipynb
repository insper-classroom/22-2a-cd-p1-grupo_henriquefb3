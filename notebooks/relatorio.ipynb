{
 "cells": [
  {
   "cell_type": "code",
   "execution_count": 10,
   "id": "3083dc1d",
   "metadata": {},
   "outputs": [],
   "source": [
    "%matplotlib inline\n",
    "import pandas as pd\n",
    "import matplotlib.pyplot as plt\n",
    "import numpy as np\n",
    "import os"
   ]
  },
  {
   "cell_type": "code",
   "execution_count": 11,
   "id": "9fb35197",
   "metadata": {},
   "outputs": [
    {
     "name": "stdout",
     "output_type": "stream",
     "text": [
      "Esperamos trabalhar no diretório\n",
      "C:\\Users\\eduse\\Downloads\\Projeto Cdados\\22-2a-cd-p1-grupo_henriquefb3\\notebooks\n"
     ]
    }
   ],
   "source": [
    "print('Esperamos trabalhar no diretório')\n",
    "print(os.getcwd())\n"
   ]
  },
  {
   "cell_type": "code",
   "execution_count": 17,
   "id": "174f9232",
   "metadata": {},
   "outputs": [],
   "source": [
    "dados = pd.read_excel('dados_treinamento.xlsx')"
   ]
  },
  {
   "cell_type": "code",
   "execution_count": 18,
   "id": "e6dc3a0e",
   "metadata": {},
   "outputs": [
    {
     "data": {
      "text/plain": [
       "(540, 4)"
      ]
     },
     "execution_count": 18,
     "metadata": {},
     "output_type": "execute_result"
    }
   ],
   "source": [
    "dados.shape"
   ]
  },
  {
   "cell_type": "code",
   "execution_count": 19,
   "id": "129cbe32",
   "metadata": {},
   "outputs": [
    {
     "data": {
      "text/html": [
       "<div>\n",
       "<style scoped>\n",
       "    .dataframe tbody tr th:only-of-type {\n",
       "        vertical-align: middle;\n",
       "    }\n",
       "\n",
       "    .dataframe tbody tr th {\n",
       "        vertical-align: top;\n",
       "    }\n",
       "\n",
       "    .dataframe thead th {\n",
       "        text-align: right;\n",
       "    }\n",
       "</style>\n",
       "<table border=\"1\" class=\"dataframe\">\n",
       "  <thead>\n",
       "    <tr style=\"text-align: right;\">\n",
       "      <th></th>\n",
       "      <th>Titulo</th>\n",
       "      <th>Descrição</th>\n",
       "      <th>Pagina</th>\n",
       "      <th>Target</th>\n",
       "    </tr>\n",
       "  </thead>\n",
       "  <tbody>\n",
       "    <tr>\n",
       "      <th>0</th>\n",
       "      <td>CoinFLEX demite funcionários em meio a disputa...</td>\n",
       "      <td>A conturbada corretora de criptomoedas CoinFLE...</td>\n",
       "      <td>12</td>\n",
       "      <td>1</td>\n",
       "    </tr>\n",
       "    <tr>\n",
       "      <th>1</th>\n",
       "      <td>O que dar de presente neste Natal para alguém ...</td>\n",
       "      <td>Está em busca de um presente legal para um ent...</td>\n",
       "      <td>83</td>\n",
       "      <td>0</td>\n",
       "    </tr>\n",
       "    <tr>\n",
       "      <th>2</th>\n",
       "      <td>Direto de El Salvador: duas perguntas para o m...</td>\n",
       "      <td>O maximalista de bitcoin Max Keiser abriu as a...</td>\n",
       "      <td>91</td>\n",
       "      <td>0</td>\n",
       "    </tr>\n",
       "    <tr>\n",
       "      <th>3</th>\n",
       "      <td>Lamborghini de R$ 630 mil do falso Rei do Bitc...</td>\n",
       "      <td>Começa na próxima sexta-feira (22) o leilão de...</td>\n",
       "      <td>15</td>\n",
       "      <td>0</td>\n",
       "    </tr>\n",
       "    <tr>\n",
       "      <th>4</th>\n",
       "      <td>Nubank usou R$ 140 milhões para comprar até 10...</td>\n",
       "      <td>Com R$ 14 bilhões em caixa, conforme o último ...</td>\n",
       "      <td>35</td>\n",
       "      <td>1</td>\n",
       "    </tr>\n",
       "  </tbody>\n",
       "</table>\n",
       "</div>"
      ],
      "text/plain": [
       "                                              Titulo  \\\n",
       "0  CoinFLEX demite funcionários em meio a disputa...   \n",
       "1  O que dar de presente neste Natal para alguém ...   \n",
       "2  Direto de El Salvador: duas perguntas para o m...   \n",
       "3  Lamborghini de R$ 630 mil do falso Rei do Bitc...   \n",
       "4  Nubank usou R$ 140 milhões para comprar até 10...   \n",
       "\n",
       "                                           Descrição  Pagina  Target  \n",
       "0  A conturbada corretora de criptomoedas CoinFLE...      12       1  \n",
       "1  Está em busca de um presente legal para um ent...      83       0  \n",
       "2  O maximalista de bitcoin Max Keiser abriu as a...      91       0  \n",
       "3  Começa na próxima sexta-feira (22) o leilão de...      15       0  \n",
       "4  Com R$ 14 bilhões em caixa, conforme o último ...      35       1  "
      ]
     },
     "execution_count": 19,
     "metadata": {},
     "output_type": "execute_result"
    }
   ],
   "source": [
    "dados.head()"
   ]
  },
  {
   "cell_type": "code",
   "execution_count": 187,
   "id": "3c0cf777",
   "metadata": {},
   "outputs": [
    {
     "name": "stdout",
     "output_type": "stream",
     "text": [
      "O que dar de presente neste Natal para alguém que ama Bitcoin e criptomoedas?\n"
     ]
    }
   ],
   "source": [
    "print(dados['Titulo'][1])\n",
    "\n"
   ]
  },
  {
   "cell_type": "code",
   "execution_count": null,
   "id": "b0ba400a",
   "metadata": {},
   "outputs": [],
   "source": []
  },
  {
   "cell_type": "code",
   "execution_count": 80,
   "id": "72831a03",
   "metadata": {},
   "outputs": [
    {
     "name": "stdout",
     "output_type": "stream",
     "text": [
      "CoinFLEX demite funcionários em meio a disputa de US$ 84 milhões com criador do Bitcoin Cash O que dar de presente neste Natal para alguém que ama Bitcoin e criptomoedas? Direto de El Salvador: duas perguntas para o maximalista do Bitcoin Max Keiser Lamborghini de R$ 630 mil do falso Rei do Bitcoin começa a ser leiloada na sexta-feira (22); veja fotos Nubank usou R$ 140 milhões para comprar até 1000 bitcoins em processo pouco transparente Mercado Bitcoin firma parceria com Stellar para desenvolver projeto de Real Digital em laboratório do Bacen BBC mostra como funciona megaoperação de mineração de bitcoin no Cazaquistão Bitcoin (BTC) em leve queda, o estranho token que subiu 53% e a regulação do metaverso Rede de supermercados dos EUA vai ganhar caixas eletrônicos de Bitcoin e memecoins Parlamento Europeu rejeita proposta que acabaria com mineração de bitcoin Binance lança serviço de staking de Bitcoin com juros de 8,19% Cardano (ADA) opera em alta de mais de 10%; Bitcoin (BTC) e restante do mercado em baixa Binance US anuncia taxa zero para negociações de bitcoin em dólar Mantenedor do Bitcoin Core: entenda a importância desse cargo para a criptomoeda Juros x valor do Bitcoin: conheça o histórico entre as variáveis e por que a criptomoeda deve voltar a subir | Opinião Destaques da semana: Bitcoin e Ethereum deslizam enquanto Mastercard expande atuação no universo cripto CVM dos EUA nega solicitação de ETF de bitcoin da WisdomTree Astro do futebol americano vai doar US$ 1 milhão em Bitcoin para fãs Estatal argentina culpa mineradores de bitcoin por quedas de energia no país Resumo da semana cripto: Bitcoin e Ethereum caem 30% em meio ao caos do colapso da Celsius Bitcoin supera rublo russo e se torna a 14ª maior moeda do mundo Terra compra mais 2.943 bitcoins e reserva da moeda já supera US$ 1,4 bilhão A semana no CriptoTwitter: Minecraft vai banir os NFTs do jogo e Michael Saylor critica Elon Musk por vender bitcoins da Tesla Mercado Bitcoin abre negociação do fan token do São Paulo Futebol Clube Bitcoin (BTC) se recupera e volta a superar US$ 40 mil com compra do Twitter por Elon Musk Escolas deveriam ensinar sobre Bitcoin, afirma prefeito eleito de Nova York Os motivos da violenta queda do bitcoin na visão deste especialista brasileiro Cazaquistão suspende energia para mineração de bitcoin em meio a apagões na Ásia Central McDonald’s com bitcoin: como comprei meu café da manhã em El Salvador Por dentro do vulcão que minera Bitcoin em El Salvador; veja fotos e vídeo exclusivo Bitcoin (BTC) está prestes a atingir a Cruz da Morte; entenda ETF de mineração de bitcoin com foco em energia renovável é lançado na Nasdaq Devo investir em bitcoin e ethereum ou em criptomoedas como Shiba Inu, Doge Coin, Baby Doge? Manhã cripto: Bitcoin (BTC) e Ethereum (ETH) mantêm bom momento e Solana (SOL) dispara Manhã Cripto: Bitcoin (BTC) se mantém acima de US$ 31 mil enquanto altcoins recuam; Cardano (ADA) tem queda forte Uso de gás natural para a mineração de bitcoin gera preocupação no Texas China volta a superar 20% da mineração mundial de bitcoin mesmo com proibição do governo Criadores do Pokémon GO anunciam jogo com recompensas em Bitcoin EUA acusam réu de enviar US$ 10 milhões em bitcoin a país em lista de sanções  Manhã Cripto: Bitcoin (BTC) inicia agosto abaixo de US$ 24 mil após melhor mês de 2022; no Brasil, PL das Criptomoedas pode ser votado pela Câmara   BitPreço compra corretora de bitcoin e passa a ter Primo Rico como sócio Faraó do Bitcoin declara patrimônio de R$ 60 milhões em pedido de candidatura; Justiça retoma julgamento hoje ETFs de Bitcoin e a intersecção dos universos financeiros Samy Dana comenta sobre Bitcoin na TV da Jovem Pan e passa a recomendar exposição ao ativo Manhã cripto: O recado do Banco Central dos EUA e a queda do Bitcoin (BTC) FMI insiste que El Salvador não deve usar bitcoin como moeda corrente PicPay segue Nubank e promete liberar negociação de bitcoin Governo da Austrália caça carteira de bitcoin de casal acusado de golpe de US$ 29 milhões MicroStrategy compra mais 4 mil bitcoins e eleva carteira a US$ 6 bilhões Governo dos Estados Unidos vai vender 4,9 bitcoins em leilão Binance suspende transações de fork do Bitcoin que morreu Manhã cripto: mercado derrete com queda de dois dígitos para Cardano (ADA), Solana (SOL), Shiba Inu (SHIB) e Avalanche (AVAX); Bitcoin (BTC) em baixa de 5% Investimento Bitcoin: Guia completo para começar  a investir Ação do Pizza Day vai dar R$ 10 mil em bitcoin para quem desvendar enigma; confira as principais promoções Como a volta de confiança no bitcoin por holders a curto prazo é um sinal positivo para o mercado, segundo a Glassnode Vitalik Buterin: Em defesa do maximalismo do Bitcoin | Opinião XP Investimentos promove evento online gratuito sobre Bitcoin e criptomoedas Mercado Bitcoin promove leilão de NFT da banda Maneva em parceria com Block4 Mercado Bitcoin lista seis novas criptomoedas Governo da Índia vai propor lei para regular bitcoin e criptomoedas Bitcoin também cai para menos de R$ 100 mil pela primeira vez desde dezembro de 2020 Resumo da semana: Bitcoin atinge maior alta de 2022, Solana e Terra disparam, Ethereum em campanha KPMG do Canadá compra Bitcoin e Ethereum para colocar no caixa da empresa Manhã Cripto: Mercado derrete com expectativa de aumento de juros nos EUA; Bitcoin luta para se manter acima dos US$ 20 mil Esposa do Faraó do Bitcoin diz que já gastou R$ 1 bilhão e não tem mais dinheiro para clientes da GAS Consultoria Manhã Cripto: Bitcoin se segura acima dos US$ 30 mil com mercado de olho em inflação e juros Por que o colapso da Celsius pode empurrar o bitcoin para abaixo dos R$ 100 mil Burger King vai premiar clientes com dogecoin, bitcoin e ethereum nos EUA Acusado de pirâmide com bitcoin é preso no México, mas solto em seguida “Bitcoin não vale esse preço”, diz André Esteves, do BTG, em áudio vazado de reunião com clientes Manhã Cripto: Bitcoin (BTC) luta para se manter na casa de US$ 24 mil; empresas de mineração anunciam prejuízo Afinal, você deveria se preocupar com a Cruz da Morte do bitcoin e do ethereum? Criador do Ethereum critica modelo financeiro que pretende “adivinhar” o preço futuro do bitcoin Manhã Cripto: Bitcoin (BTC) ensaia reação em meio a tensão sobre juros; plataforma de empréstimo de NFTs enfrenta problemas financeiros Dificuldade de mineração do bitcoin sobe pela oitava vez desde proibição na China Reembolso dos 137 mil bitcoins da Mt. Gox pode começar em setembro; credores estão céticos sobre a data Manhã Cripto: Bitcoin (BTC) dá maior salto diário em seis semanas com euforia sobre juros nos EUA Mercado Bitcoin lista sete novas criptomoedas ligados ao metaverso Empresa de brasileiro que paga em bitcoin para jogar se une à MoonPay em plataforma de games “Vocês não pagam nossas contas”: CEO de corretora bate boca com bitcoiners sobre listagem de LUNA 2.0 Afinal, qual é o lastro do Bitcoin? Bitcoin pode entrar na fase mais sombria do mercado de baixa, analisa Glassnode Como um trader perdeu tudo depois de comprar 200 bitcoins na Coinbase Manhã cripto: Bitcoin (BTC) em leve queda, executivo ucraniano dispara contra Binance e aumento no interesse por mineração Bitcoin (BTC) e Ethereum (ETH) abrem semana em queda; Luna segue disparada Por que o sucessor de Satoshi Nakamoto está abandonando o Bitcoin Core Criador da Celsius some após travar US$ 12 bilhões de clientes e derrubar o preço do bitcoin Manhã cripto: Bitcoin (BTC) tem alta interrompida, FTX começa entrada na Inglaterra e expectativa para bonds de El Salvador Senado do Paraguai aprova lei de criptomoedas e país pode se tornar potência na mineração do bitcoin Glassnode: os touros vão conseguir manter os ursos à distância no mercado de bitcoins? 82 dias de baixa e sentimento negativo: como está a demanda por Bitcoin, segundo a Glassnode Bitcoin City em El Salvador: da lei do confisco de terras ao delírio do presidente millennial Mercado Bitcoin vai listar Gala, Stellar e mais oito criptomoedas a partir de quarta Ucrânia usa Bitcoin e Ethereum para comprar combustível, comida e equipamentos militares Gloria Zhao se torna a primeira mulher mantenedora do Bitcoin Core  Como a Binance perdeu o bitcoin de um cliente após converter seu endereço de saque Resumo da semana: as principais moedas seguem crescendo enquanto a Flórida tenta descobrir como fazer para aceitar Bitcoin em pagamento de impostos Universidade paga resgate em bitcoin para criminosos e descobre que multiplicou “investimento” ao localizar criptomoedas roubadas Manhã Cripto: Após pior mês já registrado, Bitcoin (BTC) tem dia volátil e tenta retomar patamar de US$ 20 mil Banco centenário da Austrália será o primeiro do país a aceitar bitcoin Cashback e compra e venda de bitcoin da 99 pay é feito por sistema da Foxbit “Perdi R$ 800 mil em Bitcoin, mas os hackers do bem me ajudaram recuperar minha carteira” Ações da Alphabet, Nvidia e GameStop tiveram desempenho melhor que o bitcoin em 2021 ‘Baleia’ transfere R$ 1,6 bilhão em bitcoin e paga apenas R$ 0,57 de taxa Família Bitcoin se muda para Portugal para não pagar impostos sobre criptomoedas Manhã cripto: juros nos EUA afetam o Bitcoin (BTC), críticas do BC da Índia e a dúvida sobre a Web3 Investidores de bitcoin têm prejuízo recorde de US$ 7,3 bilhões em três dias Comissão dos EUA toma decisão sobre criação de fundo inédito de investimento com bitcoin Ministério russo quer legalizar a mineração de bitcoin em algumas regiões do país Manhã cripto: Bitcoin (BTC) acima dos US$ 47 mil, Solana (SOL) salta 8% e Binance anuncia escritório no Rio A guerra de um bitcoiner contra uma poderosa pirâmide de criptomoedas da Argentina Bitcoin perde 56% do valor e tem o pior trimestre desde 2011 Presidente da República Centro-Africana se equilibra entre adoção do Bitcoin e apoio de milícia russa Nona maior baleia de bitcoin do mundo compra 7.000 BTCs durante queda Manhã Cripto: Tensão geopolítica derruba Bitcoin; Perfil do IBGE é hackeado no primeiro dia do Censo para promover carteira de criptomoedas “Hoje eu chamaria o Bitcoin Cash de grande fracasso”, diz Vitalik Buterin Além do Bitcoin: tokens de primeira camada e DeFi têm quedas de mais de 15% Administrador da Silk Road terá de pagar US$ 667 mil em bitcoin a autoridades britânicas Por que o preço do bitcoin derreteu, segundo este estudo da Chainalysis Manhã Cripto: Ethereum (ETH) dá forte salto  e Bitcoin (BTC) esboça ação positiva, mas tímida Polícia sul-coreana prende 86 acusados de comercializar drogas com bitcoin Bitcoin (BTC) e principais criptomoedas sobem após FED descartar aumento de juros Mineradora de bitcoin vai deixar a Rússia por receio de sanções econômicas após invasão à Ucrânia Bitcoin atinge marca histórica: 1 bilhão de endereços criados na rede AfroBit_Lab: Programa de educação sobre Bitcoin libera aulas para inscritos Compradores na alta se desfazem do bitcoin em meio a crimes de guerra, analisa Glassnode Senadora Lummis defende que políticos possam ter Bitcoins Manhã Cripto: Bitcoin e Ethereum ensaiam recuperação, mas incertezas globais ainda pesam no mercado Mineradora vende metade da sua reserva de bitcoin em meio à queda do mercado Empresa de criptomoedas com problemas promete liberar saques de Bitcoin e Ethereum em agosto Ray Dalio: Bitcoin e criptomoedas recebem ‘atenção demais’ O que Bolsonaro disse sobre a criptomoeda indígena e o Bitcoin no Flow Podcast SEC está de olho nos produtos de alto rendimento com bitcoin e ethereum da BlockFi Governo da Ucrânia passa a aceitar doações em bitcoin e outras criptomoedas Como o maior defensor do Bitcoin Cash quebrou uma corretora de criptomoedas Mercado Bitcoin lista o token da rede Nodle (NODL) em sua plataforma Presidente do Cazaquistão cogita usina nuclear por causa do crescimento da mineração de bitcoin Evangelista do Bitcoin Michael Saylor deixa o cargo de CEO da MicroStrategy Manhã cripto: Bitcoin (BTC) recua com menor apetite por risco, Ethereum (ETH) cai abaixo de US$ 3 mil e FED prepara remédio amargo Mercado Bitcoin faz cortes para enfrentar novo panorama financeiro global Michael Saylor anuncia compra de mais 7 mil bitcoins pela MicroStrategy Manhã Cripto: Bitcoin (BTC) ensaia alta enquanto mais uma corretora suspende saques; Justiça bloqueia R$ 450 milhões da Capitual, segundo jornal 90% de todos os 21 milhões de bitcoins já foram minerados Região autônoma de Honduras adota Bitcoin como moeda de curso legal Banco Morgan Stanley acrescenta mais ações de bitcoin da Grayscale apesar de queda do produto Manhã cripto: Bitcoin (BTC) em queda com inflação acelerada e contínua tensão geopolítica Cem bitcoins da era Satoshi foram movidos: valorização foi de centavos para R$ 20 milhões Interpol investiga trio nigeriano suspeito de usar Bitcoin para lavar US$ 215 milhões Como operam os mineradores clandestinos de Bitcoin na China Compras de bitcoin de Tesla e MicroStrategy “entram no vermelho” com queda no preço da criptomoeda Manhã Cripto: Bitcoin (BTC) e Ethereum (ETH) andam de lado; Dogecoin (DOGE) dispara 16% Mercado Bitcoin muda de marca e reorganiza estrutura de negócios Grandes empresas de bitcoin têm dados de clientes vazados após ataque hacker Como o preço Bitcoin se recuperou das perdas dos primeiros meses de 2022 Balanço de bitcoin nas corretoras de criptomoedas chega ao menor nível desde 2018 Nós do Bitcoin: como funciona a blockchain mais segura do mundo Justiça derruba uma das ordens de prisão da esposa do “Faraó do Bitcoin”; ela segue foragida Títulos de bitcoin vão ter sucesso em El Salvador? Queda no preço do bitcoin joga mineradores para o centro da crise das criptomoedas Parceria entre UFC e Crypto.com permitirá que lutadores recebam bônus em Bitcoin (BTC) Bitcoin (BTC) desaba 8% e derruba mercado; Solana (SOL), Cardano (ADA) e Polkadot (DOT) em queda de até 10% Empresa de Cabo Frio dá calote em clientes que acreditavam investir em bitcoin Após apresentar evidências falsas, autoproclamado inventor do Bitcoin ganha US$ 1 em processo judicial Coinbase deixa de ser a corretora com mais bitcoin do mundo em meio a rumores de insolvência, mostra analista Bitcoin (BTC) se aproxima dos US$ 50 mil; Terra (LUNA), Cardano (ADA), XRP e Polkadot em alta de quase 10% Empresa de empréstimos de bitcoin que travou saques diz que vai levar tempo até ter liquidez Manhã Cripto: Bitcoin (BTC) ensaia reação de olho em dados sobre desemprego nos EUA; debate sobre regras para criptomoedas volta a esquentar no Brasil Brasileiros lançam fundo para apoiar desenvolvedores do Bitcoin Nova York nega renovação de licença para empresa de mineração de bitcoin Manhã cripto: Inflação e regras na UE pesam e Bitcoin (BTC) vai abaixo de US$ 46 mil; Ethereum (ETH) perde 4% e Shiba Inu (SHIB) despenca 8% Bitcoin (BTC) atinge o maior preço do ano, recupera perdas e espanta medo do bear market Manhã cripto: Bitcoin e altcoins seguem queda livre e Banco Central da Argentina proíbe negociações de criptomoedas Hashrate do Bitcoin já caiu três vezes abaixo de 200 EH/s após recorde em junho Receita Federal da Colômbia vai fiscalizar operações com bitcoin e criptomoedas Manhã Cripto: Bitcoin (BTC) anda de lado à espera dos resultados sobre a inflação nos EUA  Manhã cripto: Bitcoin (BTC) recua com dia crítico na guerra; Solana (SOL) e Ethereum (ETH) apresentam fortes quedas Baleia adormecida movimenta R$ 500 milhões em bitcoin pela primeira vez desde 2013 As 4 criptomoedas que mais valorizaram durante a queda do bitcoin Bitcoin e Ethereum iniciam a semana com alta superior a 5% Criador do framework ‘Ruby on Rails’ se arrepende de ter sido contra o bitcoin: “Eu estava errado” Preço do Bitcoin está por um fio, alerta Glassnode Empresa levanta US$ 500 milhões para expandir uso de gás na mineração de bitcoin Vendas excessivas de bitcoin no prejuízo podem ter chegado ao fim, sinaliza Glassnode Manhã cripto: Binance no Brasil, Avalanche (AVAX) em disparada e Bitcoin (BTC) em alta tímida após reunião do FED Glassnode: Bitcoin sai de corretoras a taxa de 96 mil BTCs por mês e mostra febre de acumulação Terra (LUNA) derrete 13%; Bitcoin (BTC) em leve alta e Binance Coin (BNB) tem forte valorização Receita Federal muda prazo para declaração do Imposto de Renda e afeta quem tem bitcoin Presidente de El Salvador ainda não respondeu acusações de sumiço de bitcoins Goldman Sachs projeta preço do Bitcoin a US$ 100 mil e possibilidade de substituir o ouro Bitcoin fecha semana no verde mas preços baixos ainda estressam mineradores, diz Glassnode Com inverno cripto, ouro tem retorno 40% maior do que Bitcoin no ano As razões que fizeram o bitcoin desabar na última semana, segundo a Glassnode Baleia paga 78 centavos de dólar para movimentar US$ 770 milhões em bitcoin Perguntas não respondidas sobre as prisões e os US$ 3,6 bilhões em bitcoin do hack à Bitfinex Gigante americana lança ETF “puro” de bitcoin no Canadá Bitcoin (BTC) despenca 6% após banco dizer que “furacão está vindo” na economia global Manhã cripto: Bitcoin (BTC) e Ethereum (ETH) voltam a cair após otimismo com marco regulatório nos EUA Bitcoin (BTC) cai abaixo de US$ 20 mil pela primeira vez no mês; Ethereum (ETH) recua 7% PayPal libera transferência de Bitcoin e Ethereum para carteiras externas Bitcoin (BTC) cai 4% em uma hora e encosta nos US$ 36 mil em dia de sangria no mercado Manhã Cripto: Bitcoin (BTC) luta para manter patamar de US$ 20 mil e já perde mais de 5% no acumulado da semana Bitcoin cai abaixo dos US$ 40 mil enquanto hashrate bate recorde histórico Faraó do Bitcoin: Ministério Público pede que criador da GAS Consultoria seja proibido de concorrer na eleição Empresário acusa policiais civis de Goiás de roubo de 4,5 bitcoins; um agente foi preso Manhã Cripto: Bitcoin (BTC) segue em queda e já perde 13% em uma semana; Corretora FTX tem salto de 1.000% na receita STJ nega novo pedido de liberdade ao falso Rei do Bitcoin Americanos de 23 anos faturaram US$ 4 milhões com mineração de bitcoin no Texas com gás que seria jogado fora Após encostar nos US$ 39 mil, Bitcoin (BTC) cai e opera em baixa com FED pronto para aumentar juros nos EUA Alta do bitcoin deixa prejuízo de US$ 400 milhões para traders que apostaram na queda do mercado Mercado Bitcoin tem nova leva de demissões após piora do cenário global da economia Mercado Bitcoin vai abrir negociação de token do Flamengo na quarta Liquidações nos mercados de futuros foram responsáveis por afundar o preço do Bitcoin (BTC) Valkyrie lança o segundo ETF de futuros de bitcoin dos EUA Dificuldade de mineração do Bitcoin chega ao nível mais alto da história Porsche, duas BMWs e malas de R$ 6 mil: bens do falso Rei do Bitcoin vão a leilão O que aconteceu com Satoshi Nakamoto? Documentário quer descobrir paradeiro do criador do Bitcoin Mercado Bitcoin lança novo painel de negociações na plataforma web da corretora Glassnode projeta bitcoin e ethereum em baixa nos próximos meses; confira os dados on-chain Ethereum (ETH) opera em alta de 8%, Solana (SOL) decola 15% e Bitcoin (BTC) vai acima dos US$ 38 mil Prefeito de Nova York quer veto de governadora ao projeto que proíbe mineração de bitcoin Mais de 62 mil traders de criptomoedas são liquidados conforme Bitcoin e Ethereum despencam Jornal estatal chinês volta a ‘matar’ o bitcoin: “Pirâmide que vai a zero” Criador do Ethereum defende maximalistas de Bitcoin: “Dose saudável de intolerância” Bitcoin atinge marco de 19 milhões de BTCs minerados; restam 2 milhões Manhã cripto: Bitcoin (BTC) e Ethereum (ETH) em queda acentuada com temores de guerra na Ucrânia; Terra (LUNA) derrete Policiais que extorquiram R$ 1 milhão em bitcoin de investidor viram réus em Goiás App de corretora de bitcoin supera TikTok e Instagram e vira o mais baixado nos EUA ETF que aposta contra o bitcoin dispara 300% em uma semana Manhã cripto: Bitcoin fecha abril em queda de 17%, Coinbase prevê 1 bilhão de usuários cripto e maior banco argentino mergulha no setor Alavancagem extrema do Bitcoin e risco de ‘short squeeze’: o estado do mercado para a Glassnode Manhã cripto: Cardano (ADA) decola 26% e Bitcoin (BTC) passa dos US$ 31 mil Alguém ficou milionário usando um equipamento de mineração de bitcoin de US$ 220; entenda Xtage: Veja como negociar Bitcoin na nova plataforma de criptomoedas da XP Pizza Day do Bitcoin pode virar data oficial em Porto Alegre Estudo mostra em quantos anos computadores quânticos poderiam quebrar o Bitcoin Novo prefeito de Nova York garante que receberá primeiro salário em bitcoin e ethereum Queda nas negociações e moedas paradas: o que esperar do Bitcoin para 2022, segundo a Glassnode Nubank abraça criptomoedas e vai começar a vender Bitcoin e Ethereum Empresa de mineração de bitcoin listada na Nasdaq compra US$ 1 bilhão em máquinas antminers Futuro ETF de futuros de bitcoin da VanEck possui as menores taxas dos EUA Parlamento Europeu exclui proibição da mineração de bitcoin de projeto de lei É o fundo do poço do bitcoin? O que dizem os dados do relatório da Glassnode Manhã cripto: Bitcoin (BTC) abaixo de US$ 40 mil, Elon Musk perto de comprar Twitter e filme  de Ridley Scott sobre Ethereum Esposa do Faraó do Bitcoin diz ter chorado ao ter conta bloqueada e pede que clientes da GAS Consultoria pressionem autoridades Bitcoin (BTC), Ethereum (ETH) e XRP abre segunda em queda; Solana (SOL) sobe 4% Parlamento de Portugal rejeita propostas de cobrar imposto sobre bitcoin e criptomoedas El Salvador quer comprar de volta títulos do tesouro após aposta mal calculada no bitcoin Hacker rouba conta no Instagram de menino brasileiro com doença rara e pede bitcoin Bitcoin Core chega na versão 23.0; entenda o que mudou Mais de 30 mil bitcoins saíram da Coinbase em uma semana, aponta Glassnode Pirâmide com bitcoin que cometeu fraude de R$ 300 milhões vai a julgamento no Mato Grosso do Sul Bitcoin (BTC) reduz perdas, mas segue na região da Cruz da Morte; Dogecoin e Shiba Inu seguem em queda Bitcoin (BTC) cai 4% e arrasta o mercado; Polkadot (DOT), Cardano (ADA), Shina Inu (SHIB) em queda Elon Musk explica por que prefere Dogecoin ao invés de Bitcoin e comunidade rebate seus argumentos Em semana de perdas, mercado cripto recua;  Bitcoin e Ethereum acumulam quedas de 8% A semana no mundo cripto: ‘matadores do Ethereum’ em queda, FMI de olho na LUNA, Portugal e a rejeição do imposto do bitcoin Bitcoin (BTC) opera em leve alta e recupera os US$ 50 mil; Terra (LUNA) perde força Estudante faz TCC sobre Lightning Network do Bitcoin e agradece Daniel Fraga As cinco maiores quedas do Bitcoin e o que elas revelam sobre o momento atual Manhã cripto: Bitcoin (BTC) passa dos US$ 44 mil e Ethereum (ETH) dispara 8% Dinheiro roubado da Gerdau via Santander virou Bitcoin e foi transferido para contas da Binance Bitcoin em alta, dólar em baixa: o que muda para o mercado brasileiro de criptomoedas Ripio lança novo cartão no Brasil que dará cashback em bitcoin   BC dos EUA defende regulamentação de criptomoedas e preço do bitcoin recua mais de 6% Decisão da Suprema Corte dos EUA pode impactar mineração de bitcoin Manhã Cripto: Corretora Voyager pede recuperação judicial mas Bitcoin (BTC) se segura em US$ 20 mil Irlanda quer banir doações em Bitcoin por receio de interferência russa nas eleições Novo prefeito de Nova York promete receber os três primeiros salários em bitcoin Senadores convidam Binance, Mercado Bitcoin e Banco Central para debater regulação Mercado de criptomoedas chega a US$ 3 trilhões com força de bitcoin, ethereum e dogecoin Quanto de bitcoin eu posso ter em minha carteira? Manhã cripto: Bitcoin (BTC), Ethereum (ETH), XRP, Polkadot (DOT) disparam e superam incerteza da guerra Além do Bitcoin, Luna quer usar Avalanche (AVAX) para lastrear TerraUSD (UST) FBI encontra US$ 154 milhões de funcionário que roubou Sony e converteu em bitcoin Manhã cripto: Rússia ataca Ucrânia e derruba mercado cripto; Bitcoin (BTC) em baixa de 8% e Ethereum (ETH) despenca 12% Miami vai pagar dividendos em bitcoin por uso da criptomoeda local, promete prefeito El Salvador rebate alertas do FMI por uso do bitcoin como moeda oficial Primo Rico questiona seguidores sobre queda do Bitcoin: “Você diz avisei ou caiu, comprou”? O que você precisa saber sobre o projeto de lei do bitcoin e do “peso digital” do Chile Novo ataque que faz CPU “sangrar” preocupa Intel e desenvolvedores do Bitcoin Mercado Bitcoin lista token do Axie Infinity e outras setes novas criptomoedas Desenvolvedores brasileiros de Bitcoin recebem doação de R$ 130 mil de ONG de direitos humanos Terceira maior baleia de bitcoin do mundo compra mais 2700 BTCs durante a queda Telegram agora permite comprar Bitcoin e movimentar o token TON via mensagens Duas criptomoedas que disparam enquanto Bitcoin e Ethereum patinaram durante a semana Bitcoin (BTC) em leve alta luta para manter os US$ 47 mil; Uniswap (UNI) dispara Projeto de lei quer que salários sejam pagos em bitcoin no Brasil Manhã cripto: Senado aprova PL de criptomoedas, Bitcoin (BTC) volta para US$ 39 mil e comunidade debate Twitter de Musk Dia da Mulher nos lembra que o Bitcoin ainda é um assunto masculino | Opinião Investimento em bitcoin da Tesla já gerou lucro de US$ 1 bilhão Bitcoin (BTC) em alta após decisão na Rússia, mineração na Sibéria e o recuo do prefeito de NY Bitcoin (BTC) tem quarto dia seguido negativo, bate nos US$ 33 mil e cai 21% na semana Manhã cripto: Bitcoin retoma ganhos, Dogecoin (DOGE) pula com Musk no Twitter e acúmulo recorde de BTC em curso Mercado cripto retorna aos US$ 2 trilhões conforme Bitcoin (BTC) e Ethereum (ETH) se recuperam Jornal de oposição na Venezuela usa bitcoin, criptomoedas e NFTs para sobreviver Mais um programador do Bitcoin Core decide sair: “Hora de partir” Robinhood lista fundos de renda variável baseados em Bitcoin e Ethereum Saiba o que o novo CEO do Twitter pensa sobre bitcoin, DeFi e maximalismo Domingo de sangue: Bitcoin (BTC) desce rumo aos US$ 26 mil, Ethereum (ETH) cai 8,9%, Cardano (ADA) 14%, Solana (SOL) 12% Membro de gangue é preso após lavar US$ 2,6 milhões em caixas eletrônicos de bitcoin Uma conversa com o criador da Lightning Network do Bitcoin Holders de longo prazo ‘alfaçaram’ e já venderam 181 mil bitcoins em junho, mostra Glassnode Bitcoin chega a ficar abaixo de US$ 41 mil em um péssimo início de 2022 Bitcoin (BTC) chega a US$ 45 mil na madrugada; Polygon (Matic) dispara 9% em retomada do mercado Revolta no Cazaquistão afeta mineração e derruba preço do Bitcoin Mercado Bitcoin abre negociação do token do Santos no mercado secundário Manhã cripto: Bitcoin (BTC) se segura acima de US$ 40 mil e Ethereum (ETH) sobe 1% em meio a baixo volume Bitcoin (BTC) lateraliza e “passinho de siri” pode ser a dinâmica de mês historicamente fraco Manhã cripto: mercado em queda, com Bitcoin (BTC) abaixo dos US$ 38 mil e Ethereum (ETH) em desvalorização de 1% Faturamento da mineração de Bitcoin supera a de Ethereum pela primeira vez no ano Exchange brasileira lança serviço que permite compra direta de bitcoin com Pix Manhã cripto: Bitcoin estagnado, Robinhood lança wallet e bilionários debatem futuro do mercado em Miami Mineradora vende quase todo estoque de bitcoin para se manter viva durante ‘inverno cripto’ Ex-CEO da Binance dos EUA assume comando de empresa de mineração de bitcoin Manhã Cripto: Bitcoin (BTC) ultrapassa US$ 24 mil com alívio da inflação nos EUA; Ethereum (ETH) dispara 14% após sucesso de teste da Fusão Polícia da Venezuela apreende 269 máquinas de mineração de bitcoin em duas operações Bitcoin é uma “crise climática”, diz CEO da Intel ao promover chip de mineração Hacker usa empréstimos relâmpago para roubar bitcoins de protocolo DeFi Banco Central da Ucrânia proíbe compra de bitcoin com moeda oficial do país Bilionário mexicano dá dicas sobre investimento em Bitcoin no Twitter Dogecoin (DOGE) dispara com novo tuíte de Elon Musk; Bitcoin (BTC) segue em queda Bill Gates: “Bitcoin não agrega nenhum valor à sociedade” Índia aprova imposto de 30% sobre ganhos de capital com bitcoin e criptomoedas Sócio da Capitual teria auxiliado o “Faraó do Bitcoin” a vender criptomoedas mesmo após prisão, diz Folha de S. Paulo Preço do Bitcoin (BTC) cai por sete semanas consecutivas pela primeira vez na história Quem é o trader que acertou o preço do Bitcoin nos últimos três meses e qual a previsão para o final do ano Brasileiro ganha bolsa internacional para estudar o código do Bitcoin Plataforma do Mercado Bitcoin recebe seis novos ativos Manhã cripto: Bitcoin (BTC) e Ethereum (ETH) disparam e recuperam patamares de US$ 20 mil e US$ 1 mil Mercado de criptomoedas tem domingo de reação e Bitcoin volta a superar US$ 30 mil Quais foram os três melhores anos na história do Bitcoin? Terra volta a investir em Bitcoin (BTC) e atinge alocação de US$ 1,7 bilhão na criptomoeda Deus, Família e Bitcoin: a nova crítica do Nobel da Economia Paul Krugman às criptomoedas Como está o mercado de bitcoin e o que podemos esperar nesta semana Vítima do Meu Pé de Bitcoin encontra criador do golpe e é ameaçado com faca; veja vídeo “Família Bitcoin” perde mais de US$ 1 milhão com queda no preço da criptomoeda, mas continua comprando CVM dos EUA é processada por não aprovar pedido de criação de fundo baseado em bitcoin Listada na Nasdaq, Marathon anuncia captação de US$ 500 milhões para mineração de bitcoin Honduras diz que boatos de adoção do bitcoin como moeda oficial são falsos Deputado argentino questiona instalação de mineradora de Bitcoin no país Bitcoin (BTC) e Ethereum (ETH) sobem 5%; Solana (SOL), XRP e Polkadot (DOT) recuperam perdas Minerador de bitcoin tem sorte e ganha 6,25 BTC ao adicionar sozinho um bloco na rede Iates, férias e luxo: EUA denunciam homem que “torrou” US$ 12 milhões de pirâmide com bitcoin Grife de luxo Balenciaga irá aceitar bitcoin e ethereum como pagamento Resumo da semana cripto: Preço do Bitcoin segue na lama enquanto países dificultam a vida das criptomoedas Trader de bitcoin é condenado a 3 anos de prisão nos EUA Falida corretora de bitcoin anuncia NFTs de graça para ex-clientes Bitmain vai lançar máquina de mineração de bitcoin mais potente do mundo “Vamos manter o HODL do bitcoin mesmo na adversidade”, promete presidente da MicroStrategy Binance removeu mais três pares de negociação com Bitcoin (BTC) da plataforma Intel revela imagens do seu primeiro chip de mineração de bitcoin Advogado pede falência da GAS Consultoria, empresa do Faraó do Bitcoin Warren Buffett diz que não pagaria US$ 25 por todo o bitcoin do mundo Mineração de Bitcoin: como sobreviver à queda do mercado Bitcoin, lightning network e NFTs: o que rolou no primeiro dia da Labitconf em El Salvador Manhã Cripto: Bitcoin (BTC) perde força enquanto Ethereum (ETH) sobe; Binance congela ativos roubados da Curve e criador da Huobi estuda venda da corretora  Operação quebra mercado russo Hydra na deep web e confisca na US$ 25 milhões em bitcoin Quanto custa a mineração de um bitcoin? Serviço de criptomoedas do Mercado Pago não vai permitir saques de Bitcoin e Ethereum Manhã critpo: Bitcoin (BTC) respira após cair abaixo de US$ 30 mil; Terra (LUNA) despenca 50% e FED alerta sobre stablecoins Investidores liquidam posições em Bitcoin e Ethereum enquanto as criptomoedas despencam Bitmain afirma que nova máquina de mineração de bitcoin de R$ 100 mil é a mais eficiente do mundo Senadora dos EUA ataca bitcoin por impacto de empresa de mineração em Nova York Nubank libera compra de bitcoin e ethereum no app; veja como funciona Manhã Cripto: Bitcoin (BTC) ensaia reação e tenta retomar patamar de US$ 20 mil; novas corretoras de criptomoedas podem chegar ao Brasil  Mineração de bitcoin: o que é e como funciona Tribunal chinês decide que contratos de mineração de bitcoin são inválidos e prejudica empresa Manhã Cripto: Brasil espera chegada de Elon Musk enquanto Bitcoin e Ethereum ganham força no mercado global Bilionário critica o bitcoin e diz que a criptomoeda é um desastre ambiental Usar Bitcoin na blockchain Ethereum? Conheça os “wrapped tokens”, que viabilizam operações como essa Detetive do blockchain cria base de dados para identificar ladrões de bitcoins Corretora que bloqueou bitcoin de clientes vai liberar saque de 10% de fundos; rendimentos serão afetados Trader brasileiro de Bitcoin culpa banco por prejuízo de R$ 1 milhão em negociação Deputada americana não possui bitcoin para se manter imparcial à criação de novas políticas Funcionário do Terra é investigado por desviar bitcoins dos fundos da empresa Governo zera taxa de importação de equipamentos para mineração de bitcoin Bitcoin (BTC) sobe 6% e volta aos US$ 66 mil; Ethereum (ETH) bate novo recorde de preço Cidade da Suíça fecha parceria com Tether para dar início à adoção do Bitcoin Baleia misteriosa acumula US$ 3 bilhões em Bitcoin em quatro dias e vira uma das maiores do mundo Pai e filho são condenados por usar bitcoin para lavar dinheiro de esquema de venda de maconha Estamos no bear market do Bitcoin (BTC)? Como investir na visão destes três especialistas brasileiros Bitcoin (BTC) tem segundo dia de queda; especialistas citam alavancagem e “ponto máximo de dor” Manhã Cripto: Bitcoin (BTC) avança e supera patamar de US$ 22 mil pela primeira vez em mais de um mês Bitcoin (BTC) e Ethereum (ETH) caem após maior inflação em 40 anos nos EUA Estamos no Bear Market do Bitcoin? O que diz o estudo da Glassnode Bitcoin arranha US$ 25 mil pela primeira vez desde junho Mt. Gox: Rumor sobre despejo de 137 mil bitcoins espalha pânico no mercado; entenda o caso A semana no CriptoTwitter: Vitalik é “trollado”, estrela da NBA compra bitcoin e DAO expulsa fundador Comissão acusa corretora Gemini de “declarações falsas” sobre derivativo de bitcoin Manhã Cripto: Bitcoin (BTC) encosta em US$ 23 mil mas perde força e mostra volatilidade  Como é a vida do homem que perdeu 8 mil bitcoins no lixão Prisão e fotos antigas: revista portuguesa revela passado de crimes do Rei do Bitcoin Piramideiro de bitcoin procurado pela Interpol é preso no Brasil Manhã Cripto: após cair para US$ 25 mil, Bitcoin (BTC) sobe aos US$ 28 mil;  Ethereum (ETH) cai 21%, Cardano (ADA) 32%, Solana (SOL) 36% e Doge (DOGE) 30% Satoshibles é a primeira coleção de NFTs a fazer a ponte entre Ethereum e Bitcoin Glassnode enxerga “caminho difícil” pela frente no preço do bitcoin Empresa processa governo dos EUA por desencorajar bitcoin em planos de aposentadoria Pesquisadoras brasileiras apontaram os benefícios sociais do Bitcoin em estudo de 2016 Bitcoin renova máxima histórica e quebra recorde de preço em reais Manhã cripto: Criptomoedas em debate no Senado, Bitcoin (BTC) em alta e o novo alerta do FMI Viagem à Praia do Bitcoin: como é a vida no local que começou uma revolução em El Salvador Elon Musk: “Dogecoin tem muito mais capacidade do que Bitcoin” Quais os sinais de que o preço do Bitcoin já encontrou o fundo, segundo a Glassnode Empresa que travou bitcoin de clientes recupera US$ 400 milhões que estavam sob risco de liquidação “Não tem nada de ouro digital no bitcoin”, diz André Esteves em evento do BTG Pactual Emissões de carbono pela mineração de bitcoin são insignificantes, segundo estudo da CoinShares Manhã Cripto: Bitcoin (BTC) sobe e tenta recuperar patamar de US$ 20 mil; dados sugerem rali no preço em breve   Tesla vende 75% da sua reserva de bitcoin por US$ 936 milhões Semana cripto: Bitcoin (BTC) e Ethereum (ETH) ensaiam recuperação à medida que Fusão se aproxima Bitcoin foi o pior investimento em janeiro no Brasil; surrado Ibovespa foi o melhor Bitcoin surpreende e sobe após Fed anunciar a maior alta na taxa de juros desde 1994 Binance anuncia que vai remover dois pares de negociação com Bitcoin e Ethereum Manhã cripto: enquanto investidores esperam decisão do FED, Bitcoin e altcoins ensaiam tímida alta Manhã cripto: Bitcoin (BTC) e Ethereum (ETH) sobem 5% com recado chinês e na espera do FED Empresa Ledn arrecada US$ 70 milhões para lançar hipotecas lastreadas em bitcoin Presidente de El Salvador aproveita queda no preço para comprar mais bitcoins mesmo após prejuízo de US$ 60 milhões Por que a volatilidade do Bitcoin (BTC) anda tão baixa, segundo a Glassnode Terceira maior baleia de bitcoin compra 4701 BTCs nas quedas de janeiro e supera MicroStrategy Fundação Luna zera estoque de bitcoin e gasta mais de US$ 3 bilhões para salvar a stablecoin UST MicroStrategy perde quase US$ 1 bilhão com queda do Bitcoin em meio à saída de Michael Saylor da presidência Manhã Cripto: Mercado teme contágio com colapso do fundo 3AC e Bitcoin (BTC) afunda para baixo dos US$ 20 mil Bitcoin despenca após sinalização de que EUA podem seguir aumentando os juros Mercado Bitcoin e imobiliária do RJ fazem parceria para pagamento de imóveis com criptomoedas Consumo de energia na mineração de Bitcoin tem queda de 25% em um ano, aponta estudo Mercado de criptomoedas volta a superar US$ 1 trilhão com guinada de Bitcoin e Ethereum Mercado de criptomoedas volta a superar US$ 1 trilhão com alta forte de bitcoin e ether Manhã Cripto: Bitcoin (BTC) perde patamar de US$ 30 mil e Ethereum (ETH) mergulha 7%  Mercado Bitcoin vira patrocinador da camisa do Vasco da Gama Mercado Bitcoin e EQI lançam parceria inédita no mercado de criptoativos Faraó do Bitcoin alega sofrer racismo: “Nos EUA eu seria capa da Forbes como empresário bem-sucedido” Ventiladores de mineradora de bitcoin nos EUA geram reclamações de barulho e calor Maior banco da Colômbia vai vender bitcoin a clientes após parceria com corretora dos EUA Manhã Cripto: Bitcoin (BTC) pega carona na alta do mercado de ações e luta para se manter acima dos US$ 23 mil Tutorial: Como se prevenir de grandes quedas do bitcoin e outras criptomoedas com o Long/Short Ratio Tutorial Bitcoin Mixer: Aprenda a usar a Samourai Wallet para guardar e trocar Bitcoins com segurança Empresa lança cartão pré-pago de bitcoin que promete anonimato total aos usuários Faraó do Bitcoin se aliou a piloto de Pablo Escobar para levar golpe com criptomoedas aos EUA, diz Polícia Federal Investimento Bitcoin: conhecendo a criptomoeda Manhã cripto: Bitcoin (BTC) acima de US$ 42 mil e Ethereum (ETH) supera marca de US$ 3 mil Governo dos EUA prende casal e confisca US$ 3,6 bilhões em bitcoin ligados a hack de corretora MicroStrategy perde R$ 850 milhões no primeiro trimestre com desvalorização do Bitcoin CEO da FTX lista os três blockchains mais promissores além de Bitcoin e Ethereum Como foi o controverso ano de 2021 para o bitcoin em El Salvador Mercado Bitcoin lista oito criptomoedas; uma delas busca ser solução de escalabilidade para Ethereum Manhã cripto: Bitcoin (BTC) ensaia recuperação, Terra (LUNA) segue em queda livre e Bored Apes desvalorizam STJ nega habeas corpus a dupla acusada de criar escritório para roubar bitcoins Por que o Bitcoin não para de cair na visão destes três especialistas Carteira com 500 bitcoins comprados em 2012 volta à ativa após 9 anos parada Crônica de um fracasso anunciado: Adoção do Bitcoin em El Salvador completa um ano | Opinião FBI recupera 12 bitcoins e devolve a idosa vítima de estelionatários Serviço de pagamento por celular da Block tem receita de quase US$ 2 bilhões com bitcoin no quarto trimestre Manhã Cripto: Bitcoin (BTC) volta a subir e Ethereum (ETH) dispara com expectativa pela Fusão Para o FMI, queda do Bitcoin não afetou a estabilidade da economia mundial Incerteza na China por Evergrande faz Bitcoin (BTC) recuar para US$ 65 mil Baleia transfere 13 mil bitcoins e paga 46 centavos de dólar na transação Empresa lança marketplace de compra e venda de máquinas de mineração de bitcoin Baleia movimenta mais de 2 mil bitcoins que estavam parados há oito anos Manhã cripto: Mensagem de Elon Musk ajuda Bitcoin (BTC), Ethereum (ETH) e Dogecoin (DOGE) Maior varejista de eletrônicos da Europa é alvo de ransomware que pede US$ 50 milhões em bitcoin Bitcoin (BTC) registra alta de 5,5% e Ethereum (ETH) supera os US$ 4 mil com mudanças na moeda turca A recuperação do Bitcoin pode ser o início de um rali no preço? Veja o que dizem os dados da Glassnode Alguém enviou 26 bitcoins para um endereço de golpistas de giveaway scam Bitcoin (BTC) cai quase 4% e concorrentes do Ethereum (ETH) desabam mais de 10% Binance suspende saques de bitcoin e criptomoedas El Salvador recebe ajuda de empresa de software dos EUA para corrigir carteira de bitcoin Chivo STJ nega pedido da defesa da GAS Consultoria para soltar Faraó do Bitcoin Baleia anônima de bitcoin mais rica do mundo compra 700 BTC em dois dias O que aconteceria se a mineração do Bitcoin usasse o sistema de prova de participação? Manhã cripto: FED promete mais aperto, Bitcoin (BTC) cai para 45 mil e sanções à Rússia podem endurecer mercado Bitcoin registra sua menor dominância de mercado desde 2018 Segundo maior grupo islâmico da Indonésia pede proibição do Bitcoin Bitcoin cai abaixo de US$ 23 mil com aumento dos juros na Europa Relatório mostra inflação controlada e Bitcoin reage com alta. Hora do alívio? Senadores pró-bitcoin nos EUA querem mudar texto sobre criptomoedas na lei de infraestrutura Estudo revela o apetite das Baleias por bitcoin durante a queda do mercado de criptomoedas Falhas no DNS provocam queda do hashrate nos grandes pools de mineração de bitcoin A semana no CriptoTwitter: zoeira com o banho de sangue do bitcoin e os perfis com NFTs do Twitter Ex-jogador de futebol promove cassino sem licença que usa Bitcoin e NFTs suspeitos Manhã cripto: Bitcoin (BTC) e Ethereum (ETH) ensaiam recuperação apesar de riscos geopolíticos Manhã Cripto: Com investidores de olho na crise de liquidez, Bitcoin (BTC) se mantém na casa de US$ 20 mil Carteira de bitcoin volta a se movimentar após 12 anos: US$ 90 valem agora US$ 20 milhões Preço do Bitcoin (BTC) tem quarto dia de queda e arrasta Solana (SOL), Cardano (ADA) e Ethereum (ETH) Startup de empreendedor brasileiro permite ganhar Bitcoin jogando Paciência e Sudoku Manhã Cripto: Mercado mantém embalo e Bitcoin (BTC) se segura em US$ 21 mil; Solana (SOL) ganha 10% Cinco criptomoedas que desabaram com a queda do Bitcoin XP diz que pode iniciar negociação de Bitcoin em agosto e põe fogo em corrida contra o BTG Pactual Shiba Inu (SHIB) decola 16% com rumor de listagem e Bitcoin (BTC) se consolida em US$ 43 mil Manhã Cripto: Bitcoin (BTC) recua pela primeira vez em três dias com venda de criptomoedas da Tesla  A semana no CriptoTwitter: Solana e Nomad são hackeadas enquanto CEO da MicroStrategy deixa cargo para “focar mais no bitcoin” Manhã cripto: mercado entra forte no negativo, com Bitcoin (BTC) abaixo de R$ 200 mil e Dogecoin em queda após fim de rumores no Twitter “Bitcoin é um bom investimento a longo prazo”, diz CEO do Nubank Roger Ver, o “Jesus do Bitcoin”, agora defende o Dogecoin como a principal criptomoeda Mercado Bitcoin fecha parceria com empresa de streaming especializada em investimentos Bitcoin volta a desabar neste sábado e puxa mercado de criptomoedas para o vermelho É verdade que a China se arrependeu de ter proibido a mineração de Bitcoin? Entenda Terra Labs faz empréstimo de US$ 1,5 bilhão em bitcoin para tentar salvar stablecoin Dificuldade de mineração do bitcoin cai pela primeira vez em 2022 “Funai queria R$ 50 milhões para ensinar índios a mexer com Bitcoin”, diz Bolsonaro na Fiesp Deputado belga diz que vai converter salário em bitcoin inspirado no prefeito de Nova York Manhã Cripto: Bitcoin (BTC) tenta voltar ao patamar de US$ 20 mil; no Brasil, foco vai para projeto de lei que regulamenta criptomoedas Nubank não vai permitir saque de bitcoin comprado pelo aplicativo “Mercados de ações, imóveis, ouro e bitcoin vão derreter”, prevê autor do livro ‘Pai Rico, Pai Pobre’ Gestora de US$ 4 trilhões vai permitir que clientes invistam em Bitcoin no plano de aposentadoria Bitcoin dispara 8,5% em meia hora e ultrapassa US$ 41 mil Mercado Bitcoin vai debater games e NFTs na Wired Conference Brasil 2022 Manhã Cripto: Bitcoin (BTC) reage e volta para acima dos US$ 20 mil; Ethereum (ETH) dispara quase 10% Globo vai mostrar relação de bitcoin com caso de tráfico internacional de cocaína Mercado de criptomoedas entra em modo foguete: Bitcoin (BTC) passa dos US$ 44 mil e Ethereum (ETH) se aproxima dos US$ 3 mil Resumo da semana cripto: Bitcoin e Ethereum sobem mesmo com as quebras das corretoras Voyager e Vauld O que diz a Glassnode sobre a tolerância à dor do investidor de Bitcoin Homem é acusado de operar rede pirata de caixas eletrônicos de Bitcoin O que explica a queda brutal do Bitcoin na última semana Litecoin (LTC) sobe quase 10%; Bitcoin (BTC), Cardano (ADA), Ethereum (ETH) operam em queda Justiça volta a negar Habeas Corpus para falso Rei do Bitcoin e diz que ele representa “grave risco” Claro é condenada a pagar por bitcoin roubado de cliente alvo do golpe “SIM Swap” Bitcoin (BTC) dispara 6% e ultrapassa US$ 51 mil na véspera de natal; Ethereum (ETH) supera US$ 4 mil Justiça do RJ quer extraditar esposa do Faraó do Bitcoin dos EUA para o Brasil Ripple vai começar a vender Bitcoin e Ethereum em meio a incertezas com XRP Mercado Bitcoin vai abrir negociação da Dogecoin (DOGE) na quinta-feira Gigante dos investimentos BlackRock vai oferecer Bitcoin via Coinbase 99 lança carteira digital com cashback em bitcoin e bônus de 220% do CDI Arkansas quer atrair profissionais de tecnologia com recompensas em bitcoin Desenvolvedor abandona Bitcoin Core e cita “riscos legais” da profissão Manhã cripto: Bitcoin (BTC) retorna a US$ 29 mil, caindo após bolsas de valores terem subido Manhã cripto: Bitcoin (BTC) e Ethereum (ETH) em queda com sinalização de aumento de juros nos EUA; Shiba Inu (SHIB) em alta Sam Bankman-Fried, CEO da FTX, afirma que Bitcoin não é viável como meio de pagamento Mercado Bitcoin vai lançar curso exclusivo sobre criptomoedas com o especialista André Franco Regulador europeu quer proibir mineração proof of work usada nas redes Bitcoin e Ethereum Crise das criptomoedas aniquila 76% dos “milionários” do Bitcoin Pablo Spyer admite ter bitcoin dois anos depois de dizer que nunca investiria na moeda Fundação Luna esvazia carteira de 42 mil bitcoins e cria tensão no mercado Bitcoin (BTC) segue em baixa, Solana (SOL) segue em crise e Cardano (ADA) tem leve recuperação Tiago Reis diz que Satoshi Nakamoto está vendendo bitcoin e revolta comunidade cripto Empresa que congelou bitcoin de clientes contrata novos advogados para reestruturação Prefeitura de cidade dos EUA vai começar a minerar os próprios Bitcoins Manhã Cripto: Bitcoin (BTC) volta a cair e fica abaixo dos US$ 19 mil; Ethereum (ETH) derrete quase 9% após problemas técnicos em atualização Bitcoin (BTC) cai 2,4% após recuperação no final de semana; principais altcoins operam em queda Manhã Cripto: Bitcoin (BTC) volta a recuar e ameaça perder patamar de US$ 21 mil; Ethereum (ETH) também cai Intel pode apresentar chip para mineração de bitcoin em fevereiro Manhã Cripto: Bitcoin (BTC) e Ethereum (ETH) ganham força após aumento de juros nos EUA \n"
     ]
    }
   ],
   "source": [
    "\n",
    "texto=''\n",
    "for i in range(0,540):\n",
    "    texto+=dados['Titulo'][i]+' '\n",
    "\n"
   ]
  },
  {
   "cell_type": "code",
   "execution_count": null,
   "id": "b5c548be",
   "metadata": {},
   "outputs": [],
   "source": []
  },
  {
   "cell_type": "code",
   "execution_count": 132,
   "id": "bc4b0cc8",
   "metadata": {},
   "outputs": [],
   "source": [
    "import re \n",
    "\n",
    "\n",
    "def cleanup(text):\n",
    "    \"\"\"\n",
    "        Função de limpeza muito simples que troca alguns sinais básicos por espaços\n",
    "    \"\"\"\n",
    "    #import string\n",
    "    punctuation = '[!-.:?;]' # Note que os sinais [] são delimitadores de um conjunto.\n",
    "    pattern = re.compile(punctuation)\n",
    "    text_subbed = re.sub(pattern, '', text)\n",
    "    return text_subbed\n",
    "texto_f=cleanup(texto)\n",
    "\n"
   ]
  },
  {
   "cell_type": "code",
   "execution_count": 129,
   "id": "b32d3128",
   "metadata": {},
   "outputs": [],
   "source": [
    "i=0\n",
    "lista=[]\n",
    "while i<540:\n",
    "    lista.append(dados['Titulo'][i])\n",
    "    i+=1\n",
    "matriz=[]\n",
    "for i in lista:\n",
    "    frase_ma=cleanup(i)\n",
    "    frase_matriz=frase_ma.split()\n",
    "    matriz.append(frase_matriz)\n",
    "    \n",
    "    \n"
   ]
  },
  {
   "cell_type": "code",
   "execution_count": 22,
   "id": "e809c8be",
   "metadata": {},
   "outputs": [
    {
     "name": "stdout",
     "output_type": "stream",
     "text": [
      "CoinFLEX demite funcionários em meio a disputa de US$ 84 milhões com criador do Bitcoin Cash Nubank usou R$ 140 milhões para comprar até 1000 bitcoins em processo pouco transparente Mercado Bitcoin firma parceria com Stellar para desenvolver projeto de Real Digital em laboratório do Bacen BBC mostra como funciona megaoperação de mineração de bitcoin no Cazaquistão Bitcoin (BTC) em leve queda, o estranho token que subiu 53% e a regulação do metaverso Rede de supermercados dos EUA vai ganhar caixas eletrônicos de Bitcoin e memecoins Binance lança serviço de staking de Bitcoin com juros de 8,19% Cardano (ADA) opera em alta de mais de 10%; Bitcoin (BTC) e restante do mercado em baixa Binance US anuncia taxa zero para negociações de bitcoin em dólar Juros x valor do Bitcoin: conheça o histórico entre as variáveis e por que a criptomoeda deve voltar a subir | Opinião Destaques da semana: Bitcoin e Ethereum deslizam enquanto Mastercard expande atuação no universo cripto CVM dos EUA nega solicitação de ETF de bitcoin da WisdomTree Resumo da semana cripto: Bitcoin e Ethereum caem 30% em meio ao caos do colapso da Celsius Bitcoin supera rublo russo e se torna a 14ª maior moeda do mundo Terra compra mais 2.943 bitcoins e reserva da moeda já supera US$ 1,4 bilhão Bitcoin (BTC) se recupera e volta a superar US$ 40 mil com compra do Twitter por Elon Musk Cazaquistão suspende energia para mineração de bitcoin em meio a apagões na Ásia Central Bitcoin (BTC) está prestes a atingir a Cruz da Morte; entenda ETF de mineração de bitcoin com foco em energia renovável é lançado na Nasdaq Devo investir em bitcoin e ethereum ou em criptomoedas como Shiba Inu, Doge Coin, Baby Doge? Manhã cripto: Bitcoin (BTC) e Ethereum (ETH) mantêm bom momento e Solana (SOL) dispara Manhã Cripto: Bitcoin (BTC) se mantém acima de US$ 31 mil enquanto altcoins recuam; Cardano (ADA) tem queda forte China volta a superar 20% da mineração mundial de bitcoin mesmo com proibição do governo EUA acusam réu de enviar US$ 10 milhões em bitcoin a país em lista de sanções  Manhã Cripto: Bitcoin (BTC) inicia agosto abaixo de US$ 24 mil após melhor mês de 2022; no Brasil, PL das Criptomoedas pode ser votado pela Câmara   Manhã cripto: O recado do Banco Central dos EUA e a queda do Bitcoin (BTC) FMI insiste que El Salvador não deve usar bitcoin como moeda corrente PicPay segue Nubank e promete liberar negociação de bitcoin Governo da Austrália caça carteira de bitcoin de casal acusado de golpe de US$ 29 milhões MicroStrategy compra mais 4 mil bitcoins e eleva carteira a US$ 6 bilhões Governo dos Estados Unidos vai vender 4,9 bitcoins em leilão Manhã cripto: mercado derrete com queda de dois dígitos para Cardano (ADA), Solana (SOL), Shiba Inu (SHIB) e Avalanche (AVAX); Bitcoin (BTC) em baixa de 5% Como a volta de confiança no bitcoin por holders a curto prazo é um sinal positivo para o mercado, segundo a Glassnode Mercado Bitcoin lista seis novas criptomoedas Governo da Índia vai propor lei para regular bitcoin e criptomoedas Bitcoin também cai para menos de R$ 100 mil pela primeira vez desde dezembro de 2020 Resumo da semana: Bitcoin atinge maior alta de 2022, Solana e Terra disparam, Ethereum em campanha KPMG do Canadá compra Bitcoin e Ethereum para colocar no caixa da empresa Manhã Cripto: Mercado derrete com expectativa de aumento de juros nos EUA; Bitcoin luta para se manter acima dos US$ 20 mil Manhã Cripto: Bitcoin se segura acima dos US$ 30 mil com mercado de olho em inflação e juros Por que o colapso da Celsius pode empurrar o bitcoin para abaixo dos R$ 100 mil “Bitcoin não vale esse preço”, diz André Esteves, do BTG, em áudio vazado de reunião com clientes Manhã Cripto: Bitcoin (BTC) luta para se manter na casa de US$ 24 mil; empresas de mineração anunciam prejuízo Manhã Cripto: Bitcoin (BTC) ensaia reação em meio a tensão sobre juros; plataforma de empréstimo de NFTs enfrenta problemas financeiros Dificuldade de mineração do bitcoin sobe pela oitava vez desde proibição na China Manhã Cripto: Bitcoin (BTC) dá maior salto diário em seis semanas com euforia sobre juros nos EUA Bitcoin pode entrar na fase mais sombria do mercado de baixa, analisa Glassnode Manhã cripto: Bitcoin (BTC) em leve queda, executivo ucraniano dispara contra Binance e aumento no interesse por mineração Bitcoin (BTC) e Ethereum (ETH) abrem semana em queda; Luna segue disparada Criador da Celsius some após travar US$ 12 bilhões de clientes e derrubar o preço do bitcoin Senado do Paraguai aprova lei de criptomoedas e país pode se tornar potência na mineração do bitcoin Glassnode: os touros vão conseguir manter os ursos à distância no mercado de bitcoins? 82 dias de baixa e sentimento negativo: como está a demanda por Bitcoin, segundo a Glassnode Como a Binance perdeu o bitcoin de um cliente após converter seu endereço de saque Resumo da semana: as principais moedas seguem crescendo enquanto a Flórida tenta descobrir como fazer para aceitar Bitcoin em pagamento de impostos Manhã Cripto: Após pior mês já registrado, Bitcoin (BTC) tem dia volátil e tenta retomar patamar de US$ 20 mil Banco centenário da Austrália será o primeiro do país a aceitar bitcoin Ações da Alphabet, Nvidia e GameStop tiveram desempenho melhor que o bitcoin em 2021 ‘Baleia’ transfere R$ 1,6 bilhão em bitcoin e paga apenas R$ 0,57 de taxa Manhã cripto: juros nos EUA afetam o Bitcoin (BTC), críticas do BC da Índia e a dúvida sobre a Web3 Investidores de bitcoin têm prejuízo recorde de US$ 7,3 bilhões em três dias Ministério russo quer legalizar a mineração de bitcoin em algumas regiões do país Manhã cripto: Bitcoin (BTC) acima dos US$ 47 mil, Solana (SOL) salta 8% e Binance anuncia escritório no Rio Bitcoin perde 56% do valor e tem o pior trimestre desde 2011 Nona maior baleia de bitcoin do mundo compra 7.000 BTCs durante queda “Hoje eu chamaria o Bitcoin Cash de grande fracasso”, diz Vitalik Buterin Além do Bitcoin: tokens de primeira camada e DeFi têm quedas de mais de 15% Por que o preço do bitcoin derreteu, segundo este estudo da Chainalysis Manhã Cripto: Ethereum (ETH) dá forte salto  e Bitcoin (BTC) esboça ação positiva, mas tímida Bitcoin (BTC) e principais criptomoedas sobem após FED descartar aumento de juros Bitcoin atinge marca histórica: 1 bilhão de endereços criados na rede Manhã Cripto: Bitcoin e Ethereum ensaiam recuperação, mas incertezas globais ainda pesam no mercado Mineradora vende metade da sua reserva de bitcoin em meio à queda do mercado Empresa de criptomoedas com problemas promete liberar saques de Bitcoin e Ethereum em agosto SEC está de olho nos produtos de alto rendimento com bitcoin e ethereum da BlockFi Como o maior defensor do Bitcoin Cash quebrou uma corretora de criptomoedas Manhã cripto: Bitcoin (BTC) recua com menor apetite por risco, Ethereum (ETH) cai abaixo de US$ 3 mil e FED prepara remédio amargo Mercado Bitcoin faz cortes para enfrentar novo panorama financeiro global Manhã Cripto: Bitcoin (BTC) ensaia alta enquanto mais uma corretora suspende saques; Justiça bloqueia R$ 450 milhões da Capitual, segundo jornal 90% de todos os 21 milhões de bitcoins já foram minerados Região autônoma de Honduras adota Bitcoin como moeda de curso legal Manhã cripto: Bitcoin (BTC) em queda com inflação acelerada e contínua tensão geopolítica Cem bitcoins da era Satoshi foram movidos: valorização foi de centavos para R$ 20 milhões Interpol investiga trio nigeriano suspeito de usar Bitcoin para lavar US$ 215 milhões Compras de bitcoin de Tesla e MicroStrategy “entram no vermelho” com queda no preço da criptomoeda Manhã Cripto: Bitcoin (BTC) e Ethereum (ETH) andam de lado; Dogecoin (DOGE) dispara 16% Como o preço Bitcoin se recuperou das perdas dos primeiros meses de 2022 Balanço de bitcoin nas corretoras de criptomoedas chega ao menor nível desde 2018 Queda no preço do bitcoin joga mineradores para o centro da crise das criptomoedas Bitcoin (BTC) desaba 8% e derruba mercado; Solana (SOL), Cardano (ADA) e Polkadot (DOT) em queda de até 10% Coinbase deixa de ser a corretora com mais bitcoin do mundo em meio a rumores de insolvência, mostra analista Bitcoin (BTC) se aproxima dos US$ 50 mil; Terra (LUNA), Cardano (ADA), XRP e Polkadot em alta de quase 10% Manhã cripto: Inflação e regras na UE pesam e Bitcoin (BTC) vai abaixo de US$ 46 mil; Ethereum (ETH) perde 4% e Shiba Inu (SHIB) despenca 8% Bitcoin (BTC) atinge o maior preço do ano, recupera perdas e espanta medo do bear market Manhã cripto: Bitcoin e altcoins seguem queda livre e Banco Central da Argentina proíbe negociações de criptomoedas Manhã Cripto: Bitcoin (BTC) anda de lado à espera dos resultados sobre a inflação nos EUA  Baleia adormecida movimenta R$ 500 milhões em bitcoin pela primeira vez desde 2013 As 4 criptomoedas que mais valorizaram durante a queda do bitcoin Bitcoin e Ethereum iniciam a semana com alta superior a 5% Preço do Bitcoin está por um fio, alerta Glassnode Empresa levanta US$ 500 milhões para expandir uso de gás na mineração de bitcoin Vendas excessivas de bitcoin no prejuízo podem ter chegado ao fim, sinaliza Glassnode Manhã cripto: Binance no Brasil, Avalanche (AVAX) em disparada e Bitcoin (BTC) em alta tímida após reunião do FED Glassnode: Bitcoin sai de corretoras a taxa de 96 mil BTCs por mês e mostra febre de acumulação Terra (LUNA) derrete 13%; Bitcoin (BTC) em leve alta e Binance Coin (BNB) tem forte valorização Presidente de El Salvador ainda não respondeu acusações de sumiço de bitcoins Goldman Sachs projeta preço do Bitcoin a US$ 100 mil e possibilidade de substituir o ouro Bitcoin fecha semana no verde mas preços baixos ainda estressam mineradores, diz Glassnode Com inverno cripto, ouro tem retorno 40% maior do que Bitcoin no ano Bitcoin (BTC) despenca 6% após banco dizer que “furacão está vindo” na economia global Manhã cripto: Bitcoin (BTC) e Ethereum (ETH) voltam a cair após otimismo com marco regulatório nos EUA Bitcoin (BTC) cai abaixo de US$ 20 mil pela primeira vez no mês; Ethereum (ETH) recua 7% Bitcoin (BTC) cai 4% em uma hora e encosta nos US$ 36 mil em dia de sangria no mercado Manhã Cripto: Bitcoin (BTC) luta para manter patamar de US$ 20 mil e já perde mais de 5% no acumulado da semana Bitcoin cai abaixo dos US$ 40 mil enquanto hashrate bate recorde histórico Manhã Cripto: Bitcoin (BTC) segue em queda e já perde 13% em uma semana; Corretora FTX tem salto de 1.000% na receita Americanos de 23 anos faturaram US$ 4 milhões com mineração de bitcoin no Texas com gás que seria jogado fora Após encostar nos US$ 39 mil, Bitcoin (BTC) cai e opera em baixa com FED pronto para aumentar juros nos EUA Alta do bitcoin deixa prejuízo de US$ 400 milhões para traders que apostaram na queda do mercado Mercado Bitcoin tem nova leva de demissões após piora do cenário global da economia Liquidações nos mercados de futuros foram responsáveis por afundar o preço do Bitcoin (BTC) Dificuldade de mineração do Bitcoin chega ao nível mais alto da história Mercado Bitcoin lança novo painel de negociações na plataforma web da corretora Glassnode projeta bitcoin e ethereum em baixa nos próximos meses; confira os dados on-chain Ethereum (ETH) opera em alta de 8%, Solana (SOL) decola 15% e Bitcoin (BTC) vai acima dos US$ 38 mil Mais de 62 mil traders de criptomoedas são liquidados conforme Bitcoin e Ethereum despencam Jornal estatal chinês volta a ‘matar’ o bitcoin: “Pirâmide que vai a zero” Bitcoin atinge marco de 19 milhões de BTCs minerados; restam 2 milhões Policiais que extorquiram R$ 1 milhão em bitcoin de investidor viram réus em Goiás ETF que aposta contra o bitcoin dispara 300% em uma semana Manhã cripto: Bitcoin fecha abril em queda de 17%, Coinbase prevê 1 bilhão de usuários cripto e maior banco argentino mergulha no setor Alavancagem extrema do Bitcoin e risco de ‘short squeeze’: o estado do mercado para a Glassnode Manhã cripto: Cardano (ADA) decola 26% e Bitcoin (BTC) passa dos US$ 31 mil Queda nas negociações e moedas paradas: o que esperar do Bitcoin para 2022, segundo a Glassnode Nubank abraça criptomoedas e vai começar a vender Bitcoin e Ethereum Futuro ETF de futuros de bitcoin da VanEck possui as menores taxas dos EUA Manhã cripto: Bitcoin (BTC) abaixo de US$ 40 mil, Elon Musk perto de comprar Twitter e filme  de Ridley Scott sobre Ethereum Bitcoin (BTC), Ethereum (ETH) e XRP abre segunda em queda; Solana (SOL) sobe 4% Parlamento de Portugal rejeita propostas de cobrar imposto sobre bitcoin e criptomoedas Mais de 30 mil bitcoins saíram da Coinbase em uma semana, aponta Glassnode Pirâmide com bitcoin que cometeu fraude de R$ 300 milhões vai a julgamento no Mato Grosso do Sul Bitcoin (BTC) reduz perdas, mas segue na região da Cruz da Morte; Dogecoin e Shiba Inu seguem em queda Bitcoin (BTC) cai 4% e arrasta o mercado; Polkadot (DOT), Cardano (ADA), Shina Inu (SHIB) em queda Elon Musk explica por que prefere Dogecoin ao invés de Bitcoin e comunidade rebate seus argumentos Em semana de perdas, mercado cripto recua;  Bitcoin e Ethereum acumulam quedas de 8% As cinco maiores quedas do Bitcoin e o que elas revelam sobre o momento atual Manhã cripto: Bitcoin (BTC) passa dos US$ 44 mil e Ethereum (ETH) dispara 8% Bitcoin em alta, dólar em baixa: o que muda para o mercado brasileiro de criptomoedas BC dos EUA defende regulamentação de criptomoedas e preço do bitcoin recua mais de 6% Decisão da Suprema Corte dos EUA pode impactar mineração de bitcoin Manhã Cripto: Corretora Voyager pede recuperação judicial mas Bitcoin (BTC) se segura em US$ 20 mil Mercado de criptomoedas chega a US$ 3 trilhões com força de bitcoin, ethereum e dogecoin Manhã cripto: Bitcoin (BTC), Ethereum (ETH), XRP, Polkadot (DOT) disparam e superam incerteza da guerra Manhã cripto: Rússia ataca Ucrânia e derruba mercado cripto; Bitcoin (BTC) em baixa de 8% e Ethereum (ETH) despenca 12% Miami vai pagar dividendos em bitcoin por uso da criptomoeda local, promete prefeito O que você precisa saber sobre o projeto de lei do bitcoin e do “peso digital” do Chile Desenvolvedores brasileiros de Bitcoin recebem doação de R$ 130 mil de ONG de direitos humanos Telegram agora permite comprar Bitcoin e movimentar o token TON via mensagens Duas criptomoedas que disparam enquanto Bitcoin e Ethereum patinaram durante a semana Bitcoin (BTC) em leve alta luta para manter os US$ 47 mil; Uniswap (UNI) dispara Investimento em bitcoin da Tesla já gerou lucro de US$ 1 bilhão Bitcoin (BTC) em alta após decisão na Rússia, mineração na Sibéria e o recuo do prefeito de NY Bitcoin (BTC) tem quarto dia seguido negativo, bate nos US$ 33 mil e cai 21% na semana Manhã cripto: Bitcoin retoma ganhos, Dogecoin (DOGE) pula com Musk no Twitter e acúmulo recorde de BTC em curso Mercado cripto retorna aos US$ 2 trilhões conforme Bitcoin (BTC) e Ethereum (ETH) se recuperam Mais um programador do Bitcoin Core decide sair: “Hora de partir” Domingo de sangue: Bitcoin (BTC) desce rumo aos US$ 26 mil, Ethereum (ETH) cai 8,9%, Cardano (ADA) 14%, Solana (SOL) 12% Holders de longo prazo ‘alfaçaram’ e já venderam 181 mil bitcoins em junho, mostra Glassnode Bitcoin chega a ficar abaixo de US$ 41 mil em um péssimo início de 2022 Bitcoin (BTC) chega a US$ 45 mil na madrugada; Polygon (Matic) dispara 9% em retomada do mercado Revolta no Cazaquistão afeta mineração e derruba preço do Bitcoin Manhã cripto: Bitcoin (BTC) se segura acima de US$ 40 mil e Ethereum (ETH) sobe 1% em meio a baixo volume Manhã cripto: mercado em queda, com Bitcoin (BTC) abaixo dos US$ 38 mil e Ethereum (ETH) em desvalorização de 1% Faturamento da mineração de Bitcoin supera a de Ethereum pela primeira vez no ano Mineradora vende quase todo estoque de bitcoin para se manter viva durante ‘inverno cripto’ Manhã Cripto: Bitcoin (BTC) ultrapassa US$ 24 mil com alívio da inflação nos EUA; Ethereum (ETH) dispara 14% após sucesso de teste da Fusão Polícia da Venezuela apreende 269 máquinas de mineração de bitcoin em duas operações Bitcoin é uma “crise climática”, diz CEO da Intel ao promover chip de mineração Dogecoin (DOGE) dispara com novo tuíte de Elon Musk; Bitcoin (BTC) segue em queda Preço do Bitcoin (BTC) cai por sete semanas consecutivas pela primeira vez na história Plataforma do Mercado Bitcoin recebe seis novos ativos Manhã cripto: Bitcoin (BTC) e Ethereum (ETH) disparam e recuperam patamares de US$ 20 mil e US$ 1 mil Terra volta a investir em Bitcoin (BTC) e atinge alocação de US$ 1,7 bilhão na criptomoeda Como está o mercado de bitcoin e o que podemos esperar nesta semana Vítima do Meu Pé de Bitcoin encontra criador do golpe e é ameaçado com faca; veja vídeo Listada na Nasdaq, Marathon anuncia captação de US$ 500 milhões para mineração de bitcoin Bitcoin (BTC) e Ethereum (ETH) sobem 5%; Solana (SOL), XRP e Polkadot (DOT) recuperam perdas Minerador de bitcoin tem sorte e ganha 6,25 BTC ao adicionar sozinho um bloco na rede Resumo da semana cripto: Preço do Bitcoin segue na lama enquanto países dificultam a vida das criptomoedas “Vamos manter o HODL do bitcoin mesmo na adversidade”, promete presidente da MicroStrategy Binance removeu mais três pares de negociação com Bitcoin (BTC) da plataforma Mineração de Bitcoin: como sobreviver à queda do mercado Manhã Cripto: Bitcoin (BTC) perde força enquanto Ethereum (ETH) sobe; Binance congela ativos roubados da Curve e criador da Huobi estuda venda da corretora  Manhã critpo: Bitcoin (BTC) respira após cair abaixo de US$ 30 mil; Terra (LUNA) despenca 50% e FED alerta sobre stablecoins Bitmain afirma que nova máquina de mineração de bitcoin de R$ 100 mil é a mais eficiente do mundo Nubank libera compra de bitcoin e ethereum no app; veja como funciona Manhã Cripto: Bitcoin (BTC) ensaia reação e tenta retomar patamar de US$ 20 mil; novas corretoras de criptomoedas podem chegar ao Brasil  Manhã Cripto: Brasil espera chegada de Elon Musk enquanto Bitcoin e Ethereum ganham força no mercado global Corretora que bloqueou bitcoin de clientes vai liberar saque de 10% de fundos; rendimentos serão afetados Governo zera taxa de importação de equipamentos para mineração de bitcoin Bitcoin (BTC) sobe 6% e volta aos US$ 66 mil; Ethereum (ETH) bate novo recorde de preço Baleia misteriosa acumula US$ 3 bilhões em Bitcoin em quatro dias e vira uma das maiores do mundo Estamos no bear market do Bitcoin (BTC)? Como investir na visão destes três especialistas brasileiros Bitcoin (BTC) tem segundo dia de queda; especialistas citam alavancagem e “ponto máximo de dor” Manhã Cripto: Bitcoin (BTC) avança e supera patamar de US$ 22 mil pela primeira vez em mais de um mês Bitcoin (BTC) e Ethereum (ETH) caem após maior inflação em 40 anos nos EUA Bitcoin arranha US$ 25 mil pela primeira vez desde junho Mt. Gox: Rumor sobre despejo de 137 mil bitcoins espalha pânico no mercado; entenda o caso Manhã Cripto: Bitcoin (BTC) encosta em US$ 23 mil mas perde força e mostra volatilidade  Manhã Cripto: após cair para US$ 25 mil, Bitcoin (BTC) sobe aos US$ 28 mil;  Ethereum (ETH) cai 21%, Cardano (ADA) 32%, Solana (SOL) 36% e Doge (DOGE) 30% Glassnode enxerga “caminho difícil” pela frente no preço do bitcoin Bitcoin renova máxima histórica e quebra recorde de preço em reais Manhã cripto: Criptomoedas em debate no Senado, Bitcoin (BTC) em alta e o novo alerta do FMI Elon Musk: “Dogecoin tem muito mais capacidade do que Bitcoin” Quais os sinais de que o preço do Bitcoin já encontrou o fundo, segundo a Glassnode Empresa que travou bitcoin de clientes recupera US$ 400 milhões que estavam sob risco de liquidação Manhã Cripto: Bitcoin (BTC) sobe e tenta recuperar patamar de US$ 20 mil; dados sugerem rali no preço em breve   Tesla vende 75% da sua reserva de bitcoin por US$ 936 milhões Bitcoin surpreende e sobe após Fed anunciar a maior alta na taxa de juros desde 1994 Binance anuncia que vai remover dois pares de negociação com Bitcoin e Ethereum Manhã cripto: enquanto investidores esperam decisão do FED, Bitcoin e altcoins ensaiam tímida alta Manhã cripto: Bitcoin (BTC) e Ethereum (ETH) sobem 5% com recado chinês e na espera do FED Empresa Ledn arrecada US$ 70 milhões para lançar hipotecas lastreadas em bitcoin Por que a volatilidade do Bitcoin (BTC) anda tão baixa, segundo a Glassnode Terceira maior baleia de bitcoin compra 4701 BTCs nas quedas de janeiro e supera MicroStrategy Fundação Luna zera estoque de bitcoin e gasta mais de US$ 3 bilhões para salvar a stablecoin UST Manhã Cripto: Mercado teme contágio com colapso do fundo 3AC e Bitcoin (BTC) afunda para baixo dos US$ 20 mil Bitcoin despenca após sinalização de que EUA podem seguir aumentando os juros Mercado de criptomoedas volta a superar US$ 1 trilhão com guinada de Bitcoin e Ethereum Mercado de criptomoedas volta a superar US$ 1 trilhão com alta forte de bitcoin e ether Manhã Cripto: Bitcoin (BTC) perde patamar de US$ 30 mil e Ethereum (ETH) mergulha 7%  Mercado Bitcoin e EQI lançam parceria inédita no mercado de criptoativos Ventiladores de mineradora de bitcoin nos EUA geram reclamações de barulho e calor Manhã Cripto: Bitcoin (BTC) pega carona na alta do mercado de ações e luta para se manter acima dos US$ 23 mil Investimento Bitcoin: conhecendo a criptomoeda Manhã cripto: Bitcoin (BTC) acima de US$ 42 mil e Ethereum (ETH) supera marca de US$ 3 mil MicroStrategy perde R$ 850 milhões no primeiro trimestre com desvalorização do Bitcoin Mercado Bitcoin lista oito criptomoedas; uma delas busca ser solução de escalabilidade para Ethereum Manhã cripto: Bitcoin (BTC) ensaia recuperação, Terra (LUNA) segue em queda livre e Bored Apes desvalorizam Por que o Bitcoin não para de cair na visão destes três especialistas Manhã Cripto: Bitcoin (BTC) volta a subir e Ethereum (ETH) dispara com expectativa pela Fusão Para o FMI, queda do Bitcoin não afetou a estabilidade da economia mundial Incerteza na China por Evergrande faz Bitcoin (BTC) recuar para US$ 65 mil Manhã cripto: Mensagem de Elon Musk ajuda Bitcoin (BTC), Ethereum (ETH) e Dogecoin (DOGE) Bitcoin (BTC) registra alta de 5,5% e Ethereum (ETH) supera os US$ 4 mil com mudanças na moeda turca Bitcoin (BTC) cai quase 4% e concorrentes do Ethereum (ETH) desabam mais de 10% El Salvador recebe ajuda de empresa de software dos EUA para corrigir carteira de bitcoin Chivo Manhã cripto: FED promete mais aperto, Bitcoin (BTC) cai para 45 mil e sanções à Rússia podem endurecer mercado Bitcoin registra sua menor dominância de mercado desde 2018 Bitcoin cai abaixo de US$ 23 mil com aumento dos juros na Europa Senadores pró-bitcoin nos EUA querem mudar texto sobre criptomoedas na lei de infraestrutura Estudo revela o apetite das Baleias por bitcoin durante a queda do mercado de criptomoedas Falhas no DNS provocam queda do hashrate nos grandes pools de mineração de bitcoin Manhã cripto: Bitcoin (BTC) e Ethereum (ETH) ensaiam recuperação apesar de riscos geopolíticos Manhã Cripto: Com investidores de olho na crise de liquidez, Bitcoin (BTC) se mantém na casa de US$ 20 mil Carteira de bitcoin volta a se movimentar após 12 anos: US$ 90 valem agora US$ 20 milhões Manhã Cripto: Mercado mantém embalo e Bitcoin (BTC) se segura em US$ 21 mil; Solana (SOL) ganha 10% XP diz que pode iniciar negociação de Bitcoin em agosto e põe fogo em corrida contra o BTG Pactual Shiba Inu (SHIB) decola 16% com rumor de listagem e Bitcoin (BTC) se consolida em US$ 43 mil Manhã Cripto: Bitcoin (BTC) recua pela primeira vez em três dias com venda de criptomoedas da Tesla  Manhã cripto: mercado entra forte no negativo, com Bitcoin (BTC) abaixo de R$ 200 mil e Dogecoin em queda após fim de rumores no Twitter Bitcoin volta a desabar neste sábado e puxa mercado de criptomoedas para o vermelho Manhã Cripto: Bitcoin (BTC) tenta voltar ao patamar de US$ 20 mil; no Brasil, foco vai para projeto de lei que regulamenta criptomoedas “Mercados de ações, imóveis, ouro e bitcoin vão derreter”, prevê autor do livro ‘Pai Rico, Pai Pobre’ Bitcoin dispara 8,5% em meia hora e ultrapassa US$ 41 mil Manhã Cripto: Bitcoin (BTC) reage e volta para acima dos US$ 20 mil; Ethereum (ETH) dispara quase 10% Mercado de criptomoedas entra em modo foguete: Bitcoin (BTC) passa dos US$ 44 mil e Ethereum (ETH) se aproxima dos US$ 3 mil Resumo da semana cripto: Bitcoin e Ethereum sobem mesmo com as quebras das corretoras Voyager e Vauld Litecoin (LTC) sobe quase 10%; Bitcoin (BTC), Cardano (ADA), Ethereum (ETH) operam em queda Bitcoin (BTC) dispara 6% e ultrapassa US$ 51 mil na véspera de natal; Ethereum (ETH) supera US$ 4 mil Ripple vai começar a vender Bitcoin e Ethereum em meio a incertezas com XRP Mercado Bitcoin vai abrir negociação da Dogecoin (DOGE) na quinta-feira Arkansas quer atrair profissionais de tecnologia com recompensas em bitcoin Manhã cripto: Bitcoin (BTC) retorna a US$ 29 mil, caindo após bolsas de valores terem subido Manhã cripto: Bitcoin (BTC) e Ethereum (ETH) em queda com sinalização de aumento de juros nos EUA; Shiba Inu (SHIB) em alta Regulador europeu quer proibir mineração proof of work usada nas redes Bitcoin e Ethereum Crise das criptomoedas aniquila 76% dos “milionários” do Bitcoin Fundação Luna esvazia carteira de 42 mil bitcoins e cria tensão no mercado Bitcoin (BTC) segue em baixa, Solana (SOL) segue em crise e Cardano (ADA) tem leve recuperação Manhã Cripto: Bitcoin (BTC) volta a cair e fica abaixo dos US$ 19 mil; Ethereum (ETH) derrete quase 9% após problemas técnicos em atualização Bitcoin (BTC) cai 2,4% após recuperação no final de semana; principais altcoins operam em queda Manhã Cripto: Bitcoin (BTC) volta a recuar e ameaça perder patamar de US$ 21 mil; Ethereum (ETH) também cai Manhã Cripto: Bitcoin (BTC) e Ethereum (ETH) ganham força após aumento de juros nos EUA \n"
     ]
    }
   ],
   "source": [
    "dados_relevantes=dados.loc[dados['Target']==1,:]\n",
    "texto_relevantes=''\n",
    "for i in dados_relevantes['Titulo']:\n",
    "    texto_relevantes+=i+' '\n",
    "texto_relevantes_f=cleanup(texto_relevantes)\n",
    "print(texto_relevantes)\n"
   ]
  },
  {
   "cell_type": "code",
   "execution_count": 23,
   "id": "c5e5c7ee",
   "metadata": {},
   "outputs": [],
   "source": [
    "dados_irelevantes=dados.loc[dados['Target']==0,:]\n",
    "texto_irelevantes=''\n",
    "for i in dados_irelevantes['Titulo']:\n",
    "    texto_irelevantes+=i+' '\n",
    "texto_irelevantes_f=cleanup(texto_irelevantes)\n"
   ]
  },
  {
   "cell_type": "code",
   "execution_count": 24,
   "id": "352dc904",
   "metadata": {},
   "outputs": [
    {
     "data": {
      "text/plain": [
       "0        CoinFLEX\n",
       "1          demite\n",
       "2    funcionários\n",
       "3              em\n",
       "4            meio\n",
       "5               a\n",
       "6         disputa\n",
       "7              de\n",
       "8              US\n",
       "9              84\n",
       "dtype: object"
      ]
     },
     "execution_count": 24,
     "metadata": {},
     "output_type": "execute_result"
    }
   ],
   "source": [
    "todas_dados_relevantes=texto_relevantes_f.split()\n",
    "serie_relevante = pd.Series(todas_dados_relevantes)\n",
    "serie_relevante.head(10)"
   ]
  },
  {
   "cell_type": "code",
   "execution_count": 25,
   "id": "042ac653",
   "metadata": {},
   "outputs": [],
   "source": [
    "todas_dados_irelevantes=texto_irelevantes_f.split()\n",
    "serie_irelevante = pd.Series(todas_dados_irelevantes)\n",
    "#serie_irelevante.head(10)\n"
   ]
  },
  {
   "cell_type": "code",
   "execution_count": 26,
   "id": "71e8c480",
   "metadata": {},
   "outputs": [
    {
     "data": {
      "text/plain": [
       "de            254\n",
       "Bitcoin       194\n",
       "e             160\n",
       "BTC           108\n",
       "em             99\n",
       "             ... \n",
       "levanta         1\n",
       "expandir        1\n",
       "Vendas          1\n",
       "excessivas      1\n",
       "perder          1\n",
       "Length: 1203, dtype: int64"
      ]
     },
     "execution_count": 26,
     "metadata": {},
     "output_type": "execute_result"
    }
   ],
   "source": [
    "tabela_relevante=serie_relevante.value_counts()\n",
    "tabela_relevante"
   ]
  },
  {
   "cell_type": "code",
   "execution_count": 27,
   "id": "bca0dd1c",
   "metadata": {},
   "outputs": [
    {
     "data": {
      "text/plain": [
       "de             220\n",
       "do             128\n",
       "Bitcoin        125\n",
       "bitcoin        103\n",
       "e               88\n",
       "              ... \n",
       "intersecção      1\n",
       "Porto            1\n",
       "Alegre           1\n",
       "Estudo           1\n",
       "fevereiro        1\n",
       "Length: 1345, dtype: int64"
      ]
     },
     "execution_count": 27,
     "metadata": {},
     "output_type": "execute_result"
    }
   ],
   "source": [
    "tabela_irelevante=serie_irelevante.value_counts()\n",
    "tabela_irelevante"
   ]
  },
  {
   "cell_type": "code",
   "execution_count": 28,
   "id": "1f437b7f",
   "metadata": {},
   "outputs": [],
   "source": [
    "tabela_relevante_rel=serie_relevante.value_counts(True)"
   ]
  },
  {
   "cell_type": "code",
   "execution_count": 29,
   "id": "1c46c2df",
   "metadata": {},
   "outputs": [],
   "source": [
    "tabela_irelevante_rel=serie_irelevante.value_counts(True)"
   ]
  },
  {
   "cell_type": "code",
   "execution_count": 30,
   "id": "7182e4d8",
   "metadata": {},
   "outputs": [
    {
     "data": {
      "text/plain": [
       "de           0.060467\n",
       "Bitcoin      0.040694\n",
       "e            0.031637\n",
       "do           0.026534\n",
       "bitcoin      0.022579\n",
       "               ...   \n",
       "expandir     0.000128\n",
       "levanta      0.000128\n",
       "fio          0.000128\n",
       "errado”      0.000128\n",
       "fevereiro    0.000128\n",
       "Length: 2081, dtype: float64"
      ]
     },
     "execution_count": 30,
     "metadata": {},
     "output_type": "execute_result"
    }
   ],
   "source": [
    "todas_texto=texto_f.split()\n",
    "serie_todas=pd.Series(todas_texto)\n",
    "tabela_todas=serie_todas.value_counts()\n",
    "tabela_todas_rel=serie_todas.value_counts(True)\n",
    "tabela_todas_rel\n",
    "#todas_texto"
   ]
  },
  {
   "cell_type": "code",
   "execution_count": 31,
   "id": "16160030",
   "metadata": {},
   "outputs": [
    {
     "name": "stdout",
     "output_type": "stream",
     "text": [
      "0.5551728536803163\n",
      "0.4448271463196836\n"
     ]
    }
   ],
   "source": [
    "\n",
    "probR=len(todas_dados_relevantes)/len(todas_texto)\n",
    "probI=len(todas_dados_irelevantes)/len(todas_texto)\n",
    "print(probR)\n",
    "print(probI)\n"
   ]
  },
  {
   "cell_type": "code",
   "execution_count": null,
   "id": "c66e5fb2",
   "metadata": {},
   "outputs": [],
   "source": [
    "\n",
    "        \n",
    "        "
   ]
  },
  {
   "cell_type": "code",
   "execution_count": 73,
   "id": "ab6ad295",
   "metadata": {},
   "outputs": [],
   "source": [
    "def 47(frase):\n",
    "    frase_2 \n",
    "\n",
    "def go2(frase):\n",
    "    frase_2=cleanup(frase)\n",
    "    frase_f=frase_2.split()\n",
    "    print(frase_f)\n",
    "    probFraseDadoR=1\n",
    "    probFraseDadoI=1\n",
    "    x=0\n",
    "    y=0\n",
    "    c=0\n",
    "    tanafrase=True\n",
    "    tanaFraseI=True\n",
    "    for i in frase_f:\n",
    "        if i not in tabela_relevante:\n",
    "            tanafrase=False\n",
    "            c+=1\n",
    "            print(tanafrase)\n",
    "        if i not in tabela_irelevante:\n",
    "            tanafrase=False\n",
    "            print(tanafrase)\n",
    "            c+=1\n",
    "            \n",
    "    for i in frase_f:\n",
    "    \n",
    "        if tanafrase:\n",
    "            probFraseDadoR=probFraseDadoR*tabela_relevante_rel[i]\n",
    "    \n",
    "        if not tanafrase:\n",
    "            if i in tabela_relevante_rel:\n",
    "                x=(tabela_relevante_rel[i]*len(todas_dados_relevantes))+1\n",
    "                probFraseDadoR=probFraseDadoR*(x/(len(todas_texto)+len(todas_texto)+c))\n",
    "        \n",
    "        if tanafrase:\n",
    "            probFraseDadoI=probFraseDadoI*tabela_irelevante_rel[i]\n",
    "        \n",
    "        if not tanaFraseI:\n",
    "            if i in tabela_irelevante_rel:\n",
    "                x=(tabela_irelevante_rel[i]*len(todas_dados_relevantes))+1\n",
    "                probFraseDadoI=probFraseDadoI*(x/(len(todas_texto)+len(todas_texto)+c))\n",
    "    if probFraseDadoR>probFraseDadoI:\n",
    "        return 'relevante'\n",
    "    else:\n",
    "        return 'Irrelevante'"
   ]
  },
  {
   "cell_type": "code",
   "execution_count": 75,
   "id": "b56734cf",
   "metadata": {},
   "outputs": [
    {
     "name": "stdout",
     "output_type": "stream",
     "text": [
      "['CoinFLEX', 'demite', 'funcionários', 'em', 'meio', 'a', 'disputa', 'de', 'US', '84', 'milhões', 'com', 'criador', 'do', 'Bitcoin', 'Cash']\n",
      "False\n",
      "2\n",
      "False\n",
      "2\n",
      "False\n",
      "2\n",
      "False\n",
      "2\n",
      "False\n",
      "2\n",
      "False\n",
      "2\n",
      "3\n",
      "4\n",
      "5\n",
      "3\n",
      "4\n",
      "5\n",
      "3\n",
      "4\n",
      "5\n",
      "3\n",
      "4\n",
      "5\n",
      "3\n",
      "4\n",
      "5\n",
      "3\n",
      "4\n",
      "5\n",
      "3\n",
      "4\n",
      "5\n",
      "3\n",
      "4\n",
      "5\n",
      "3\n",
      "4\n",
      "5\n",
      "3\n",
      "4\n",
      "5\n",
      "3\n",
      "4\n",
      "5\n",
      "3\n",
      "4\n",
      "5\n",
      "3\n",
      "4\n",
      "5\n",
      "3\n",
      "4\n",
      "5\n",
      "3\n",
      "4\n",
      "5\n",
      "3\n",
      "4\n",
      "5\n",
      "Irrelevante\n"
     ]
    }
   ],
   "source": [
    "teste=go2('CoinFLEX demite funcionários em meio a disputa de US$ 84 milhões com criador do Bitcoin Cash')\n",
    "print(teste)"
   ]
  },
  {
   "cell_type": "code",
   "execution_count": 182,
   "id": "380e8b99",
   "metadata": {},
   "outputs": [],
   "source": [
    "def go20(frase):\n",
    "    frase_2=cleanup(frase)\n",
    "    frase_f=frase_2.split()\n",
    "    probFraseDadoR=1\n",
    "    x=0\n",
    "    y=0\n",
    "    probFraseDadoI=1\n",
    "    lista=[]\n",
    "    tanafrase=True\n",
    "    tanafrasei=True\n",
    "    for i in frase_f:\n",
    "        if i not in tabela_relevante:\n",
    "            tanafrase=False\n",
    "            \n",
    "        if i not in tabela_irelevante:\n",
    "            tanafrasei=False\n",
    "        \n",
    "    for i in frase_f:\n",
    "        \n",
    "        for c in matriz:\n",
    "            if i in c:\n",
    "                \n",
    "                lista.append(c)\n",
    "               \n",
    "    res = []\n",
    "    track = []\n",
    "    count = 0\n",
    "  \n",
    "    for sub in lista:\n",
    "        res.append([]);\n",
    "        for ele in sub:\n",
    "            if ele not in track:\n",
    "                res[count].append(ele)\n",
    "                track.append(ele)\n",
    "    c=0\n",
    "    for number in res:\n",
    "        c+=len(number)\n",
    "\n",
    "    for word in frase_f:\n",
    "        if not tanafrase:\n",
    "            if word in tabela_relevante_rel:\n",
    "                x=(tabela_relevante_rel[word]*len(todas_dados_relevantes))+1\n",
    "                probFraseDadoR=probFraseDadoR*(x/(len(todas_texto)+c))\n",
    "            else:\n",
    "                probFraseDadoR=probFraseDadoR*(1/(len(todas_texto)+c))\n",
    "        if not tanafrasei:\n",
    "            if word in tabela_irelevante_rel:\n",
    "                y=(tabela_irelevante_rel[word]*len(todas_dados_irelevantes))+1\n",
    "                probFraseDadoI=probFraseDadoI*(y/(len(todas_texto)+c))\n",
    "            else:\n",
    "                probFraseDadoI=probFraseDadoI*(1/(len(todas_texto)+c))\n",
    "            \n",
    "        if tanafrasei:\n",
    "            probFraseDadoI=probFraseDadoI*tabela_irelevante_rel[word]\n",
    "    \n",
    "        if tanafrase:\n",
    "            probFraseDadoR=probFraseDadoR*tabela_relevante_rel[word]\n",
    "\n",
    "    if probFraseDadoR>probFraseDadoI:\n",
    "        return 'relevante'\n",
    "    else:\n",
    "        return 'Irrelevante'\n",
    "    \n",
    "                                       \n",
    "        \n",
    "        \n",
    "                \n",
    "            \n",
    "            \n",
    "    "
   ]
  },
  {
   "cell_type": "code",
   "execution_count": 191,
   "id": "8f988c8c",
   "metadata": {},
   "outputs": [
    {
     "name": "stdout",
     "output_type": "stream",
     "text": [
      "relevante\n"
     ]
    }
   ],
   "source": [
    "print(go20('Colégio pedro 2 investigado por subida da bitcoin, que aumentou em 4 reais'))"
   ]
  },
  {
   "cell_type": "code",
   "execution_count": null,
   "id": "7c397003",
   "metadata": {},
   "outputs": [],
   "source": []
  },
  {
   "cell_type": "code",
   "execution_count": null,
   "id": "da9eba5f",
   "metadata": {},
   "outputs": [],
   "source": []
  }
 ],
 "metadata": {
  "kernelspec": {
   "display_name": "Python 3 (ipykernel)",
   "language": "python",
   "name": "python3"
  },
  "language_info": {
   "codemirror_mode": {
    "name": "ipython",
    "version": 3
   },
   "file_extension": ".py",
   "mimetype": "text/x-python",
   "name": "python",
   "nbconvert_exporter": "python",
   "pygments_lexer": "ipython3",
   "version": "3.9.7"
  }
 },
 "nbformat": 4,
 "nbformat_minor": 5
}
