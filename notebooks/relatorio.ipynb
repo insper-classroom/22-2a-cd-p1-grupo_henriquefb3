{
 "cells": [
  {
   "cell_type": "code",
   "execution_count": 71,
   "id": "3083dc1d",
   "metadata": {},
   "outputs": [],
   "source": [
    "%matplotlib inline\n",
    "import pandas as pd\n",
    "import matplotlib.pyplot as plt\n",
    "import numpy as np\n",
    "import os"
   ]
  },
  {
   "cell_type": "code",
   "execution_count": 72,
   "id": "9fb35197",
   "metadata": {},
   "outputs": [
    {
     "name": "stdout",
     "output_type": "stream",
     "text": [
      "Esperamos trabalhar no diretório\n",
      "c:\\Users\\henri\\OneDrive\\Desktop\\PYTHON\\CDados\\Trabalho 1\\22-2a-cd-p1-grupo_henriquefb3\\notebooks\n"
     ]
    }
   ],
   "source": [
    "print('Esperamos trabalhar no diretório')\n",
    "print(os.getcwd())\n"
   ]
  },
  {
   "cell_type": "code",
   "execution_count": 73,
   "id": "174f9232",
   "metadata": {},
   "outputs": [],
   "source": [
    "dados = pd.read_excel('dados_treinamento.xlsx')"
   ]
  },
  {
   "cell_type": "code",
   "execution_count": 74,
   "id": "e6dc3a0e",
   "metadata": {},
   "outputs": [
    {
     "data": {
      "text/plain": [
       "(540, 4)"
      ]
     },
     "execution_count": 74,
     "metadata": {},
     "output_type": "execute_result"
    }
   ],
   "source": [
    "dados.shape"
   ]
  },
  {
   "cell_type": "code",
   "execution_count": 75,
   "id": "129cbe32",
   "metadata": {},
   "outputs": [
    {
     "data": {
      "text/html": [
       "<div>\n",
       "<style scoped>\n",
       "    .dataframe tbody tr th:only-of-type {\n",
       "        vertical-align: middle;\n",
       "    }\n",
       "\n",
       "    .dataframe tbody tr th {\n",
       "        vertical-align: top;\n",
       "    }\n",
       "\n",
       "    .dataframe thead th {\n",
       "        text-align: right;\n",
       "    }\n",
       "</style>\n",
       "<table border=\"1\" class=\"dataframe\">\n",
       "  <thead>\n",
       "    <tr style=\"text-align: right;\">\n",
       "      <th></th>\n",
       "      <th>Titulo</th>\n",
       "      <th>Descrição</th>\n",
       "      <th>Pagina</th>\n",
       "      <th>Target</th>\n",
       "    </tr>\n",
       "  </thead>\n",
       "  <tbody>\n",
       "    <tr>\n",
       "      <th>0</th>\n",
       "      <td>CoinFLEX demite funcionários em meio a disputa...</td>\n",
       "      <td>A conturbada corretora de criptomoedas CoinFLE...</td>\n",
       "      <td>12</td>\n",
       "      <td>1</td>\n",
       "    </tr>\n",
       "    <tr>\n",
       "      <th>1</th>\n",
       "      <td>O que dar de presente neste Natal para alguém ...</td>\n",
       "      <td>Está em busca de um presente legal para um ent...</td>\n",
       "      <td>83</td>\n",
       "      <td>0</td>\n",
       "    </tr>\n",
       "    <tr>\n",
       "      <th>2</th>\n",
       "      <td>Direto de El Salvador: duas perguntas para o m...</td>\n",
       "      <td>O maximalista de bitcoin Max Keiser abriu as a...</td>\n",
       "      <td>91</td>\n",
       "      <td>0</td>\n",
       "    </tr>\n",
       "    <tr>\n",
       "      <th>3</th>\n",
       "      <td>Lamborghini de R$ 630 mil do falso Rei do Bitc...</td>\n",
       "      <td>Começa na próxima sexta-feira (22) o leilão de...</td>\n",
       "      <td>15</td>\n",
       "      <td>0</td>\n",
       "    </tr>\n",
       "    <tr>\n",
       "      <th>4</th>\n",
       "      <td>Nubank usou R$ 140 milhões para comprar até 10...</td>\n",
       "      <td>Com R$ 14 bilhões em caixa, conforme o último ...</td>\n",
       "      <td>35</td>\n",
       "      <td>1</td>\n",
       "    </tr>\n",
       "  </tbody>\n",
       "</table>\n",
       "</div>"
      ],
      "text/plain": [
       "                                              Titulo  \\\n",
       "0  CoinFLEX demite funcionários em meio a disputa...   \n",
       "1  O que dar de presente neste Natal para alguém ...   \n",
       "2  Direto de El Salvador: duas perguntas para o m...   \n",
       "3  Lamborghini de R$ 630 mil do falso Rei do Bitc...   \n",
       "4  Nubank usou R$ 140 milhões para comprar até 10...   \n",
       "\n",
       "                                           Descrição  Pagina  Target  \n",
       "0  A conturbada corretora de criptomoedas CoinFLE...      12       1  \n",
       "1  Está em busca de um presente legal para um ent...      83       0  \n",
       "2  O maximalista de bitcoin Max Keiser abriu as a...      91       0  \n",
       "3  Começa na próxima sexta-feira (22) o leilão de...      15       0  \n",
       "4  Com R$ 14 bilhões em caixa, conforme o último ...      35       1  "
      ]
     },
     "execution_count": 75,
     "metadata": {},
     "output_type": "execute_result"
    }
   ],
   "source": [
    "dados.head()"
   ]
  },
  {
   "cell_type": "code",
   "execution_count": 76,
   "id": "3c0cf777",
   "metadata": {},
   "outputs": [
    {
     "name": "stdout",
     "output_type": "stream",
     "text": [
      "O que dar de presente neste Natal para alguém que ama Bitcoin e criptomoedas?\n"
     ]
    }
   ],
   "source": [
    "print(dados['Titulo'][1])\n",
    "\n"
   ]
  },
  {
   "cell_type": "code",
   "execution_count": null,
   "id": "b0ba400a",
   "metadata": {},
   "outputs": [],
   "source": []
  },
  {
   "cell_type": "code",
   "execution_count": 77,
   "id": "72831a03",
   "metadata": {},
   "outputs": [],
   "source": [
    "\n",
    "texto=''\n",
    "for i in range(0,540):\n",
    "    texto+=dados['Titulo'][i]+' '\n",
    "\n"
   ]
  },
  {
   "cell_type": "code",
   "execution_count": null,
   "id": "b5c548be",
   "metadata": {},
   "outputs": [],
   "source": []
  },
  {
   "cell_type": "code",
   "execution_count": 78,
   "id": "bc4b0cc8",
   "metadata": {},
   "outputs": [],
   "source": [
    "import re \n",
    "\n",
    "\n",
    "def cleanup(text):\n",
    "    \"\"\"\n",
    "        Função de limpeza muito simples que troca alguns sinais básicos por espaços\n",
    "    \"\"\"\n",
    "    #import string\n",
    "    punctuation = '[!-.:?;]' # Note que os sinais [] são delimitadores de um conjunto.\n",
    "    pattern = re.compile(punctuation)\n",
    "    text_subbed = re.sub(pattern, '', text)\n",
    "    return text_subbed\n",
    "texto_f=cleanup(texto)\n",
    "\n"
   ]
  },
  {
   "cell_type": "code",
   "execution_count": 79,
   "id": "b32d3128",
   "metadata": {},
   "outputs": [],
   "source": [
    "i=0\n",
    "lista=[]\n",
    "while i<540:\n",
    "    lista.append(dados['Titulo'][i])\n",
    "    i+=1\n",
    "matriz=[]\n",
    "for i in lista:\n",
    "    frase_ma=cleanup(i)\n",
    "    frase_matriz=frase_ma.split()\n",
    "    matriz.append(frase_matriz)\n",
    "    \n",
    "    \n"
   ]
  },
  {
   "cell_type": "code",
   "execution_count": 80,
   "id": "e809c8be",
   "metadata": {},
   "outputs": [
    {
     "name": "stdout",
     "output_type": "stream",
     "text": [
      "CoinFLEX demite funcionários em meio a disputa de US$ 84 milhões com criador do Bitcoin Cash Nubank usou R$ 140 milhões para comprar até 1000 bitcoins em processo pouco transparente Mercado Bitcoin firma parceria com Stellar para desenvolver projeto de Real Digital em laboratório do Bacen BBC mostra como funciona megaoperação de mineração de bitcoin no Cazaquistão Bitcoin (BTC) em leve queda, o estranho token que subiu 53% e a regulação do metaverso Rede de supermercados dos EUA vai ganhar caixas eletrônicos de Bitcoin e memecoins Binance lança serviço de staking de Bitcoin com juros de 8,19% Cardano (ADA) opera em alta de mais de 10%; Bitcoin (BTC) e restante do mercado em baixa Binance US anuncia taxa zero para negociações de bitcoin em dólar Juros x valor do Bitcoin: conheça o histórico entre as variáveis e por que a criptomoeda deve voltar a subir | Opinião Destaques da semana: Bitcoin e Ethereum deslizam enquanto Mastercard expande atuação no universo cripto CVM dos EUA nega solicitação de ETF de bitcoin da WisdomTree Resumo da semana cripto: Bitcoin e Ethereum caem 30% em meio ao caos do colapso da Celsius Bitcoin supera rublo russo e se torna a 14ª maior moeda do mundo Terra compra mais 2.943 bitcoins e reserva da moeda já supera US$ 1,4 bilhão Bitcoin (BTC) se recupera e volta a superar US$ 40 mil com compra do Twitter por Elon Musk Cazaquistão suspende energia para mineração de bitcoin em meio a apagões na Ásia Central Bitcoin (BTC) está prestes a atingir a Cruz da Morte; entenda ETF de mineração de bitcoin com foco em energia renovável é lançado na Nasdaq Devo investir em bitcoin e ethereum ou em criptomoedas como Shiba Inu, Doge Coin, Baby Doge? Manhã cripto: Bitcoin (BTC) e Ethereum (ETH) mantêm bom momento e Solana (SOL) dispara Manhã Cripto: Bitcoin (BTC) se mantém acima de US$ 31 mil enquanto altcoins recuam; Cardano (ADA) tem queda forte China volta a superar 20% da mineração mundial de bitcoin mesmo com proibição do governo EUA acusam réu de enviar US$ 10 milhões em bitcoin a país em lista de sanções  Manhã Cripto: Bitcoin (BTC) inicia agosto abaixo de US$ 24 mil após melhor mês de 2022; no Brasil, PL das Criptomoedas pode ser votado pela Câmara   Manhã cripto: O recado do Banco Central dos EUA e a queda do Bitcoin (BTC) FMI insiste que El Salvador não deve usar bitcoin como moeda corrente PicPay segue Nubank e promete liberar negociação de bitcoin Governo da Austrália caça carteira de bitcoin de casal acusado de golpe de US$ 29 milhões MicroStrategy compra mais 4 mil bitcoins e eleva carteira a US$ 6 bilhões Governo dos Estados Unidos vai vender 4,9 bitcoins em leilão Manhã cripto: mercado derrete com queda de dois dígitos para Cardano (ADA), Solana (SOL), Shiba Inu (SHIB) e Avalanche (AVAX); Bitcoin (BTC) em baixa de 5% Como a volta de confiança no bitcoin por holders a curto prazo é um sinal positivo para o mercado, segundo a Glassnode Mercado Bitcoin lista seis novas criptomoedas Governo da Índia vai propor lei para regular bitcoin e criptomoedas Bitcoin também cai para menos de R$ 100 mil pela primeira vez desde dezembro de 2020 Resumo da semana: Bitcoin atinge maior alta de 2022, Solana e Terra disparam, Ethereum em campanha KPMG do Canadá compra Bitcoin e Ethereum para colocar no caixa da empresa Manhã Cripto: Mercado derrete com expectativa de aumento de juros nos EUA; Bitcoin luta para se manter acima dos US$ 20 mil Manhã Cripto: Bitcoin se segura acima dos US$ 30 mil com mercado de olho em inflação e juros Por que o colapso da Celsius pode empurrar o bitcoin para abaixo dos R$ 100 mil “Bitcoin não vale esse preço”, diz André Esteves, do BTG, em áudio vazado de reunião com clientes Manhã Cripto: Bitcoin (BTC) luta para se manter na casa de US$ 24 mil; empresas de mineração anunciam prejuízo Manhã Cripto: Bitcoin (BTC) ensaia reação em meio a tensão sobre juros; plataforma de empréstimo de NFTs enfrenta problemas financeiros Dificuldade de mineração do bitcoin sobe pela oitava vez desde proibição na China Manhã Cripto: Bitcoin (BTC) dá maior salto diário em seis semanas com euforia sobre juros nos EUA Bitcoin pode entrar na fase mais sombria do mercado de baixa, analisa Glassnode Manhã cripto: Bitcoin (BTC) em leve queda, executivo ucraniano dispara contra Binance e aumento no interesse por mineração Bitcoin (BTC) e Ethereum (ETH) abrem semana em queda; Luna segue disparada Criador da Celsius some após travar US$ 12 bilhões de clientes e derrubar o preço do bitcoin Senado do Paraguai aprova lei de criptomoedas e país pode se tornar potência na mineração do bitcoin Glassnode: os touros vão conseguir manter os ursos à distância no mercado de bitcoins? 82 dias de baixa e sentimento negativo: como está a demanda por Bitcoin, segundo a Glassnode Como a Binance perdeu o bitcoin de um cliente após converter seu endereço de saque Resumo da semana: as principais moedas seguem crescendo enquanto a Flórida tenta descobrir como fazer para aceitar Bitcoin em pagamento de impostos Manhã Cripto: Após pior mês já registrado, Bitcoin (BTC) tem dia volátil e tenta retomar patamar de US$ 20 mil Banco centenário da Austrália será o primeiro do país a aceitar bitcoin Ações da Alphabet, Nvidia e GameStop tiveram desempenho melhor que o bitcoin em 2021 ‘Baleia’ transfere R$ 1,6 bilhão em bitcoin e paga apenas R$ 0,57 de taxa Manhã cripto: juros nos EUA afetam o Bitcoin (BTC), críticas do BC da Índia e a dúvida sobre a Web3 Investidores de bitcoin têm prejuízo recorde de US$ 7,3 bilhões em três dias Ministério russo quer legalizar a mineração de bitcoin em algumas regiões do país Manhã cripto: Bitcoin (BTC) acima dos US$ 47 mil, Solana (SOL) salta 8% e Binance anuncia escritório no Rio Bitcoin perde 56% do valor e tem o pior trimestre desde 2011 Nona maior baleia de bitcoin do mundo compra 7.000 BTCs durante queda “Hoje eu chamaria o Bitcoin Cash de grande fracasso”, diz Vitalik Buterin Além do Bitcoin: tokens de primeira camada e DeFi têm quedas de mais de 15% Por que o preço do bitcoin derreteu, segundo este estudo da Chainalysis Manhã Cripto: Ethereum (ETH) dá forte salto  e Bitcoin (BTC) esboça ação positiva, mas tímida Bitcoin (BTC) e principais criptomoedas sobem após FED descartar aumento de juros Bitcoin atinge marca histórica: 1 bilhão de endereços criados na rede Manhã Cripto: Bitcoin e Ethereum ensaiam recuperação, mas incertezas globais ainda pesam no mercado Mineradora vende metade da sua reserva de bitcoin em meio à queda do mercado Empresa de criptomoedas com problemas promete liberar saques de Bitcoin e Ethereum em agosto SEC está de olho nos produtos de alto rendimento com bitcoin e ethereum da BlockFi Como o maior defensor do Bitcoin Cash quebrou uma corretora de criptomoedas Manhã cripto: Bitcoin (BTC) recua com menor apetite por risco, Ethereum (ETH) cai abaixo de US$ 3 mil e FED prepara remédio amargo Mercado Bitcoin faz cortes para enfrentar novo panorama financeiro global Manhã Cripto: Bitcoin (BTC) ensaia alta enquanto mais uma corretora suspende saques; Justiça bloqueia R$ 450 milhões da Capitual, segundo jornal 90% de todos os 21 milhões de bitcoins já foram minerados Região autônoma de Honduras adota Bitcoin como moeda de curso legal Manhã cripto: Bitcoin (BTC) em queda com inflação acelerada e contínua tensão geopolítica Cem bitcoins da era Satoshi foram movidos: valorização foi de centavos para R$ 20 milhões Interpol investiga trio nigeriano suspeito de usar Bitcoin para lavar US$ 215 milhões Compras de bitcoin de Tesla e MicroStrategy “entram no vermelho” com queda no preço da criptomoeda Manhã Cripto: Bitcoin (BTC) e Ethereum (ETH) andam de lado; Dogecoin (DOGE) dispara 16% Como o preço Bitcoin se recuperou das perdas dos primeiros meses de 2022 Balanço de bitcoin nas corretoras de criptomoedas chega ao menor nível desde 2018 Queda no preço do bitcoin joga mineradores para o centro da crise das criptomoedas Bitcoin (BTC) desaba 8% e derruba mercado; Solana (SOL), Cardano (ADA) e Polkadot (DOT) em queda de até 10% Coinbase deixa de ser a corretora com mais bitcoin do mundo em meio a rumores de insolvência, mostra analista Bitcoin (BTC) se aproxima dos US$ 50 mil; Terra (LUNA), Cardano (ADA), XRP e Polkadot em alta de quase 10% Manhã cripto: Inflação e regras na UE pesam e Bitcoin (BTC) vai abaixo de US$ 46 mil; Ethereum (ETH) perde 4% e Shiba Inu (SHIB) despenca 8% Bitcoin (BTC) atinge o maior preço do ano, recupera perdas e espanta medo do bear market Manhã cripto: Bitcoin e altcoins seguem queda livre e Banco Central da Argentina proíbe negociações de criptomoedas Manhã Cripto: Bitcoin (BTC) anda de lado à espera dos resultados sobre a inflação nos EUA  Baleia adormecida movimenta R$ 500 milhões em bitcoin pela primeira vez desde 2013 As 4 criptomoedas que mais valorizaram durante a queda do bitcoin Bitcoin e Ethereum iniciam a semana com alta superior a 5% Preço do Bitcoin está por um fio, alerta Glassnode Empresa levanta US$ 500 milhões para expandir uso de gás na mineração de bitcoin Vendas excessivas de bitcoin no prejuízo podem ter chegado ao fim, sinaliza Glassnode Manhã cripto: Binance no Brasil, Avalanche (AVAX) em disparada e Bitcoin (BTC) em alta tímida após reunião do FED Glassnode: Bitcoin sai de corretoras a taxa de 96 mil BTCs por mês e mostra febre de acumulação Terra (LUNA) derrete 13%; Bitcoin (BTC) em leve alta e Binance Coin (BNB) tem forte valorização Presidente de El Salvador ainda não respondeu acusações de sumiço de bitcoins Goldman Sachs projeta preço do Bitcoin a US$ 100 mil e possibilidade de substituir o ouro Bitcoin fecha semana no verde mas preços baixos ainda estressam mineradores, diz Glassnode Com inverno cripto, ouro tem retorno 40% maior do que Bitcoin no ano Bitcoin (BTC) despenca 6% após banco dizer que “furacão está vindo” na economia global Manhã cripto: Bitcoin (BTC) e Ethereum (ETH) voltam a cair após otimismo com marco regulatório nos EUA Bitcoin (BTC) cai abaixo de US$ 20 mil pela primeira vez no mês; Ethereum (ETH) recua 7% Bitcoin (BTC) cai 4% em uma hora e encosta nos US$ 36 mil em dia de sangria no mercado Manhã Cripto: Bitcoin (BTC) luta para manter patamar de US$ 20 mil e já perde mais de 5% no acumulado da semana Bitcoin cai abaixo dos US$ 40 mil enquanto hashrate bate recorde histórico Manhã Cripto: Bitcoin (BTC) segue em queda e já perde 13% em uma semana; Corretora FTX tem salto de 1.000% na receita Americanos de 23 anos faturaram US$ 4 milhões com mineração de bitcoin no Texas com gás que seria jogado fora Após encostar nos US$ 39 mil, Bitcoin (BTC) cai e opera em baixa com FED pronto para aumentar juros nos EUA Alta do bitcoin deixa prejuízo de US$ 400 milhões para traders que apostaram na queda do mercado Mercado Bitcoin tem nova leva de demissões após piora do cenário global da economia Liquidações nos mercados de futuros foram responsáveis por afundar o preço do Bitcoin (BTC) Dificuldade de mineração do Bitcoin chega ao nível mais alto da história Mercado Bitcoin lança novo painel de negociações na plataforma web da corretora Glassnode projeta bitcoin e ethereum em baixa nos próximos meses; confira os dados on-chain Ethereum (ETH) opera em alta de 8%, Solana (SOL) decola 15% e Bitcoin (BTC) vai acima dos US$ 38 mil Mais de 62 mil traders de criptomoedas são liquidados conforme Bitcoin e Ethereum despencam Jornal estatal chinês volta a ‘matar’ o bitcoin: “Pirâmide que vai a zero” Bitcoin atinge marco de 19 milhões de BTCs minerados; restam 2 milhões Policiais que extorquiram R$ 1 milhão em bitcoin de investidor viram réus em Goiás ETF que aposta contra o bitcoin dispara 300% em uma semana Manhã cripto: Bitcoin fecha abril em queda de 17%, Coinbase prevê 1 bilhão de usuários cripto e maior banco argentino mergulha no setor Alavancagem extrema do Bitcoin e risco de ‘short squeeze’: o estado do mercado para a Glassnode Manhã cripto: Cardano (ADA) decola 26% e Bitcoin (BTC) passa dos US$ 31 mil Queda nas negociações e moedas paradas: o que esperar do Bitcoin para 2022, segundo a Glassnode Nubank abraça criptomoedas e vai começar a vender Bitcoin e Ethereum Futuro ETF de futuros de bitcoin da VanEck possui as menores taxas dos EUA Manhã cripto: Bitcoin (BTC) abaixo de US$ 40 mil, Elon Musk perto de comprar Twitter e filme  de Ridley Scott sobre Ethereum Bitcoin (BTC), Ethereum (ETH) e XRP abre segunda em queda; Solana (SOL) sobe 4% Parlamento de Portugal rejeita propostas de cobrar imposto sobre bitcoin e criptomoedas Mais de 30 mil bitcoins saíram da Coinbase em uma semana, aponta Glassnode Pirâmide com bitcoin que cometeu fraude de R$ 300 milhões vai a julgamento no Mato Grosso do Sul Bitcoin (BTC) reduz perdas, mas segue na região da Cruz da Morte; Dogecoin e Shiba Inu seguem em queda Bitcoin (BTC) cai 4% e arrasta o mercado; Polkadot (DOT), Cardano (ADA), Shina Inu (SHIB) em queda Elon Musk explica por que prefere Dogecoin ao invés de Bitcoin e comunidade rebate seus argumentos Em semana de perdas, mercado cripto recua;  Bitcoin e Ethereum acumulam quedas de 8% As cinco maiores quedas do Bitcoin e o que elas revelam sobre o momento atual Manhã cripto: Bitcoin (BTC) passa dos US$ 44 mil e Ethereum (ETH) dispara 8% Bitcoin em alta, dólar em baixa: o que muda para o mercado brasileiro de criptomoedas BC dos EUA defende regulamentação de criptomoedas e preço do bitcoin recua mais de 6% Decisão da Suprema Corte dos EUA pode impactar mineração de bitcoin Manhã Cripto: Corretora Voyager pede recuperação judicial mas Bitcoin (BTC) se segura em US$ 20 mil Mercado de criptomoedas chega a US$ 3 trilhões com força de bitcoin, ethereum e dogecoin Manhã cripto: Bitcoin (BTC), Ethereum (ETH), XRP, Polkadot (DOT) disparam e superam incerteza da guerra Manhã cripto: Rússia ataca Ucrânia e derruba mercado cripto; Bitcoin (BTC) em baixa de 8% e Ethereum (ETH) despenca 12% Miami vai pagar dividendos em bitcoin por uso da criptomoeda local, promete prefeito O que você precisa saber sobre o projeto de lei do bitcoin e do “peso digital” do Chile Desenvolvedores brasileiros de Bitcoin recebem doação de R$ 130 mil de ONG de direitos humanos Telegram agora permite comprar Bitcoin e movimentar o token TON via mensagens Duas criptomoedas que disparam enquanto Bitcoin e Ethereum patinaram durante a semana Bitcoin (BTC) em leve alta luta para manter os US$ 47 mil; Uniswap (UNI) dispara Investimento em bitcoin da Tesla já gerou lucro de US$ 1 bilhão Bitcoin (BTC) em alta após decisão na Rússia, mineração na Sibéria e o recuo do prefeito de NY Bitcoin (BTC) tem quarto dia seguido negativo, bate nos US$ 33 mil e cai 21% na semana Manhã cripto: Bitcoin retoma ganhos, Dogecoin (DOGE) pula com Musk no Twitter e acúmulo recorde de BTC em curso Mercado cripto retorna aos US$ 2 trilhões conforme Bitcoin (BTC) e Ethereum (ETH) se recuperam Mais um programador do Bitcoin Core decide sair: “Hora de partir” Domingo de sangue: Bitcoin (BTC) desce rumo aos US$ 26 mil, Ethereum (ETH) cai 8,9%, Cardano (ADA) 14%, Solana (SOL) 12% Holders de longo prazo ‘alfaçaram’ e já venderam 181 mil bitcoins em junho, mostra Glassnode Bitcoin chega a ficar abaixo de US$ 41 mil em um péssimo início de 2022 Bitcoin (BTC) chega a US$ 45 mil na madrugada; Polygon (Matic) dispara 9% em retomada do mercado Revolta no Cazaquistão afeta mineração e derruba preço do Bitcoin Manhã cripto: Bitcoin (BTC) se segura acima de US$ 40 mil e Ethereum (ETH) sobe 1% em meio a baixo volume Manhã cripto: mercado em queda, com Bitcoin (BTC) abaixo dos US$ 38 mil e Ethereum (ETH) em desvalorização de 1% Faturamento da mineração de Bitcoin supera a de Ethereum pela primeira vez no ano Mineradora vende quase todo estoque de bitcoin para se manter viva durante ‘inverno cripto’ Manhã Cripto: Bitcoin (BTC) ultrapassa US$ 24 mil com alívio da inflação nos EUA; Ethereum (ETH) dispara 14% após sucesso de teste da Fusão Polícia da Venezuela apreende 269 máquinas de mineração de bitcoin em duas operações Bitcoin é uma “crise climática”, diz CEO da Intel ao promover chip de mineração Dogecoin (DOGE) dispara com novo tuíte de Elon Musk; Bitcoin (BTC) segue em queda Preço do Bitcoin (BTC) cai por sete semanas consecutivas pela primeira vez na história Plataforma do Mercado Bitcoin recebe seis novos ativos Manhã cripto: Bitcoin (BTC) e Ethereum (ETH) disparam e recuperam patamares de US$ 20 mil e US$ 1 mil Terra volta a investir em Bitcoin (BTC) e atinge alocação de US$ 1,7 bilhão na criptomoeda Como está o mercado de bitcoin e o que podemos esperar nesta semana Vítima do Meu Pé de Bitcoin encontra criador do golpe e é ameaçado com faca; veja vídeo Listada na Nasdaq, Marathon anuncia captação de US$ 500 milhões para mineração de bitcoin Bitcoin (BTC) e Ethereum (ETH) sobem 5%; Solana (SOL), XRP e Polkadot (DOT) recuperam perdas Minerador de bitcoin tem sorte e ganha 6,25 BTC ao adicionar sozinho um bloco na rede Resumo da semana cripto: Preço do Bitcoin segue na lama enquanto países dificultam a vida das criptomoedas “Vamos manter o HODL do bitcoin mesmo na adversidade”, promete presidente da MicroStrategy Binance removeu mais três pares de negociação com Bitcoin (BTC) da plataforma Mineração de Bitcoin: como sobreviver à queda do mercado Manhã Cripto: Bitcoin (BTC) perde força enquanto Ethereum (ETH) sobe; Binance congela ativos roubados da Curve e criador da Huobi estuda venda da corretora  Manhã critpo: Bitcoin (BTC) respira após cair abaixo de US$ 30 mil; Terra (LUNA) despenca 50% e FED alerta sobre stablecoins Bitmain afirma que nova máquina de mineração de bitcoin de R$ 100 mil é a mais eficiente do mundo Nubank libera compra de bitcoin e ethereum no app; veja como funciona Manhã Cripto: Bitcoin (BTC) ensaia reação e tenta retomar patamar de US$ 20 mil; novas corretoras de criptomoedas podem chegar ao Brasil  Manhã Cripto: Brasil espera chegada de Elon Musk enquanto Bitcoin e Ethereum ganham força no mercado global Corretora que bloqueou bitcoin de clientes vai liberar saque de 10% de fundos; rendimentos serão afetados Governo zera taxa de importação de equipamentos para mineração de bitcoin Bitcoin (BTC) sobe 6% e volta aos US$ 66 mil; Ethereum (ETH) bate novo recorde de preço Baleia misteriosa acumula US$ 3 bilhões em Bitcoin em quatro dias e vira uma das maiores do mundo Estamos no bear market do Bitcoin (BTC)? Como investir na visão destes três especialistas brasileiros Bitcoin (BTC) tem segundo dia de queda; especialistas citam alavancagem e “ponto máximo de dor” Manhã Cripto: Bitcoin (BTC) avança e supera patamar de US$ 22 mil pela primeira vez em mais de um mês Bitcoin (BTC) e Ethereum (ETH) caem após maior inflação em 40 anos nos EUA Bitcoin arranha US$ 25 mil pela primeira vez desde junho Mt. Gox: Rumor sobre despejo de 137 mil bitcoins espalha pânico no mercado; entenda o caso Manhã Cripto: Bitcoin (BTC) encosta em US$ 23 mil mas perde força e mostra volatilidade  Manhã Cripto: após cair para US$ 25 mil, Bitcoin (BTC) sobe aos US$ 28 mil;  Ethereum (ETH) cai 21%, Cardano (ADA) 32%, Solana (SOL) 36% e Doge (DOGE) 30% Glassnode enxerga “caminho difícil” pela frente no preço do bitcoin Bitcoin renova máxima histórica e quebra recorde de preço em reais Manhã cripto: Criptomoedas em debate no Senado, Bitcoin (BTC) em alta e o novo alerta do FMI Elon Musk: “Dogecoin tem muito mais capacidade do que Bitcoin” Quais os sinais de que o preço do Bitcoin já encontrou o fundo, segundo a Glassnode Empresa que travou bitcoin de clientes recupera US$ 400 milhões que estavam sob risco de liquidação Manhã Cripto: Bitcoin (BTC) sobe e tenta recuperar patamar de US$ 20 mil; dados sugerem rali no preço em breve   Tesla vende 75% da sua reserva de bitcoin por US$ 936 milhões Bitcoin surpreende e sobe após Fed anunciar a maior alta na taxa de juros desde 1994 Binance anuncia que vai remover dois pares de negociação com Bitcoin e Ethereum Manhã cripto: enquanto investidores esperam decisão do FED, Bitcoin e altcoins ensaiam tímida alta Manhã cripto: Bitcoin (BTC) e Ethereum (ETH) sobem 5% com recado chinês e na espera do FED Empresa Ledn arrecada US$ 70 milhões para lançar hipotecas lastreadas em bitcoin Por que a volatilidade do Bitcoin (BTC) anda tão baixa, segundo a Glassnode Terceira maior baleia de bitcoin compra 4701 BTCs nas quedas de janeiro e supera MicroStrategy Fundação Luna zera estoque de bitcoin e gasta mais de US$ 3 bilhões para salvar a stablecoin UST Manhã Cripto: Mercado teme contágio com colapso do fundo 3AC e Bitcoin (BTC) afunda para baixo dos US$ 20 mil Bitcoin despenca após sinalização de que EUA podem seguir aumentando os juros Mercado de criptomoedas volta a superar US$ 1 trilhão com guinada de Bitcoin e Ethereum Mercado de criptomoedas volta a superar US$ 1 trilhão com alta forte de bitcoin e ether Manhã Cripto: Bitcoin (BTC) perde patamar de US$ 30 mil e Ethereum (ETH) mergulha 7%  Mercado Bitcoin e EQI lançam parceria inédita no mercado de criptoativos Ventiladores de mineradora de bitcoin nos EUA geram reclamações de barulho e calor Manhã Cripto: Bitcoin (BTC) pega carona na alta do mercado de ações e luta para se manter acima dos US$ 23 mil Investimento Bitcoin: conhecendo a criptomoeda Manhã cripto: Bitcoin (BTC) acima de US$ 42 mil e Ethereum (ETH) supera marca de US$ 3 mil MicroStrategy perde R$ 850 milhões no primeiro trimestre com desvalorização do Bitcoin Mercado Bitcoin lista oito criptomoedas; uma delas busca ser solução de escalabilidade para Ethereum Manhã cripto: Bitcoin (BTC) ensaia recuperação, Terra (LUNA) segue em queda livre e Bored Apes desvalorizam Por que o Bitcoin não para de cair na visão destes três especialistas Manhã Cripto: Bitcoin (BTC) volta a subir e Ethereum (ETH) dispara com expectativa pela Fusão Para o FMI, queda do Bitcoin não afetou a estabilidade da economia mundial Incerteza na China por Evergrande faz Bitcoin (BTC) recuar para US$ 65 mil Manhã cripto: Mensagem de Elon Musk ajuda Bitcoin (BTC), Ethereum (ETH) e Dogecoin (DOGE) Bitcoin (BTC) registra alta de 5,5% e Ethereum (ETH) supera os US$ 4 mil com mudanças na moeda turca Bitcoin (BTC) cai quase 4% e concorrentes do Ethereum (ETH) desabam mais de 10% El Salvador recebe ajuda de empresa de software dos EUA para corrigir carteira de bitcoin Chivo Manhã cripto: FED promete mais aperto, Bitcoin (BTC) cai para 45 mil e sanções à Rússia podem endurecer mercado Bitcoin registra sua menor dominância de mercado desde 2018 Bitcoin cai abaixo de US$ 23 mil com aumento dos juros na Europa Senadores pró-bitcoin nos EUA querem mudar texto sobre criptomoedas na lei de infraestrutura Estudo revela o apetite das Baleias por bitcoin durante a queda do mercado de criptomoedas Falhas no DNS provocam queda do hashrate nos grandes pools de mineração de bitcoin Manhã cripto: Bitcoin (BTC) e Ethereum (ETH) ensaiam recuperação apesar de riscos geopolíticos Manhã Cripto: Com investidores de olho na crise de liquidez, Bitcoin (BTC) se mantém na casa de US$ 20 mil Carteira de bitcoin volta a se movimentar após 12 anos: US$ 90 valem agora US$ 20 milhões Manhã Cripto: Mercado mantém embalo e Bitcoin (BTC) se segura em US$ 21 mil; Solana (SOL) ganha 10% XP diz que pode iniciar negociação de Bitcoin em agosto e põe fogo em corrida contra o BTG Pactual Shiba Inu (SHIB) decola 16% com rumor de listagem e Bitcoin (BTC) se consolida em US$ 43 mil Manhã Cripto: Bitcoin (BTC) recua pela primeira vez em três dias com venda de criptomoedas da Tesla  Manhã cripto: mercado entra forte no negativo, com Bitcoin (BTC) abaixo de R$ 200 mil e Dogecoin em queda após fim de rumores no Twitter Bitcoin volta a desabar neste sábado e puxa mercado de criptomoedas para o vermelho Manhã Cripto: Bitcoin (BTC) tenta voltar ao patamar de US$ 20 mil; no Brasil, foco vai para projeto de lei que regulamenta criptomoedas “Mercados de ações, imóveis, ouro e bitcoin vão derreter”, prevê autor do livro ‘Pai Rico, Pai Pobre’ Bitcoin dispara 8,5% em meia hora e ultrapassa US$ 41 mil Manhã Cripto: Bitcoin (BTC) reage e volta para acima dos US$ 20 mil; Ethereum (ETH) dispara quase 10% Mercado de criptomoedas entra em modo foguete: Bitcoin (BTC) passa dos US$ 44 mil e Ethereum (ETH) se aproxima dos US$ 3 mil Resumo da semana cripto: Bitcoin e Ethereum sobem mesmo com as quebras das corretoras Voyager e Vauld Litecoin (LTC) sobe quase 10%; Bitcoin (BTC), Cardano (ADA), Ethereum (ETH) operam em queda Bitcoin (BTC) dispara 6% e ultrapassa US$ 51 mil na véspera de natal; Ethereum (ETH) supera US$ 4 mil Ripple vai começar a vender Bitcoin e Ethereum em meio a incertezas com XRP Mercado Bitcoin vai abrir negociação da Dogecoin (DOGE) na quinta-feira Arkansas quer atrair profissionais de tecnologia com recompensas em bitcoin Manhã cripto: Bitcoin (BTC) retorna a US$ 29 mil, caindo após bolsas de valores terem subido Manhã cripto: Bitcoin (BTC) e Ethereum (ETH) em queda com sinalização de aumento de juros nos EUA; Shiba Inu (SHIB) em alta Regulador europeu quer proibir mineração proof of work usada nas redes Bitcoin e Ethereum Crise das criptomoedas aniquila 76% dos “milionários” do Bitcoin Fundação Luna esvazia carteira de 42 mil bitcoins e cria tensão no mercado Bitcoin (BTC) segue em baixa, Solana (SOL) segue em crise e Cardano (ADA) tem leve recuperação Manhã Cripto: Bitcoin (BTC) volta a cair e fica abaixo dos US$ 19 mil; Ethereum (ETH) derrete quase 9% após problemas técnicos em atualização Bitcoin (BTC) cai 2,4% após recuperação no final de semana; principais altcoins operam em queda Manhã Cripto: Bitcoin (BTC) volta a recuar e ameaça perder patamar de US$ 21 mil; Ethereum (ETH) também cai Manhã Cripto: Bitcoin (BTC) e Ethereum (ETH) ganham força após aumento de juros nos EUA \n"
     ]
    }
   ],
   "source": [
    "dados_relevantes=dados.loc[dados['Target']==1,:]\n",
    "texto_relevantes=''\n",
    "for i in dados_relevantes['Titulo']:\n",
    "    texto_relevantes+=i+' '\n",
    "texto_relevantes_f=cleanup(texto_relevantes)\n",
    "print(texto_relevantes)\n"
   ]
  },
  {
   "cell_type": "code",
   "execution_count": 81,
   "id": "c5e5c7ee",
   "metadata": {},
   "outputs": [],
   "source": [
    "dados_irelevantes=dados.loc[dados['Target']==0,:]\n",
    "texto_irelevantes=''\n",
    "for i in dados_irelevantes['Titulo']:\n",
    "    texto_irelevantes+=i+' '\n",
    "texto_irelevantes_f=cleanup(texto_irelevantes)\n"
   ]
  },
  {
   "cell_type": "code",
   "execution_count": 82,
   "id": "352dc904",
   "metadata": {},
   "outputs": [
    {
     "data": {
      "text/plain": [
       "0        CoinFLEX\n",
       "1          demite\n",
       "2    funcionários\n",
       "3              em\n",
       "4            meio\n",
       "5               a\n",
       "6         disputa\n",
       "7              de\n",
       "8              US\n",
       "9              84\n",
       "dtype: object"
      ]
     },
     "execution_count": 82,
     "metadata": {},
     "output_type": "execute_result"
    }
   ],
   "source": [
    "todas_dados_relevantes=texto_relevantes_f.split()\n",
    "serie_relevante = pd.Series(todas_dados_relevantes)\n",
    "serie_relevante.head(10)"
   ]
  },
  {
   "cell_type": "code",
   "execution_count": 83,
   "id": "042ac653",
   "metadata": {},
   "outputs": [],
   "source": [
    "todas_dados_irelevantes=texto_irelevantes_f.split()\n",
    "serie_irelevante = pd.Series(todas_dados_irelevantes)\n",
    "#serie_irelevante.head(10)\n"
   ]
  },
  {
   "cell_type": "code",
   "execution_count": 84,
   "id": "71e8c480",
   "metadata": {},
   "outputs": [
    {
     "data": {
      "text/plain": [
       "de            254\n",
       "Bitcoin       194\n",
       "e             160\n",
       "BTC           108\n",
       "em             99\n",
       "             ... \n",
       "levanta         1\n",
       "expandir        1\n",
       "Vendas          1\n",
       "excessivas      1\n",
       "perder          1\n",
       "Length: 1203, dtype: int64"
      ]
     },
     "execution_count": 84,
     "metadata": {},
     "output_type": "execute_result"
    }
   ],
   "source": [
    "tabela_relevante=serie_relevante.value_counts()\n",
    "tabela_relevante"
   ]
  },
  {
   "cell_type": "code",
   "execution_count": 85,
   "id": "bca0dd1c",
   "metadata": {},
   "outputs": [
    {
     "data": {
      "text/plain": [
       "de             220\n",
       "do             128\n",
       "Bitcoin        125\n",
       "bitcoin        103\n",
       "e               88\n",
       "              ... \n",
       "intersecção      1\n",
       "Porto            1\n",
       "Alegre           1\n",
       "Estudo           1\n",
       "fevereiro        1\n",
       "Length: 1345, dtype: int64"
      ]
     },
     "execution_count": 85,
     "metadata": {},
     "output_type": "execute_result"
    }
   ],
   "source": [
    "tabela_irelevante=serie_irelevante.value_counts()\n",
    "tabela_irelevante"
   ]
  },
  {
   "cell_type": "code",
   "execution_count": 86,
   "id": "1f437b7f",
   "metadata": {},
   "outputs": [],
   "source": [
    "tabela_relevante_rel=serie_relevante.value_counts(True)"
   ]
  },
  {
   "cell_type": "code",
   "execution_count": 87,
   "id": "1c46c2df",
   "metadata": {},
   "outputs": [],
   "source": [
    "tabela_irelevante_rel=serie_irelevante.value_counts(True)"
   ]
  },
  {
   "cell_type": "code",
   "execution_count": 88,
   "id": "7182e4d8",
   "metadata": {},
   "outputs": [
    {
     "data": {
      "text/plain": [
       "de           0.060467\n",
       "Bitcoin      0.040694\n",
       "e            0.031637\n",
       "do           0.026534\n",
       "bitcoin      0.022579\n",
       "               ...   \n",
       "expandir     0.000128\n",
       "levanta      0.000128\n",
       "fio          0.000128\n",
       "errado”      0.000128\n",
       "fevereiro    0.000128\n",
       "Length: 2081, dtype: float64"
      ]
     },
     "execution_count": 88,
     "metadata": {},
     "output_type": "execute_result"
    }
   ],
   "source": [
    "todas_texto=texto_f.split()\n",
    "serie_todas=pd.Series(todas_texto)\n",
    "tabela_todas=serie_todas.value_counts()\n",
    "tabela_todas_rel=serie_todas.value_counts(True)\n",
    "tabela_todas_rel\n",
    "#todas_texto"
   ]
  },
  {
   "cell_type": "code",
   "execution_count": 89,
   "id": "16160030",
   "metadata": {},
   "outputs": [
    {
     "name": "stdout",
     "output_type": "stream",
     "text": [
      "0.5551728536803163\n",
      "0.4448271463196836\n"
     ]
    }
   ],
   "source": [
    "\n",
    "probR=len(todas_dados_relevantes)/len(todas_texto)\n",
    "probI=len(todas_dados_irelevantes)/len(todas_texto)\n",
    "print(probR)\n",
    "print(probI)\n"
   ]
  },
  {
   "cell_type": "code",
   "execution_count": 90,
   "id": "380e8b99",
   "metadata": {},
   "outputs": [],
   "source": [
    "def go20(frase):\n",
    "    frase_2=cleanup(frase)\n",
    "    frase_f=frase_2.split()\n",
    "    probFraseDadoR=1\n",
    "    x=0\n",
    "    y=0\n",
    "    probFraseDadoI=1\n",
    "    lista=[]\n",
    "    tanafrase=True\n",
    "    tanafrasei=True\n",
    "    for i in frase_f:\n",
    "        if i not in tabela_relevante:\n",
    "            tanafrase=False\n",
    "            \n",
    "        if i not in tabela_irelevante:\n",
    "            tanafrasei=False\n",
    "        \n",
    "    for i in frase_f:\n",
    "        \n",
    "        for c in matriz:\n",
    "            if i in c:\n",
    "                \n",
    "                lista.append(c)\n",
    "               \n",
    "    res = []\n",
    "    track = []\n",
    "    count = 0\n",
    "  \n",
    "    for sub in lista:\n",
    "        res.append([]);\n",
    "        for ele in sub:\n",
    "            if ele not in track:\n",
    "                res[count].append(ele)\n",
    "                track.append(ele)\n",
    "    c=0\n",
    "    for number in res:\n",
    "        c+=len(number)\n",
    "\n",
    "    for word in frase_f:\n",
    "        if not tanafrase:\n",
    "            if word in tabela_relevante_rel:\n",
    "                x=(tabela_relevante_rel[word]*len(todas_dados_relevantes))+1\n",
    "                probFraseDadoR=probFraseDadoR*(x/(len(todas_texto)+c))\n",
    "            else:\n",
    "                probFraseDadoR=probFraseDadoR*(1/(len(todas_texto)+c))\n",
    "        if not tanafrasei:\n",
    "            if word in tabela_irelevante_rel:\n",
    "                y=(tabela_irelevante_rel[word]*len(todas_dados_irelevantes))+1\n",
    "                probFraseDadoI=probFraseDadoI*(y/(len(todas_texto)+c))\n",
    "            else:\n",
    "                probFraseDadoI=probFraseDadoI*(1/(len(todas_texto)+c))\n",
    "            \n",
    "        if tanafrasei:\n",
    "            probFraseDadoI=probFraseDadoI*tabela_irelevante_rel[word]\n",
    "    \n",
    "        if tanafrase:\n",
    "            probFraseDadoR=probFraseDadoR*tabela_relevante_rel[word]\n",
    "\n",
    "    if probFraseDadoR>probFraseDadoI:\n",
    "        return 'relevante'\n",
    "    else:\n",
    "        return 'Irrelevante'\n",
    "    \n",
    "                                       \n",
    "        \n",
    "        \n",
    "                \n",
    "            \n",
    "            \n",
    "    "
   ]
  },
  {
   "cell_type": "code",
   "execution_count": 91,
   "id": "8f988c8c",
   "metadata": {},
   "outputs": [
    {
     "name": "stdout",
     "output_type": "stream",
     "text": [
      "relevante\n"
     ]
    }
   ],
   "source": [
    "print(go20('Bitcoin subiu em 4%'))"
   ]
  },
  {
   "cell_type": "code",
   "execution_count": 94,
   "id": "6152cbe2",
   "metadata": {},
   "outputs": [],
   "source": [
    "def matrizes(dados):\n",
    "    i=0\n",
    "    lista=[]\n",
    "    while i<len(dados):\n",
    "        lista.append(dados[i])\n",
    "        i+=1\n",
    "    matriz=[]\n",
    "    for i in lista:\n",
    "        frase_ma=cleanup(i)\n",
    "        frase_matriz=frase_ma.split()\n",
    "        matriz.append(frase_matriz)\n",
    "    return matriz\n",
    "matriz=matrizes(dados['Titulo'])"
   ]
  },
  {
   "cell_type": "code",
   "execution_count": 95,
   "id": "94f7a293",
   "metadata": {},
   "outputs": [],
   "source": [
    "def go20(frase,matrizl):\n",
    "    frase_2=cleanup(frase)\n",
    "    frase_f=frase_2.split()\n",
    "    probFraseDadoR=1\n",
    "    x=0\n",
    "    y=0\n",
    "    probFraseDadoI=1\n",
    "    lista=[]\n",
    "    tanafrase=True\n",
    "    tanafrasei=True\n",
    "    for i in frase_f:\n",
    "        if i not in tabela_relevante:\n",
    "            tanafrase=False\n",
    "            \n",
    "        if i not in tabela_irelevante:\n",
    "            tanafrasei=False\n",
    "        \n",
    "    for i in frase_f:\n",
    "        \n",
    "        for c in matrizl:\n",
    "            if i in c:\n",
    "                \n",
    "                lista.append(c)\n",
    "               \n",
    "    res = []\n",
    "    track = []\n",
    "    count = 0\n",
    "  \n",
    "    for sub in lista:\n",
    "        res.append([]);\n",
    "        for ele in sub:\n",
    "            if ele not in track:\n",
    "                res[count].append(ele)\n",
    "                track.append(ele)\n",
    "    c=0\n",
    "    for number in res:\n",
    "        c+=len(number)\n",
    "\n",
    "    for word in frase_f:\n",
    "        if not tanafrase:\n",
    "            if word in tabela_relevante_rel:\n",
    "                x=(tabela_relevante_rel[word]*len(todas_dados_relevantes))+1\n",
    "                probFraseDadoR=probFraseDadoR*(x/(len(todas_texto)+c))\n",
    "            else:\n",
    "                probFraseDadoR=probFraseDadoR*(1/(len(todas_texto)+c))\n",
    "        if not tanafrasei:\n",
    "            if word in tabela_irelevante_rel:\n",
    "                y=(tabela_irelevante_rel[word]*len(todas_dados_irelevantes))+1\n",
    "                probFraseDadoI=probFraseDadoI*(y/(len(todas_texto)+c))\n",
    "            else:\n",
    "                probFraseDadoI=probFraseDadoI*(1/(len(todas_texto)+c))\n",
    "            \n",
    "        if tanafrasei:\n",
    "            probFraseDadoI=probFraseDadoI*tabela_irelevante_rel[word]\n",
    "    \n",
    "        if tanafrase:\n",
    "            probFraseDadoR=probFraseDadoR*tabela_relevante_rel[word]\n",
    "\n",
    "    if probFraseDadoR>probFraseDadoI:\n",
    "        return 'relevante'\n",
    "    else:\n",
    "        return 'Irrelevante'"
   ]
  },
  {
   "cell_type": "code",
   "execution_count": 98,
   "id": "7c397003",
   "metadata": {},
   "outputs": [
    {
     "name": "stderr",
     "output_type": "stream",
     "text": [
      "C:\\Users\\henri\\AppData\\Local\\Temp\\ipykernel_73616\\3396010504.py:19: SettingWithCopyWarning: \n",
      "A value is trying to be set on a copy of a slice from a DataFrame\n",
      "\n",
      "See the caveats in the documentation: https://pandas.pydata.org/pandas-docs/stable/user_guide/indexing.html#returning-a-view-versus-a-copy\n",
      "  dados2['Target teste'][c]=0\n",
      "C:\\Users\\henri\\AppData\\Local\\Temp\\ipykernel_73616\\3396010504.py:16: SettingWithCopyWarning: \n",
      "A value is trying to be set on a copy of a slice from a DataFrame\n",
      "\n",
      "See the caveats in the documentation: https://pandas.pydata.org/pandas-docs/stable/user_guide/indexing.html#returning-a-view-versus-a-copy\n",
      "  dados2['Target teste'][c]=1\n"
     ]
    }
   ],
   "source": [
    "dados2 = pd.read_excel('dados_teste.xlsx')\n",
    "matriz2=matrizes(dados2['Titulo'])\n",
    "listax=[]\n",
    "c=0\n",
    "dados2['Target teste']=dados2['Target']\n",
    "\n",
    "resultado=''\n",
    "for i in matriz2:\n",
    "    frase_teste=''\n",
    "    for letra in i:\n",
    "        frase_teste+=letra+' '\n",
    "    resultado=go20(frase_teste,matriz2)\n",
    "    \n",
    "    if resultado=='relevante':\n",
    "        listax.append(1)\n",
    "        dados2['Target teste'][c]=1\n",
    "        \n",
    "    elif resultado=='Irrelevante':\n",
    "        dados2['Target teste'][c]=0\n",
    "        listax.append(0)\n",
    "    c+=1"
   ]
  },
  {
   "cell_type": "code",
   "execution_count": 103,
   "id": "daf55ee2",
   "metadata": {},
   "outputs": [
    {
     "name": "stdout",
     "output_type": "stream",
     "text": [
      "A porcentagem de acerto da previsão do código é de: 65.83%\n"
     ]
    }
   ],
   "source": [
    "count=0\n",
    "certas=0\n",
    "while count<len(dados2):\n",
    "    if dados2['Target'][count]==dados2['Target teste'][count]:\n",
    "        certas+=1\n",
    "    count+=1\n",
    "print('A porcentagem de acerto da previsão do código é de: {:.2f}%'.format((certas/count)*100))"
   ]
  }
 ],
 "metadata": {
  "kernelspec": {
   "display_name": "Python 3.9.12 ('base')",
   "language": "python",
   "name": "python3"
  },
  "language_info": {
   "codemirror_mode": {
    "name": "ipython",
    "version": 3
   },
   "file_extension": ".py",
   "mimetype": "text/x-python",
   "name": "python",
   "nbconvert_exporter": "python",
   "pygments_lexer": "ipython3",
   "version": "3.9.12"
  },
  "vscode": {
   "interpreter": {
    "hash": "b4dbf65eb2934af93dfe8402dc5043295a9b874b2f4a935919e1627f38520e4d"
   }
  }
 },
 "nbformat": 4,
 "nbformat_minor": 5
}
